{
 "cells": [
  {
   "cell_type": "code",
   "execution_count": 16,
   "metadata": {
    "ExecuteTime": {
     "end_time": "2021-10-09T14:13:45.748412Z",
     "start_time": "2021-10-09T14:13:45.736412Z"
    }
   },
   "outputs": [],
   "source": [
    "import geopandas as gp\n",
    "import pandas as pd\n",
    "import numpy as np\n",
    "import networkx as nx\n",
    "import os\n",
    "from shapely.geometry import Point, Polygon, LineString, mapping\n",
    "from shapely import geometry\n",
    "from simpledbf import Dbf5\n",
    "import warnings\n",
    "warnings.filterwarnings('ignore')"
   ]
  },
  {
   "cell_type": "code",
   "execution_count": 2,
   "metadata": {
    "ExecuteTime": {
     "end_time": "2021-10-09T13:50:06.302978Z",
     "start_time": "2021-10-09T13:50:06.288170Z"
    }
   },
   "outputs": [],
   "source": [
    "# GTFS during different times\n",
    "GTFS_Dir_May2021 = r'C:\\Users\\xzh263\\Dropbox (KTC)\\SFCTA CMP\\2021 CMP\\APC\\gtfs_may13'\n",
    "GTFS_Dir_Apr2020 = r'C:\\Users\\xzh263\\Dropbox (KTC)\\SFCTA CMP\\2021 CMP\\Coverage\\gtfs_2020april9'\n",
    "GTFS_Dir_Oct2019 = r'C:\\Users\\xzh263\\Dropbox (KTC)\\SFCTA CMP\\2021 CMP\\Coverage\\gtfs_2019oct9'\n",
    "\n",
    "# OSM Streets\n",
    "Streets_Dir = r'Z:\\SF_CMP\\CMP2021\\Speed Limits per Street Segment'\n",
    "\n",
    "# Directory for saving outputs\n",
    "Coverage_Dir = r'C:\\Users\\xzh263\\Dropbox (KTC)\\SFCTA CMP\\2021 CMP\\Coverage'"
   ]
  },
  {
   "cell_type": "code",
   "execution_count": null,
   "metadata": {},
   "outputs": [],
   "source": [
    "#### SFCTA Paths\n",
    "\n",
    "# GTFS during different times\n",
    "GTFS_Dir_May2021 = r'Q:\\Data\\GTFS\\MUNI\\gtfs_2021may13'\n",
    "GTFS_Dir_Apr2020 = r'Q:\\Data\\GTFS\\MUNI\\gtfs_2020april9'\n",
    "GTFS_Dir_Oct2019 = r'Q:\\Data\\GTFS\\MUNI\\gtfs_2019oct9'\n",
    "\n",
    "# OSM Streets\n",
    "Streets_Dir = r'Q:\\CMP\\LOS Monitoring 2021\\Transit\\Coverage\\Speed Limits per Street Segment'\n",
    "\n",
    "# Directory for saving outputs\n",
    "Coverage_Dir = r'Q:\\CMP\\LOS Monitoring 2021\\Transit\\Coverage'"
   ]
  },
  {
   "cell_type": "code",
   "execution_count": 3,
   "metadata": {
    "ExecuteTime": {
     "end_time": "2021-10-09T13:50:07.131670Z",
     "start_time": "2021-10-09T13:50:07.125670Z"
    }
   },
   "outputs": [],
   "source": [
    "#Define WGS 1984 coordinate system\n",
    "wgs84 = {'proj': 'longlat', 'ellps': 'WGS84', 'datum': 'WGS84', 'no_defs': True}\n",
    "\n",
    "#Define NAD 1983 StatePlane California III\n",
    "cal3 = {'proj': 'lcc +lat_1=37.06666666666667 +lat_2=38.43333333333333 +lat_0=36.5 +lon_0=-120.5 +x_0=2000000 +y_0=500000.0000000002', 'ellps': 'GRS80', 'datum': 'NAD83', 'no_defs': True}"
   ]
  },
  {
   "cell_type": "markdown",
   "metadata": {},
   "source": [
    "# GTFS Files "
   ]
  },
  {
   "cell_type": "code",
   "execution_count": 4,
   "metadata": {
    "ExecuteTime": {
     "end_time": "2021-10-09T13:50:26.318506Z",
     "start_time": "2021-10-09T13:50:26.305506Z"
    }
   },
   "outputs": [],
   "source": [
    "def generate_transit_stops_geo(stop_dir):\n",
    "    stops=pd.read_csv(os.path.join(stop_dir, 'stops.txt'))\n",
    "    stops['geometry'] = list(zip(stops.stop_lon, stops.stop_lat))\n",
    "    stops['geometry'] = stops['geometry'].apply(Point)\n",
    "    stops = gp.GeoDataFrame(stops, geometry='geometry', crs={'init': 'epsg:4326'})\n",
    "    return stops"
   ]
  },
  {
   "cell_type": "code",
   "execution_count": 5,
   "metadata": {
    "ExecuteTime": {
     "end_time": "2021-10-09T13:50:27.601560Z",
     "start_time": "2021-10-09T13:50:27.590557Z"
    }
   },
   "outputs": [],
   "source": [
    "def generate_transit_shapes_geo(stop_dir):\n",
    "    shapes=pd.read_csv(os.path.join(stop_dir, 'shapes.txt'))\n",
    "    shapes_gdf = pd.DataFrame()\n",
    "    shape_ids = shapes.shape_id.unique().tolist()\n",
    "    rid = 0\n",
    "    for shpid in shape_ids:\n",
    "        shp = shapes[shapes['shape_id']==shpid].sort_values(by='shape_pt_sequence')\n",
    "        linestr = LineString(zip(shp.shape_pt_lon, shp.shape_pt_lat))\n",
    "        linestr = gp.GeoDataFrame(index=[shpid], crs='epsg:4326', geometry=[linestr]) \n",
    "        shapes_gdf = shapes_gdf.append(linestr)\n",
    "        rid = rid + 1\n",
    "    shapes_gdf = shapes_gdf.reset_index()\n",
    "    shapes_gdf.columns = ['shape_id', 'geometry']\n",
    "    \n",
    "    trips = pd.read_csv(os.path.join(stop_dir, 'trips.txt'))\n",
    "    trips_shapes = shapes_gdf[shapes_gdf['shape_id'].isin(trips['shape_id'])]\n",
    "    return trips, shapes, trips_shapes"
   ]
  },
  {
   "cell_type": "code",
   "execution_count": 6,
   "metadata": {
    "ExecuteTime": {
     "end_time": "2021-10-09T13:50:36.150083Z",
     "start_time": "2021-10-09T13:50:36.131083Z"
    }
   },
   "outputs": [],
   "source": [
    "def frequent_bus_routes(gtfs_dir, begin_hour, end_hour, headway, outname):\n",
    "    routes_info_cur=pd.read_csv(os.path.join(gtfs_dir, 'routes.txt'))\n",
    "    stops_cur = generate_transit_stops_geo(gtfs_dir)\n",
    "    trips_cur, shapes_cur, trips_shapes_cur = generate_transit_shapes_geo(gtfs_dir)\n",
    "    \n",
    "    #There may be multiples shapes for the same route, so here the most frequent shape is used for each route_id\n",
    "    trips_shapes_cur_mcv = trips_cur.groupby(['route_id'])['shape_id'].agg(lambda x:x.value_counts().index[0]).reset_index()\n",
    "    stop_times_cur = pd.read_csv(os.path.join(gtfs_dir, 'stop_times.txt'))\n",
    "    stop_times_cur['departure_hour'] = stop_times_cur['departure_time'].apply(lambda x: int(x[0:2]))\n",
    "\n",
    "    trips_cur_hour = pd.merge(trips_cur, \n",
    "                          stop_times_cur[stop_times_cur['stop_sequence']==1][['trip_id', 'arrival_time', 'departure_time', 'departure_hour']],\n",
    "                         on='trip_id', how='left')\n",
    "    \n",
    "    trips_cur_period = trips_cur_hour[(trips_cur_hour['departure_hour']>=begin_hour) & (trips_cur_hour['departure_hour']<end_hour)]\n",
    "    route_hour_counts = trips_cur_period.groupby(['route_id', 'departure_hour']).trip_id.count().reset_index()\n",
    "    route_hour_counts.columns = ['route_id', 'hour', 'trips']\n",
    "    frequency = 60/headway\n",
    "    route_hour_counts_frequent = route_hour_counts[route_hour_counts['trips']>=frequency].groupby(['route_id']).hour.count().reset_index()\n",
    "    route_hour_counts_frequent.columns = ['route_id', 'hour_count']\n",
    "    \n",
    "    num_hours = end_hour - begin_hour\n",
    "    route_frequent = route_hour_counts_frequent[route_hour_counts_frequent['hour_count']==num_hours]\n",
    "    route_frequent_shapes = route_frequent.merge(trips_shapes_cur_mcv, on='route_id', how='left')\n",
    "    \n",
    "    route_frequent_shapes = trips_shapes_cur.merge(route_frequent_shapes, on='shape_id')\n",
    "    route_frequent_shapes = route_frequent_shapes.merge(routes_info_cur, on='route_id', how='left')\n",
    "    route_frequent_shapes.to_file(os.path.join(Coverage_Dir, 'route_frequent_5min_' + outname + '.shp'))\n",
    "    \n",
    "    route_frequent_trips = trips_cur_hour[trips_cur_hour['route_id'].isin(route_frequent['route_id'])]\n",
    "    \n",
    "    stop_times_by_route = stop_times_cur.merge(trips_cur[['route_id', 'trip_id']], on='trip_id', how='left')\n",
    "    stop_times_by_route = stop_times_by_route[(stop_times_by_route['departure_hour']>=begin_hour) & (stop_times_by_route['departure_hour']<end_hour)]\n",
    "    stop_route_hour_count = stop_times_by_route.groupby(['stop_id', 'route_id', 'departure_hour']).trip_id.count().reset_index()\n",
    "    stop_route_hour_count.columns = ['stop_id', 'route_id', 'hour', 'trips']\n",
    "    stop_route_hour_count_frequent = stop_route_hour_count[stop_route_hour_count['trips']>=frequency].groupby(['stop_id', 'route_id']).hour.count().reset_index()\n",
    "    stop_route_hour_count_frequent.columns = ['stop_id', 'route_id', 'hour_count']\n",
    "    stop_frequent = stop_route_hour_count_frequent[stop_route_hour_count_frequent['hour_count']==num_hours]\n",
    "    stop_frequent_list = stop_frequent.stop_id.unique().tolist()\n",
    "    stop_frequent_gdf = stops_cur[stops_cur['stop_id'].isin(stop_frequent_list)]\n",
    "    stop_frequent_gdf.to_file(os.path.join(Coverage_Dir, 'route_frequent_5min_stops_' + outname + '.shp'))\n",
    "    \n",
    "    return stop_frequent_list"
   ]
  },
  {
   "cell_type": "code",
   "execution_count": 7,
   "metadata": {
    "ExecuteTime": {
     "end_time": "2021-10-09T13:50:53.274945Z",
     "start_time": "2021-10-09T13:50:40.103943Z"
    }
   },
   "outputs": [],
   "source": [
    "# Currently looking at 5-minute headway during 6am - 8pm\n",
    "\n",
    "# High frequency transit routes May 2021\n",
    "gtfs_dir, begin_hour, end_hour, headway, outname = GTFS_Dir_May2021, 6, 20, 5, '2021may'\n",
    "stop_frequent_list_2021may = frequent_bus_routes(gtfs_dir, begin_hour, end_hour, headway, outname)"
   ]
  },
  {
   "cell_type": "code",
   "execution_count": 8,
   "metadata": {
    "ExecuteTime": {
     "end_time": "2021-10-09T13:50:58.841193Z",
     "start_time": "2021-10-09T13:50:53.274945Z"
    }
   },
   "outputs": [],
   "source": [
    "# High frequency transit routes April 2020\n",
    "gtfs_dir, begin_hour, end_hour, headway, outname = GTFS_Dir_Apr2020, 6, 20, 5, '2020april'\n",
    "stop_frequent_list_2020april = frequent_bus_routes(gtfs_dir, begin_hour, end_hour, headway, outname)"
   ]
  },
  {
   "cell_type": "code",
   "execution_count": 17,
   "metadata": {
    "ExecuteTime": {
     "end_time": "2021-10-09T14:14:07.546229Z",
     "start_time": "2021-10-09T14:13:45.751420Z"
    }
   },
   "outputs": [],
   "source": [
    "# High frequency transit routes October 2019\n",
    "gtfs_dir, begin_hour, end_hour, headway, outname = GTFS_Dir_Oct2019, 6, 20, 5, '2019october'\n",
    "stop_frequent_list_2019oct = frequent_bus_routes(gtfs_dir, begin_hour, end_hour, headway, outname)"
   ]
  },
  {
   "cell_type": "markdown",
   "metadata": {},
   "source": [
    "# OSM Streets"
   ]
  },
  {
   "cell_type": "code",
   "execution_count": 10,
   "metadata": {
    "ExecuteTime": {
     "end_time": "2021-10-09T14:13:31.794970Z",
     "start_time": "2021-10-09T13:51:21.670898Z"
    }
   },
   "outputs": [],
   "source": [
    "streets = gp.read_file(os.path.join(Streets_Dir, 'geo_export_9ad6ce01-77b2-4f96-baab-ea71112b2a00.shp'))\n",
    "streets.insert(0, 'LinkID', range(1, len(streets)+1))\n",
    "streets = streets.to_crs(cal3)"
   ]
  },
  {
   "cell_type": "code",
   "execution_count": 11,
   "metadata": {
    "ExecuteTime": {
     "end_time": "2021-10-09T14:13:32.857254Z",
     "start_time": "2021-10-09T14:13:31.794970Z"
    }
   },
   "outputs": [],
   "source": [
    "def latlong(x):\n",
    "    return round(x.coords.xy[1][0],6), round(x.coords.xy[0][0], 6), round(x.coords.xy[1][-1], 6), round(x.coords.xy[0][-1], 6)\n",
    "streets['B_Lat'], streets['B_Long'], streets['E_Lat'], streets['E_Long'] = zip(*streets['geometry'].map(latlong))\n",
    "\n",
    "b_nodes = streets[['B_Lat', 'B_Long']]\n",
    "b_nodes.columns = ['Lat', 'Long']\n",
    "\n",
    "e_nodes = streets[['E_Lat', 'E_Long']]\n",
    "e_nodes.columns = ['Lat', 'Long']\n",
    "\n",
    "streets_endnodes = b_nodes.append(e_nodes, ignore_index=True).reset_index()\n",
    "\n",
    "# Assign unique node id\n",
    "endnodes_cnt=streets_endnodes.groupby(['Lat', 'Long']).index.count().reset_index()\n",
    "endnodes_cnt.rename(columns={'index':'NodeCnt'}, inplace=True)\n",
    "endnodes_cnt['NodeID'] = endnodes_cnt.index+1\n",
    "\n",
    "# Generate the the unique node shapefile  \n",
    "endnodes_cnt['geometry'] = list(zip(endnodes_cnt.Long, endnodes_cnt.Lat))\n",
    "endnodes_cnt['geometry'] = endnodes_cnt['geometry'].apply(Point)\n",
    "endnodes_unique_gpd = gp.GeoDataFrame(endnodes_cnt, geometry='geometry')\n",
    "endnodes_unique_gpd.crs = cal3\n",
    "#endnodes_unique_gpd.to_file(os.path.join(Streets_Dir, 'streets_endnodes.shp'))"
   ]
  },
  {
   "cell_type": "code",
   "execution_count": 12,
   "metadata": {
    "ExecuteTime": {
     "end_time": "2021-10-09T14:13:32.919257Z",
     "start_time": "2021-10-09T14:13:32.859257Z"
    }
   },
   "outputs": [],
   "source": [
    "endnodes_cnt = endnodes_cnt[['Lat', 'Long', 'NodeCnt', 'NodeID']]\n",
    "endnodes_cnt.columns = ['B_Lat', 'B_Long', 'B_NodeCnt', 'B_NodeID']\n",
    "\n",
    "streets = streets.merge(endnodes_cnt, on=['B_Lat', 'B_Long'], how='left')\n",
    "\n",
    "endnodes_cnt.columns = ['E_Lat', 'E_Long', 'E_NodeCnt', 'E_NodeID']\n",
    "streets = streets.merge(endnodes_cnt, on=['E_Lat', 'E_Long'], how='left')\n",
    "\n",
    "endnodes_cnt.columns = ['Lat', 'Long', 'NodeCnt', 'NodeID']"
   ]
  },
  {
   "cell_type": "code",
   "execution_count": 13,
   "metadata": {
    "ExecuteTime": {
     "end_time": "2021-10-09T14:13:33.045263Z",
     "start_time": "2021-10-09T14:13:32.921258Z"
    }
   },
   "outputs": [],
   "source": [
    "streets['length'] = 3.2808 * streets.geometry.length\n",
    "streets['b_e'] = list(zip(streets['B_NodeID'], streets['E_NodeID']))\n",
    "streets['e_b'] = list(zip(streets['E_NodeID'], streets['B_NodeID']))"
   ]
  },
  {
   "cell_type": "code",
   "execution_count": 14,
   "metadata": {
    "ExecuteTime": {
     "end_time": "2021-10-09T14:13:33.093265Z",
     "start_time": "2021-10-09T14:13:33.047266Z"
    }
   },
   "outputs": [
    {
     "data": {
      "text/html": [
       "<div>\n",
       "<style scoped>\n",
       "    .dataframe tbody tr th:only-of-type {\n",
       "        vertical-align: middle;\n",
       "    }\n",
       "\n",
       "    .dataframe tbody tr th {\n",
       "        vertical-align: top;\n",
       "    }\n",
       "\n",
       "    .dataframe thead th {\n",
       "        text-align: right;\n",
       "    }\n",
       "</style>\n",
       "<table border=\"1\" class=\"dataframe\">\n",
       "  <thead>\n",
       "    <tr style=\"text-align: right;\">\n",
       "      <th></th>\n",
       "      <th>LinkID</th>\n",
       "      <th>cnn</th>\n",
       "      <th>street</th>\n",
       "      <th>st_type</th>\n",
       "      <th>from_st</th>\n",
       "      <th>to_st</th>\n",
       "      <th>speedlimit</th>\n",
       "      <th>schoolzone</th>\n",
       "      <th>schoolzo_2</th>\n",
       "      <th>mtab_date</th>\n",
       "      <th>...</th>\n",
       "      <th>geometry</th>\n",
       "      <th>B_Lat</th>\n",
       "      <th>B_Long</th>\n",
       "      <th>E_Lat</th>\n",
       "      <th>E_Long</th>\n",
       "      <th>B_NodeCnt</th>\n",
       "      <th>B_NodeID</th>\n",
       "      <th>E_NodeCnt</th>\n",
       "      <th>E_NodeID</th>\n",
       "      <th>length</th>\n",
       "    </tr>\n",
       "  </thead>\n",
       "  <tbody>\n",
       "    <tr>\n",
       "      <th>0</th>\n",
       "      <td>1</td>\n",
       "      <td>0.0</td>\n",
       "      <td>None</td>\n",
       "      <td>None</td>\n",
       "      <td>None</td>\n",
       "      <td>None</td>\n",
       "      <td>15.0</td>\n",
       "      <td>YES</td>\n",
       "      <td>NaN</td>\n",
       "      <td>None</td>\n",
       "      <td>...</td>\n",
       "      <td>LINESTRING (1831516.320542698 641094.489531114...</td>\n",
       "      <td>641094.489531</td>\n",
       "      <td>1.831516e+06</td>\n",
       "      <td>640916.338492</td>\n",
       "      <td>1.831526e+06</td>\n",
       "      <td>6</td>\n",
       "      <td>4742</td>\n",
       "      <td>5</td>\n",
       "      <td>4587</td>\n",
       "      <td>585.418103</td>\n",
       "    </tr>\n",
       "    <tr>\n",
       "      <th>1</th>\n",
       "      <td>2</td>\n",
       "      <td>113000.0</td>\n",
       "      <td>01ST</td>\n",
       "      <td>ST</td>\n",
       "      <td>LANSING ST</td>\n",
       "      <td>HARRISON ST</td>\n",
       "      <td>25.0</td>\n",
       "      <td>None</td>\n",
       "      <td>NaN</td>\n",
       "      <td>None</td>\n",
       "      <td>...</td>\n",
       "      <td>LINESTRING (1833237.490636124 644460.751112319...</td>\n",
       "      <td>644460.751112</td>\n",
       "      <td>1.833237e+06</td>\n",
       "      <td>644414.791919</td>\n",
       "      <td>1.833281e+06</td>\n",
       "      <td>3</td>\n",
       "      <td>7469</td>\n",
       "      <td>5</td>\n",
       "      <td>7436</td>\n",
       "      <td>208.744593</td>\n",
       "    </tr>\n",
       "  </tbody>\n",
       "</table>\n",
       "<p>2 rows × 24 columns</p>\n",
       "</div>"
      ],
      "text/plain": [
       "   LinkID       cnn street st_type     from_st        to_st  speedlimit  \\\n",
       "0       1       0.0   None    None        None         None        15.0   \n",
       "1       2  113000.0   01ST      ST  LANSING ST  HARRISON ST        25.0   \n",
       "\n",
       "  schoolzone  schoolzo_2 mtab_date  ...  \\\n",
       "0        YES         NaN      None  ...   \n",
       "1       None         NaN      None  ...   \n",
       "\n",
       "                                            geometry          B_Lat  \\\n",
       "0  LINESTRING (1831516.320542698 641094.489531114...  641094.489531   \n",
       "1  LINESTRING (1833237.490636124 644460.751112319...  644460.751112   \n",
       "\n",
       "         B_Long          E_Lat        E_Long  B_NodeCnt  B_NodeID  E_NodeCnt  \\\n",
       "0  1.831516e+06  640916.338492  1.831526e+06          6      4742          5   \n",
       "1  1.833237e+06  644414.791919  1.833281e+06          3      7469          5   \n",
       "\n",
       "   E_NodeID      length  \n",
       "0      4587  585.418103  \n",
       "1      7436  208.744593  \n",
       "\n",
       "[2 rows x 24 columns]"
      ]
     },
     "execution_count": 14,
     "metadata": {},
     "output_type": "execute_result"
    }
   ],
   "source": [
    "streets.head(2)"
   ]
  },
  {
   "cell_type": "code",
   "execution_count": 15,
   "metadata": {
    "ExecuteTime": {
     "end_time": "2021-10-09T14:13:45.732414Z",
     "start_time": "2021-10-09T14:13:33.095265Z"
    }
   },
   "outputs": [],
   "source": [
    "streets.to_file(os.path.join(Streets_Dir, 'streets_with_endnodes.shp'))"
   ]
  },
  {
   "cell_type": "markdown",
   "metadata": {},
   "source": [
    "# Build Walking Network"
   ]
  },
  {
   "cell_type": "code",
   "execution_count": 18,
   "metadata": {
    "ExecuteTime": {
     "end_time": "2021-10-09T14:23:43.436325Z",
     "start_time": "2021-10-09T14:14:07.548229Z"
    }
   },
   "outputs": [],
   "source": [
    "stops_2021may = generate_transit_stops_geo(GTFS_Dir_May2021)\n",
    "stops_2021may = stops_2021may.to_crs(cal3)\n",
    "\n",
    "stops_2020april = generate_transit_stops_geo(GTFS_Dir_Apr2020)\n",
    "stops_2020april = stops_2020april.to_crs(cal3)\n",
    "\n",
    "stops = stops_2021may.append(stops_2020april, ignore_index=True)\n",
    "\n",
    "stops_2019oct = generate_transit_stops_geo(GTFS_Dir_Oct2019)\n",
    "stops_2019oct = stops_2019oct.to_crs(cal3)\n",
    "\n",
    "stops = stops.append(stops_2019oct, ignore_index=True)"
   ]
  },
  {
   "cell_type": "code",
   "execution_count": 20,
   "metadata": {
    "ExecuteTime": {
     "end_time": "2021-10-09T14:24:34.929493Z",
     "start_time": "2021-10-09T14:24:34.916493Z"
    }
   },
   "outputs": [
    {
     "data": {
      "text/plain": [
       "7381"
      ]
     },
     "execution_count": 20,
     "metadata": {},
     "output_type": "execute_result"
    }
   ],
   "source": [
    "len(stops)"
   ]
  },
  {
   "cell_type": "code",
   "execution_count": 28,
   "metadata": {
    "ExecuteTime": {
     "end_time": "2021-10-09T14:32:10.836298Z",
     "start_time": "2021-10-09T14:32:10.817300Z"
    }
   },
   "outputs": [
    {
     "data": {
      "text/plain": [
       "6053"
      ]
     },
     "execution_count": 28,
     "metadata": {},
     "output_type": "execute_result"
    }
   ],
   "source": [
    "stops_unique = stops.drop_duplicates(subset=['stop_id']).reset_index()\n",
    "len(stops_unique)"
   ]
  },
  {
   "cell_type": "code",
   "execution_count": null,
   "metadata": {
    "ExecuteTime": {
     "start_time": "2021-10-11T00:27:13.356Z"
    }
   },
   "outputs": [
    {
     "name": "stdout",
     "output_type": "stream",
     "text": [
      "Processed 16.5 Percent, took 10493.4 seconds\n",
      "Processed 33.0 Percent, took 16397.6 seconds\n",
      "Processed 49.6 Percent, took 38522.1 seconds\n"
     ]
    }
   ],
   "source": [
    "# find the nearest street link and snap the transit stop on to the link\n",
    "\n",
    "stops_unique.insert(0, 'NodeID', range(endnodes_cnt['NodeID'].max() + 1, endnodes_cnt['NodeID'].max() + 1 + len(stops_unique)))\n",
    "import time\n",
    "start_time0=time.time()\n",
    "cnt = 0\n",
    "for idx in range(0, len(stops_unique)):\n",
    "    search_radius = 10 # ft\n",
    "    stop_id = stops_unique.loc[idx]['stop_id']\n",
    "    cur_stop = stops_unique[stops_unique['stop_id']==stop_id]\n",
    "    stop_long, stop_lat = cur_stop['geometry'].x.values[0], cur_stop['geometry'].y.values[0]\n",
    "    stop_point = Point(float(stop_long), float(stop_lat))\n",
    "    cur_stop['geometry'] = cur_stop.geometry.buffer(search_radius/3.2808)\n",
    "\n",
    "    stop_near_links = gp.sjoin(streets[['LinkID', 'B_NodeID', 'E_NodeID', 'geometry']], cur_stop, op='intersects')\n",
    "    while len(stop_near_links)==0:\n",
    "        search_radius = search_radius + 10\n",
    "        cur_stop = stops_unique[stops_unique['stop_id']==stop_id]\n",
    "        cur_stop['geometry'] = cur_stop.geometry.buffer(search_radius/3.2808)\n",
    "        stop_near_links = gp.sjoin(streets[['LinkID', 'B_NodeID', 'E_NodeID', 'geometry']], cur_stop, op='intersects')\n",
    "\n",
    "    links_index = stop_near_links.index.tolist()\n",
    "    stop_dis = np.inf\n",
    "    for ln_idx in links_index:\n",
    "        link_geo = streets.loc[ln_idx]['geometry']\n",
    "        if  stop_point.distance(link_geo) < stop_dis:\n",
    "            stop_dis = stop_point.distance(link_geo)\n",
    "            near_link = streets.loc[ln_idx]['LinkID']\n",
    "            near_link_bid = streets.loc[ln_idx]['B_NodeID']\n",
    "            near_link_eid = streets.loc[ln_idx]['E_NodeID']\n",
    "            link_length = streets.loc[ln_idx]['length'] # ft\n",
    "            stop_to_begin = link_geo.project(stop_point) * 3.2808  #meters to feet\n",
    "            stop_to_end = link_length - stop_to_begin\n",
    "    stops_unique.loc[idx, 'near_link'] = near_link\n",
    "    stops_unique.loc[idx, 'link_length'] = link_length\n",
    "    stops_unique.loc[idx, 'near_dist'] = stop_dis\n",
    "    stops_unique.loc[idx, 'near_link_bid'] = near_link_bid\n",
    "    stops_unique.loc[idx, 'stop_to_begin'] = stop_to_begin\n",
    "    stops_unique.loc[idx, 'near_link_eid'] = near_link_eid\n",
    "    stops_unique.loc[idx, 'stop_to_end'] = stop_to_end\n",
    "    \n",
    "    cnt = cnt + 1\n",
    "    if cnt%1000==0:\n",
    "        print('Processed %s Percent, took %s seconds'% ((round(100*cnt/len(stops_unique),1)), round(time.time() - start_time0, 1)))\n",
    "\n",
    "stops_unique.to_file(os.path.join(Coverage_Dir, 'transit_stops_nearest_links.shp'))"
   ]
  },
  {
   "cell_type": "code",
   "execution_count": null,
   "metadata": {
    "ExecuteTime": {
     "start_time": "2021-10-11T13:33:09.708Z"
    }
   },
   "outputs": [],
   "source": [
    "# construct a network graph\n",
    "tgraph = nx.Graph() \n",
    "\n",
    "# road network nodes\n",
    "tgraph.add_nodes_from(endnodes_cnt.NodeID.tolist())\n",
    "\n",
    "# road network links\n",
    "for i in range (0, len(streets)):\n",
    "    tgraph.add_edge(streets.loc[i,'B_NodeID'], \n",
    "                          streets.loc[i,'E_NodeID'], \n",
    "                          weight = streets.loc[i, 'length'])"
   ]
  },
  {
   "cell_type": "code",
   "execution_count": null,
   "metadata": {
    "ExecuteTime": {
     "start_time": "2021-10-11T13:33:33.329Z"
    }
   },
   "outputs": [],
   "source": [
    "def walking_area(walk_graph, walk_dis, start_node, link_near_stop):\n",
    "    cur_path = dict(nx.single_source_dijkstra_path(walk_graph, start_node, cutoff=walk_dis, weight='weight'))\n",
    "    del cur_path[start_node]\n",
    "    reach_links = {}\n",
    "    for key in cur_path:\n",
    "        sub_path = list(zip(cur_path[key][:-1],cur_path[key][1:]))\n",
    "        for each_link in sub_path:\n",
    "            if each_link in reach_links:\n",
    "                next\n",
    "            else:\n",
    "                reach_links[each_link] = 1\n",
    "    reach_links_df = pd.DataFrame.from_dict(reach_links, orient='index',columns=['accessed']).reset_index()\n",
    "    reach_links_df.rename(columns={'index':'b_e'},inplace=True)\n",
    "    streets_access = streets[(streets['b_e'].isin(reach_links_df['b_e'])) | (streets['e_b'].isin(reach_links_df['b_e'])) | (streets['LinkID']==link_near_stop)]\n",
    "    geom = [x for x in streets_access.geometry]\n",
    "    multi_line = geometry.MultiLineString(geom)\n",
    "    multi_line_polygon = multi_line.convex_hull\n",
    "    \n",
    "    return multi_line_polygon"
   ]
  },
  {
   "cell_type": "code",
   "execution_count": null,
   "metadata": {
    "ExecuteTime": {
     "start_time": "2021-10-11T13:42:31.353Z"
    }
   },
   "outputs": [],
   "source": [
    "# Accessible area from high frequent stops\n",
    "def frequent_access_area(stop_list, stop_with_nearest_link, buffer_radius):\n",
    "    start_time0=time.time()\n",
    "    stop_access_gdf = gp.GeoDataFrame()\n",
    "    cnt = 0\n",
    "    for cur_stop_id in stop_list:\n",
    "        lidx = stop_with_nearest_link.index[stop_with_nearest_link['stop_id']==cur_stop_id][0]\n",
    "        cur_node_id = stop_with_nearest_link.loc[lidx, 'NodeID']\n",
    "        cur_link = stop_with_nearest_link.loc[lidx, 'near_link']\n",
    "\n",
    "        cur_graph = tgraph.copy()\n",
    "        cur_graph.add_node(cur_node_id)\n",
    "        cur_graph.add_edge(stop_with_nearest_link.loc[lidx,'near_link_bid'], \n",
    "                          stop_with_nearest_link.loc[lidx,'NodeID'], \n",
    "                          weight = stop_with_nearest_link.loc[lidx, 'stop_to_begin'])\n",
    "        cur_graph.add_edge(stop_with_nearest_link.loc[lidx,'NodeID'], \n",
    "                              stop_with_nearest_link.loc[lidx,'near_link_eid'], \n",
    "                              weight = stop_with_nearest_link.loc[lidx, 'stop_to_end'])\n",
    "\n",
    "        get_geo = walking_area(cur_graph, buffer_radius, cur_node_id, cur_link)\n",
    "        cur_access_polygon = gp.GeoDataFrame(index=[0], crs=cal3, geometry=[get_geo])\n",
    "        stop_access_gdf = stop_access_gdf.append(cur_access_polygon, ignore_index=True)\n",
    "        cnt = cnt + 1\n",
    "        if cnt%500==0:\n",
    "            print('Processed %s Percent, took %s seconds'% ((round(100*cnt/len(stop_list),3)), round(time.time() - start_time0, 1)))\n",
    "    return stop_access_gdf"
   ]
  },
  {
   "cell_type": "code",
   "execution_count": null,
   "metadata": {
    "ExecuteTime": {
     "start_time": "2021-10-11T13:55:51.561Z"
    }
   },
   "outputs": [],
   "source": [
    "buffer_radius = 0.25 * 5280 # a quarter mile walking distance\n",
    "frequent_stops_access_area_2021may = frequent_access_area(stop_frequent_list_2021may, stops_unique, buffer_radius)\n",
    "frequent_stops_access_union_2021may = frequent_stops_access_area_2021may.geometry.unary_union"
   ]
  },
  {
   "cell_type": "code",
   "execution_count": null,
   "metadata": {
    "ExecuteTime": {
     "start_time": "2021-10-11T13:55:52.086Z"
    }
   },
   "outputs": [],
   "source": [
    "frequent_stops_access_area_2020april = frequent_access_area(stop_frequent_list_2020april, stops_unique, buffer_radius)\n",
    "frequent_stops_access_union_2020april = frequent_stops_access_area_2020april.geometry.unary_union"
   ]
  },
  {
   "cell_type": "code",
   "execution_count": null,
   "metadata": {
    "ExecuteTime": {
     "start_time": "2021-10-11T13:55:52.565Z"
    }
   },
   "outputs": [],
   "source": [
    "frequent_stops_access_area_2019oct = frequent_access_area(stop_frequent_list_2019oct, stops_unique, buffer_radius)\n",
    "frequent_stops_access_union_2019oct = frequent_stops_access_area_2019oct.geometry.unary_union"
   ]
  },
  {
   "cell_type": "markdown",
   "metadata": {},
   "source": [
    "# Attach TAZ attributes"
   ]
  },
  {
   "cell_type": "code",
   "execution_count": null,
   "metadata": {
    "ExecuteTime": {
     "start_time": "2021-10-11T13:55:56.300Z"
    }
   },
   "outputs": [],
   "source": [
    "taz_shp = gp.read_file(os.path.join(Coverage_Dir, 'TAZ2454_clean\\TAZ2454_clean.shp'))\n",
    "taz_sf_shp = taz_shp[taz_shp['COUNTY']==1] \n",
    "print('Number of TAZs in SF', len(taz_sf_shp))\n",
    "taz_sf_shp = taz_sf_shp.to_crs(cal3)"
   ]
  },
  {
   "cell_type": "code",
   "execution_count": null,
   "metadata": {
    "ExecuteTime": {
     "start_time": "2021-10-11T13:55:58.283Z"
    }
   },
   "outputs": [],
   "source": [
    "taz_dbf = Dbf5(os.path.join(Coverage_Dir, 'tazdata.dbf'))\n",
    "taz = taz_dbf.to_dataframe()\n",
    "taz['SFTAZ'] = taz['SFTAZ'].astype(int)\n",
    "taz_sf = taz_sf_shp.merge(taz, left_on = 'TAZ', right_on = 'SFTAZ', how = 'left')\n",
    "taz_sf[\"area_acre\"] = taz_sf['geometry'].area * 0.00024711 #Square meters to acres"
   ]
  },
  {
   "cell_type": "code",
   "execution_count": null,
   "metadata": {
    "ExecuteTime": {
     "start_time": "2021-10-11T13:56:04.462Z"
    }
   },
   "outputs": [],
   "source": [
    "def frequent_stops_access_taz(frequent_stops_access_union, outname):\n",
    "    frequent_stops_access_taz= taz_sf_shp['geometry'].intersection(frequent_stops_access_union)\n",
    "\n",
    "    taz_sf_access_gdf = gp.GeoDataFrame()\n",
    "    taz_sf_access_gdf['accessarea'] = frequent_stops_access_taz.area* 0.00024711 #Square meters to acres\n",
    "    taz_sf_access_gdf['index'] = frequent_stops_access_taz.index\n",
    "    taz_sf_access_gdf['geometry'] = frequent_stops_access_taz.geometry\n",
    "\n",
    "    taz_sf_access_tazid = taz_sf_access_gdf.merge(taz_sf_shp[['TAZ', 'AREALAND']], left_on='index', right_index=True, how='left')\n",
    "    taz_sf_access_attrs = taz_sf[['TAZ', 'AREALAND', 'HHLDS', 'TOTALEMP', 'POP', 'area_acre']].merge(taz_sf_access_tazid, on=['TAZ', 'AREALAND'], how='left')\n",
    "    \n",
    "    taz_sf_access_attrs['areapcnt'] = 100 * taz_sf_access_attrs['accessarea'] / taz_sf_access_attrs['area_acre']\n",
    "    taz_sf_access_attrs['access_pop'] = taz_sf_access_attrs['POP'] * taz_sf_access_attrs['areapcnt'] / 100 \n",
    "    taz_sf_access_attrs['access_jobs'] = taz_sf_access_attrs['TOTALEMP'] * taz_sf_access_attrs['areapcnt'] / 100 \n",
    "    taz_sf_access_attrs['access_hhlds'] = taz_sf_access_attrs['HHLDS'] * taz_sf_access_attrs['areapcnt'] / 100 \n",
    "    \n",
    "    outcols = ['accessarea', 'index', 'TAZ', 'AREALAND', 'HHLDS', 'TOTALEMP',\n",
    "           'POP', 'area_acre', 'areapcnt', 'access_pop', 'access_jobs', 'access_hhlds']\n",
    "    #taz_sf_access_attrs[outcols].to_csv(os.path.join(Coverage_Dir, 'frequent_stops_access_taz_intersect_' + outname+ '.csv'), index=False)\n",
    "    \n",
    "    return taz_sf_access_attrs[outcols]"
   ]
  },
  {
   "cell_type": "code",
   "execution_count": null,
   "metadata": {
    "ExecuteTime": {
     "start_time": "2021-10-11T13:56:17.236Z"
    }
   },
   "outputs": [],
   "source": [
    "frequent_access_taz_attrs_2021may = frequent_stops_access_taz(frequent_stops_access_union_2021may, '2021may')\n",
    "\n",
    "print('Coverage in 2021 May: ')\n",
    "print('Percentage of accessible area: ', round(100*frequent_access_taz_attrs_2021may['accessarea'].sum()/frequent_access_taz_attrs_2021may['area_acre'].sum(),2))\n",
    "print('Percentage of population: ', round(100*frequent_access_taz_attrs_2021may['access_pop'].sum()/frequent_access_taz_attrs_2021may['POP'].sum(),2))\n",
    "print('Percentage of jobs: ', round(100*frequent_access_taz_attrs_2021may['access_jobs'].sum()/frequent_access_taz_attrs_2021may['TOTALEMP'].sum(),2))\n",
    "print('Percentage of households: ', round(100*frequent_access_taz_attrs_2021may['access_hhlds'].sum()/frequent_access_taz_attrs_2021may['HHLDS'].sum(),2))"
   ]
  },
  {
   "cell_type": "code",
   "execution_count": null,
   "metadata": {
    "ExecuteTime": {
     "start_time": "2021-10-11T13:56:35.637Z"
    }
   },
   "outputs": [],
   "source": [
    "frequent_access_taz_attrs_2020april = frequent_stops_access_taz(frequent_stops_access_union_2020april, '2020april')\n",
    "\n",
    "print('Coverage in 2020 April: ')\n",
    "print('Percentage of accessible area: ', round(100*frequent_access_taz_attrs_2020april['accessarea'].sum()/frequent_access_taz_attrs_2020april['area_acre'].sum(),2))\n",
    "print('Percentage of population: ', round(100*frequent_access_taz_attrs_2020april['access_pop'].sum()/frequent_access_taz_attrs_2020april['POP'].sum(),2))\n",
    "print('Percentage of jobs: ', round(100*frequent_access_taz_attrs_2020april['access_jobs'].sum()/frequent_access_taz_attrs_2020april['TOTALEMP'].sum(),2))\n",
    "print('Percentage of households: ', round(100*frequent_access_taz_attrs_2020april['access_hhlds'].sum()/frequent_access_taz_attrs_2020april['HHLDS'].sum(),2))"
   ]
  },
  {
   "cell_type": "code",
   "execution_count": null,
   "metadata": {
    "ExecuteTime": {
     "start_time": "2021-10-11T13:56:37.165Z"
    }
   },
   "outputs": [],
   "source": [
    "frequent_access_taz_attrs_2019oct = frequent_stops_access_taz(frequent_stops_access_union_2019oct, '2019oct')\n",
    "print('Coverage in 2019 October: ')\n",
    "print('Percentage of accessible area: ', round(100*frequent_access_taz_attrs_2019oct['accessarea'].sum()/frequent_access_taz_attrs_2019oct['area_acre'].sum(),2))\n",
    "print('Percentage of population: ', round(100*frequent_access_taz_attrs_2019oct['access_pop'].sum()/frequent_access_taz_attrs_2019oct['POP'].sum(),2))\n",
    "print('Percentage of jobs: ', round(100*frequent_access_taz_attrs_2019oct['access_jobs'].sum()/frequent_access_taz_attrs_2019oct['TOTALEMP'].sum(),2))\n",
    "print('Percentage of households: ', round(100*frequent_access_taz_attrs_2019oct['access_hhlds'].sum()/frequent_access_taz_attrs_2019oct['HHLDS'].sum(),2))"
   ]
  }
 ],
 "metadata": {
  "kernelspec": {
   "display_name": "Python 3 (ipykernel)",
   "language": "python",
   "name": "python3"
  },
  "language_info": {
   "codemirror_mode": {
    "name": "ipython",
    "version": 3
   },
   "file_extension": ".py",
   "mimetype": "text/x-python",
   "name": "python",
   "nbconvert_exporter": "python",
   "pygments_lexer": "ipython3",
   "version": "3.8.2"
  },
  "toc": {
   "base_numbering": 1,
   "nav_menu": {},
   "number_sections": true,
   "sideBar": true,
   "skip_h1_title": false,
   "title_cell": "Table of Contents",
   "title_sidebar": "Contents",
   "toc_cell": false,
   "toc_position": {
    "height": "calc(100% - 180px)",
    "left": "10px",
    "top": "150px",
    "width": "384px"
   },
   "toc_section_display": true,
   "toc_window_display": true
  },
  "varInspector": {
   "cols": {
    "lenName": 16,
    "lenType": 16,
    "lenVar": 40
   },
   "kernels_config": {
    "python": {
     "delete_cmd_postfix": "",
     "delete_cmd_prefix": "del ",
     "library": "var_list.py",
     "varRefreshCmd": "print(var_dic_list())"
    },
    "r": {
     "delete_cmd_postfix": ") ",
     "delete_cmd_prefix": "rm(",
     "library": "var_list.r",
     "varRefreshCmd": "cat(var_dic_list()) "
    }
   },
   "types_to_exclude": [
    "module",
    "function",
    "builtin_function_or_method",
    "instance",
    "_Feature"
   ],
   "window_display": false
  }
 },
 "nbformat": 4,
 "nbformat_minor": 2
}
