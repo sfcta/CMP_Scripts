{
 "cells": [
  {
   "cell_type": "code",
   "execution_count": 1,
   "metadata": {
    "ExecuteTime": {
     "end_time": "2021-09-08T16:00:06.840061Z",
     "start_time": "2021-09-08T16:00:04.740882Z"
    }
   },
   "outputs": [],
   "source": [
    "import os\n",
    "import pandas as pd\n",
    "pd.options.display.max_columns = None\n",
    "import numpy as np\n",
    "import math\n",
    "import geopandas as gp\n",
    "import folium\n",
    "from shapely.geometry import Point,LineString\n",
    "from IPython.display import display\n",
    "import matplotlib.pyplot as plt\n",
    "import seaborn as sns\n",
    "import warnings\n",
    "warnings.filterwarnings(\"ignore\")"
   ]
  },
  {
   "cell_type": "markdown",
   "metadata": {},
   "source": [
    "# Specify directories"
   ]
  },
  {
   "cell_type": "code",
   "execution_count": 2,
   "metadata": {
    "ExecuteTime": {
     "end_time": "2021-09-08T16:00:07.995158Z",
     "start_time": "2021-09-08T16:00:06.846062Z"
    }
   },
   "outputs": [],
   "source": [
    "# UK Paths\n",
    "\n",
    "# APC and GTFS\n",
    "APC_Dir = r'C:\\Users\\xzh263\\Dropbox (KTC)\\SFCTA CMP\\2021 CMP\\APC'\n",
    "GTFS_Dir1 = r'C:\\Users\\xzh263\\Dropbox (KTC)\\SFCTA CMP\\2021 CMP\\APC\\gtfs_april23'\n",
    "GTFS_Dir2 = r'C:\\Users\\xzh263\\Dropbox (KTC)\\SFCTA CMP\\2021 CMP\\APC\\gtfs_may13'\n",
    "\n",
    "# Manually Matched Transit Stop Pairs\n",
    "\n",
    "# Read in the list of stop pairs manually identified that are patially overlap with cmp segments\n",
    "overlap_pairs = pd.read_csv(r'S:\\CMP\\Transit\\Speed\\Postprocessing_overlapping_transit_segments.csv')\n",
    "\n",
    "# CMP network\n",
    "NETCONF_DIR = r'Z:\\SF_CMP\\CMP2021\\CMP_plus_shp'\n",
    "cmp_segs_org=gp.read_file(os.path.join(NETCONF_DIR, 'cmp_segments_plus.shp'))\n",
    "\n",
    "# INRIX network\n",
    "INRIX_DIR = r'Z:\\SF_CMP\\CMP2021\\Inrix_XD_2101_SF_manualedit'\n",
    "inrix_net=gp.read_file(os.path.join(INRIX_DIR, 'Inrix_XD_2101_SF_manualedit.shp'))\n",
    "\n",
    "# Conflation file\n",
    "NETCONF_DIR = r'Z:\\SF_CMP\\CMP2021'\n",
    "cmp_inrix_corr = pd.read_csv(os.path.join(NETCONF_DIR, 'CMP_Segment_INRIX_Links_Correspondence_2101_Manual_PLUS_Updated.csv'))"
   ]
  },
  {
   "cell_type": "code",
   "execution_count": null,
   "metadata": {},
   "outputs": [],
   "source": [
    "# SFCTA Paths\n",
    "#MAIN_DIR = r'Q:\\CMP\\LOS Monitoring 2019\\Transit\\Speed'\n",
    "#NETCONF_DIR = r'Q:\\CMP\\LOS Monitoring 2019\\Network_Conflation'\n",
    "#APC_FILE = r'Q:\\Data\\Observed\\Transit\\Muni\\APC\\CMP_2019\\APC_2019_SPRING.txt'"
   ]
  },
  {
   "cell_type": "markdown",
   "metadata": {},
   "source": [
    "# GTFS QAQC"
   ]
  },
  {
   "cell_type": "markdown",
   "metadata": {},
   "source": [
    "## Transit Stops "
   ]
  },
  {
   "cell_type": "code",
   "execution_count": 3,
   "metadata": {
    "ExecuteTime": {
     "end_time": "2021-09-08T16:00:10.912129Z",
     "start_time": "2021-09-08T16:00:10.899128Z"
    }
   },
   "outputs": [],
   "source": [
    "def generate_transit_stops_geo(stop_dir):\n",
    "    stops=pd.read_csv(os.path.join(stop_dir, 'stops.txt'))\n",
    "    stops['stop_name'] = stops['stop_name'].str.lower()\n",
    "    stops[['street_1','street_2']] = stops.stop_name.str.split(' & ', expand=True)  #split stop name into operating street and intersecting street\n",
    "    stops['geometry'] = list(zip(stops.stop_lon, stops.stop_lat))\n",
    "    stops['geometry'] = stops['geometry'].apply(Point)\n",
    "    stops = gp.GeoDataFrame(stops, geometry='geometry', crs={'init': 'epsg:4326'})\n",
    "    return stops"
   ]
  },
  {
   "cell_type": "code",
   "execution_count": 4,
   "metadata": {
    "ExecuteTime": {
     "end_time": "2021-09-08T16:00:15.099481Z",
     "start_time": "2021-09-08T16:00:15.026475Z"
    }
   },
   "outputs": [
    {
     "data": {
      "text/html": [
       "<div>\n",
       "<style scoped>\n",
       "    .dataframe tbody tr th:only-of-type {\n",
       "        vertical-align: middle;\n",
       "    }\n",
       "\n",
       "    .dataframe tbody tr th {\n",
       "        vertical-align: top;\n",
       "    }\n",
       "\n",
       "    .dataframe thead th {\n",
       "        text-align: right;\n",
       "    }\n",
       "</style>\n",
       "<table border=\"1\" class=\"dataframe\">\n",
       "  <thead>\n",
       "    <tr style=\"text-align: right;\">\n",
       "      <th></th>\n",
       "      <th>stop_id</th>\n",
       "      <th>stop_code</th>\n",
       "      <th>stop_name</th>\n",
       "      <th>stop_desc</th>\n",
       "      <th>stop_lat</th>\n",
       "      <th>stop_lon</th>\n",
       "      <th>zone_id</th>\n",
       "      <th>stop_url</th>\n",
       "      <th>street_1</th>\n",
       "      <th>street_2</th>\n",
       "      <th>geometry</th>\n",
       "    </tr>\n",
       "  </thead>\n",
       "  <tbody>\n",
       "    <tr>\n",
       "      <th>0</th>\n",
       "      <td>390</td>\n",
       "      <td>10390</td>\n",
       "      <td>19th avenue &amp; holloway st</td>\n",
       "      <td></td>\n",
       "      <td>37.72119</td>\n",
       "      <td>-122.475096</td>\n",
       "      <td></td>\n",
       "      <td></td>\n",
       "      <td>19th avenue</td>\n",
       "      <td>holloway st</td>\n",
       "      <td>POINT (-122.475096 37.72119)</td>\n",
       "    </tr>\n",
       "  </tbody>\n",
       "</table>\n",
       "</div>"
      ],
      "text/plain": [
       "   stop_id  stop_code                  stop_name stop_desc  stop_lat  \\\n",
       "0      390      10390  19th avenue & holloway st            37.72119   \n",
       "\n",
       "     stop_lon zone_id stop_url     street_1     street_2  \\\n",
       "0 -122.475096                   19th avenue  holloway st   \n",
       "\n",
       "                       geometry  \n",
       "0  POINT (-122.475096 37.72119)  "
      ]
     },
     "execution_count": 4,
     "metadata": {},
     "output_type": "execute_result"
    }
   ],
   "source": [
    "stops_april = generate_transit_stops_geo(GTFS_Dir1)\n",
    "stops_april.head(1)"
   ]
  },
  {
   "cell_type": "code",
   "execution_count": 5,
   "metadata": {
    "ExecuteTime": {
     "end_time": "2021-09-08T16:00:15.941551Z",
     "start_time": "2021-09-08T16:00:15.841542Z"
    }
   },
   "outputs": [],
   "source": [
    "stops_may = generate_transit_stops_geo(GTFS_Dir2)"
   ]
  },
  {
   "cell_type": "code",
   "execution_count": 6,
   "metadata": {
    "ExecuteTime": {
     "end_time": "2021-09-08T16:00:24.610520Z",
     "start_time": "2021-09-08T16:00:21.042221Z"
    }
   },
   "outputs": [],
   "source": [
    "# Save converted stops shapefile to view in ArcGIS\n",
    "stops_april.to_file(os.path.join(APC_Dir, 'stops_april23.shp'))\n",
    "stops_may.to_file(os.path.join(APC_Dir, 'stops_may13.shp'))"
   ]
  },
  {
   "cell_type": "code",
   "execution_count": 7,
   "metadata": {
    "ExecuteTime": {
     "end_time": "2021-09-08T16:00:25.245574Z",
     "start_time": "2021-09-08T16:00:24.612522Z"
    }
   },
   "outputs": [
    {
     "data": {
      "image/png": "[encoded data removed]",
      "text/plain": [
       "<Figure size 720x648 with 1 Axes>"
      ]
     },
     "metadata": {},
     "output_type": "display_data"
    }
   ],
   "source": [
    "fig, ax = plt.subplots(figsize=(10,9))\n",
    "cmp_segs_org.plot(ax=ax, color='grey', lw=1, label='CMP Segments',zorder=1)\n",
    "stops_may.plot(ax=ax, marker='o', color='red', markersize=6, label='May', zorder=2)\n",
    "stops_april.plot(ax=ax, marker='o', color='blue', markersize=6, label='April', zorder=3)\n",
    "plt.legend()\n",
    "plt.show()"
   ]
  },
  {
   "cell_type": "markdown",
   "metadata": {},
   "source": [
    "### View transit stops on a street on map "
   ]
  },
  {
   "cell_type": "code",
   "execution_count": 130,
   "metadata": {
    "ExecuteTime": {
     "end_time": "2021-09-09T20:15:37.669910Z",
     "start_time": "2021-09-09T20:15:37.659910Z"
    }
   },
   "outputs": [],
   "source": [
    "st_name = 'lombard st'   # change street name here. Make sure it's consistent with the street name in stop_name in stops file\n",
    "stops_st = stops_may[stops_may['street_1']== (st_name)]"
   ]
  },
  {
   "cell_type": "code",
   "execution_count": 10,
   "metadata": {
    "ExecuteTime": {
     "end_time": "2021-09-08T16:00:48.729923Z",
     "start_time": "2021-09-08T16:00:48.723926Z"
    }
   },
   "outputs": [],
   "source": [
    "sf_coords = (37.774, -122.431)\n",
    "def generateBaseMap():\n",
    "    base_map = folium.Map(location=sf_coords, zoom_start=12,\n",
    "                          tiles = 'Stamen Toner',\n",
    "                          control_scale=True, \n",
    "                          preferCanvas = True\n",
    "                         )\n",
    "    return base_map"
   ]
  },
  {
   "cell_type": "code",
   "execution_count": 133,
   "metadata": {
    "ExecuteTime": {
     "end_time": "2021-09-09T20:17:52.130168Z",
     "start_time": "2021-09-09T20:17:52.097019Z"
    }
   },
   "outputs": [
    {
     "data": {
      "text/html": [
       "<div style=\"width:100%;\"><div style=\"position:relative;width:100%;height:0;padding-bottom:60%;\"><iframe src=\"data:text/html;charset=utf-8;base64,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\" style=\"position:absolute;width:100%;height:100%;left:0;top:0;border:none !important;\" allowfullscreen webkitallowfullscreen mozallowfullscreen></iframe></div></div>"
      ],
      "text/plain": [
       "<folium.folium.Map at 0x1824fc2e278>"
      ]
     },
     "metadata": {},
     "output_type": "display_data"
    }
   ],
   "source": [
    "if len(stops_st) == 0:\n",
    "    print('No transit stops found on this street!')\n",
    "else:\n",
    "    base_map = generateBaseMap()\n",
    "    for idx in stops_st.index.tolist():\n",
    "        lat = stops_st.loc[idx, 'stop_lat']\n",
    "        long = stops_st.loc[idx, 'stop_lon']\n",
    "        stopid = stops_st.loc[idx, 'stop_id']\n",
    "        folium.Marker(\n",
    "          location = [lat, long], \n",
    "          tooltip  = 'stop_id:' + str(stopid),\n",
    "          icon = folium.Icon(color='blue', icon='fa-circle', prefix='fa')\n",
    "         ).add_to(base_map) \n",
    "    display(base_map)"
   ]
  },
  {
   "cell_type": "markdown",
   "metadata": {},
   "source": [
    "## Transit Trips "
   ]
  },
  {
   "cell_type": "code",
   "execution_count": 13,
   "metadata": {
    "ExecuteTime": {
     "end_time": "2021-09-08T16:00:58.529345Z",
     "start_time": "2021-09-08T16:00:58.518344Z"
    }
   },
   "outputs": [],
   "source": [
    "def generate_transit_shapes_geo(stop_dir):\n",
    "    shapes=pd.read_csv(os.path.join(stop_dir, 'shapes.txt'))\n",
    "    shapes_gdf = pd.DataFrame()\n",
    "    shape_ids = shapes.shape_id.unique().tolist()\n",
    "    rid = 0\n",
    "    for shpid in shape_ids:\n",
    "        shp = shapes[shapes['shape_id']==shpid].sort_values(by='shape_pt_sequence')\n",
    "        linestr = LineString(zip(shp.shape_pt_lon, shp.shape_pt_lat))\n",
    "        linestr = gp.GeoDataFrame(index=[shpid], crs='epsg:4326', geometry=[linestr]) \n",
    "        shapes_gdf = shapes_gdf.append(linestr)\n",
    "        rid = rid + 1\n",
    "    shapes_gdf = shapes_gdf.reset_index()\n",
    "    shapes_gdf.columns = ['shape_id', 'geometry']\n",
    "    \n",
    "    trips = pd.read_csv(os.path.join(stop_dir, 'trips.txt'))\n",
    "    trips_shapes = shapes_gdf[shapes_gdf['shape_id'].isin(trips['shape_id'])]\n",
    "    return trips, trips_shapes"
   ]
  },
  {
   "cell_type": "code",
   "execution_count": 14,
   "metadata": {
    "ExecuteTime": {
     "end_time": "2021-09-08T16:01:03.209137Z",
     "start_time": "2021-09-08T16:00:58.996866Z"
    }
   },
   "outputs": [
    {
     "name": "stdout",
     "output_type": "stream",
     "text": [
      "number of trips:  20957\n"
     ]
    },
    {
     "data": {
      "text/html": [
       "<div>\n",
       "<style scoped>\n",
       "    .dataframe tbody tr th:only-of-type {\n",
       "        vertical-align: middle;\n",
       "    }\n",
       "\n",
       "    .dataframe tbody tr th {\n",
       "        vertical-align: top;\n",
       "    }\n",
       "\n",
       "    .dataframe thead th {\n",
       "        text-align: right;\n",
       "    }\n",
       "</style>\n",
       "<table border=\"1\" class=\"dataframe\">\n",
       "  <thead>\n",
       "    <tr style=\"text-align: right;\">\n",
       "      <th></th>\n",
       "      <th>route_id</th>\n",
       "      <th>service_id</th>\n",
       "      <th>trip_id</th>\n",
       "      <th>trip_headsign</th>\n",
       "      <th>direction_id</th>\n",
       "      <th>block_id</th>\n",
       "      <th>shape_id</th>\n",
       "    </tr>\n",
       "  </thead>\n",
       "  <tbody>\n",
       "    <tr>\n",
       "      <th>0</th>\n",
       "      <td>16266</td>\n",
       "      <td>3</td>\n",
       "      <td>9736781</td>\n",
       "      <td>Presidio Avenue</td>\n",
       "      <td>0</td>\n",
       "      <td>162</td>\n",
       "      <td>184033</td>\n",
       "    </tr>\n",
       "    <tr>\n",
       "      <th>1</th>\n",
       "      <td>16266</td>\n",
       "      <td>3</td>\n",
       "      <td>9736783</td>\n",
       "      <td>Presidio Avenue</td>\n",
       "      <td>0</td>\n",
       "      <td>161</td>\n",
       "      <td>184033</td>\n",
       "    </tr>\n",
       "  </tbody>\n",
       "</table>\n",
       "</div>"
      ],
      "text/plain": [
       "   route_id  service_id  trip_id    trip_headsign  direction_id  block_id  \\\n",
       "0     16266           3  9736781  Presidio Avenue             0       162   \n",
       "1     16266           3  9736783  Presidio Avenue             0       161   \n",
       "\n",
       "   shape_id  \n",
       "0    184033  \n",
       "1    184033  "
      ]
     },
     "execution_count": 14,
     "metadata": {},
     "output_type": "execute_result"
    }
   ],
   "source": [
    "trips_april, trips_shapes_april = generate_transit_shapes_geo(GTFS_Dir1)\n",
    "print('number of trips: ', len(trips_april))\n",
    "trips_april.head(2)"
   ]
  },
  {
   "cell_type": "code",
   "execution_count": 15,
   "metadata": {
    "ExecuteTime": {
     "end_time": "2021-09-08T16:01:12.163206Z",
     "start_time": "2021-09-08T16:01:03.211136Z"
    }
   },
   "outputs": [
    {
     "name": "stdout",
     "output_type": "stream",
     "text": [
      "number of trips:  41169\n"
     ]
    }
   ],
   "source": [
    "trips_may, trips_shapes_may = generate_transit_shapes_geo(GTFS_Dir2)\n",
    "print('number of trips: ', len(trips_may))"
   ]
  },
  {
   "cell_type": "code",
   "execution_count": 16,
   "metadata": {
    "ExecuteTime": {
     "end_time": "2021-09-08T16:01:12.693930Z",
     "start_time": "2021-09-08T16:01:12.165864Z"
    }
   },
   "outputs": [],
   "source": [
    "# Save converted shapes shapefile to view in ArcGIS\n",
    "trips_shapes_april.to_file(os.path.join(APC_Dir, 'trips_shapes_april23.shp'))\n",
    "trips_shapes_may.to_file(os.path.join(APC_Dir, 'trips_shapes_may13.shp'))"
   ]
  },
  {
   "cell_type": "code",
   "execution_count": 17,
   "metadata": {
    "ExecuteTime": {
     "end_time": "2021-09-08T16:01:13.553060Z",
     "start_time": "2021-09-08T16:01:12.695931Z"
    }
   },
   "outputs": [
    {
     "name": "stdout",
     "output_type": "stream",
     "text": [
      "number of stop times:  813803\n"
     ]
    },
    {
     "data": {
      "text/html": [
       "<div>\n",
       "<style scoped>\n",
       "    .dataframe tbody tr th:only-of-type {\n",
       "        vertical-align: middle;\n",
       "    }\n",
       "\n",
       "    .dataframe tbody tr th {\n",
       "        vertical-align: top;\n",
       "    }\n",
       "\n",
       "    .dataframe thead th {\n",
       "        text-align: right;\n",
       "    }\n",
       "</style>\n",
       "<table border=\"1\" class=\"dataframe\">\n",
       "  <thead>\n",
       "    <tr style=\"text-align: right;\">\n",
       "      <th></th>\n",
       "      <th>trip_id</th>\n",
       "      <th>arrival_time</th>\n",
       "      <th>departure_time</th>\n",
       "      <th>stop_id</th>\n",
       "      <th>stop_sequence</th>\n",
       "      <th>stop_headsign</th>\n",
       "      <th>pickup_type</th>\n",
       "      <th>drop_off_type</th>\n",
       "      <th>shape_dist_traveled</th>\n",
       "    </tr>\n",
       "  </thead>\n",
       "  <tbody>\n",
       "    <tr>\n",
       "      <th>0</th>\n",
       "      <td>9736053</td>\n",
       "      <td>21:55:00</td>\n",
       "      <td>21:55:00</td>\n",
       "      <td>4015</td>\n",
       "      <td>1</td>\n",
       "      <td></td>\n",
       "      <td></td>\n",
       "      <td></td>\n",
       "      <td></td>\n",
       "    </tr>\n",
       "  </tbody>\n",
       "</table>\n",
       "</div>"
      ],
      "text/plain": [
       "   trip_id arrival_time departure_time  stop_id  stop_sequence stop_headsign  \\\n",
       "0  9736053     21:55:00       21:55:00     4015              1                 \n",
       "\n",
       "  pickup_type drop_off_type shape_dist_traveled  \n",
       "0                                                "
      ]
     },
     "execution_count": 17,
     "metadata": {},
     "output_type": "execute_result"
    }
   ],
   "source": [
    "stop_times_april = pd.read_csv(os.path.join(GTFS_Dir1, 'stop_times.txt'))\n",
    "print('number of stop times: ', len(stop_times_april))\n",
    "stop_times_april.head(1)"
   ]
  },
  {
   "cell_type": "code",
   "execution_count": 144,
   "metadata": {
    "ExecuteTime": {
     "end_time": "2021-09-09T20:30:01.893026Z",
     "start_time": "2021-09-09T20:30:00.289153Z"
    }
   },
   "outputs": [
    {
     "name": "stdout",
     "output_type": "stream",
     "text": [
      "number of stop times:  1603510\n"
     ]
    }
   ],
   "source": [
    "stop_times_may = pd.read_csv(os.path.join(GTFS_Dir2, 'stop_times.txt'))\n",
    "print('number of stop times: ', len(stop_times_may))"
   ]
  },
  {
   "cell_type": "code",
   "execution_count": 145,
   "metadata": {
    "ExecuteTime": {
     "end_time": "2021-09-09T20:30:07.954715Z",
     "start_time": "2021-09-09T20:30:06.353315Z"
    }
   },
   "outputs": [],
   "source": [
    "stop_times_may['arvltime'] = stop_times_may['arrival_time'].apply(lambda x: int(x[0:2]) + int(x[3:5])/60 + int(x[6:8])/3600)"
   ]
  },
  {
   "cell_type": "code",
   "execution_count": 148,
   "metadata": {
    "ExecuteTime": {
     "end_time": "2021-09-09T20:33:17.527154Z",
     "start_time": "2021-09-09T20:33:17.372760Z"
    }
   },
   "outputs": [],
   "source": [
    "stop_times_cmp = stop_times_may[((stop_times_may['arvltime']>=7) & (stop_times_may['arvltime']<=9)) | \n",
    "                                ((stop_times_may['arvltime']>=16.5) & (stop_times_may['arvltime']<=18.5))]"
   ]
  },
  {
   "cell_type": "code",
   "execution_count": 150,
   "metadata": {
    "ExecuteTime": {
     "end_time": "2021-09-09T20:36:07.334160Z",
     "start_time": "2021-09-09T20:36:05.869062Z"
    }
   },
   "outputs": [],
   "source": [
    "# transit stops that have services planned\n",
    "stops_may_serviced = stops_may[stops_may['stop_id'].isin(stop_times_cmp['stop_id'])]\n",
    "stops_may_serviced.to_file(os.path.join(APC_Dir, 'stops_may13_serviced.shp'))"
   ]
  },
  {
   "cell_type": "code",
   "execution_count": 149,
   "metadata": {
    "ExecuteTime": {
     "end_time": "2021-09-09T20:33:47.435339Z",
     "start_time": "2021-09-09T20:33:47.404455Z"
    }
   },
   "outputs": [
    {
     "data": {
      "text/html": [
       "<div>\n",
       "<style scoped>\n",
       "    .dataframe tbody tr th:only-of-type {\n",
       "        vertical-align: middle;\n",
       "    }\n",
       "\n",
       "    .dataframe tbody tr th {\n",
       "        vertical-align: top;\n",
       "    }\n",
       "\n",
       "    .dataframe thead th {\n",
       "        text-align: right;\n",
       "    }\n",
       "</style>\n",
       "<table border=\"1\" class=\"dataframe\">\n",
       "  <thead>\n",
       "    <tr style=\"text-align: right;\">\n",
       "      <th></th>\n",
       "      <th>trip_id</th>\n",
       "      <th>arrival_time</th>\n",
       "      <th>departure_time</th>\n",
       "      <th>stop_id</th>\n",
       "      <th>stop_sequence</th>\n",
       "      <th>stop_headsign</th>\n",
       "      <th>pickup_type</th>\n",
       "      <th>drop_off_type</th>\n",
       "      <th>shape_dist_traveled</th>\n",
       "      <th>timepoint</th>\n",
       "      <th>arvltime</th>\n",
       "    </tr>\n",
       "  </thead>\n",
       "  <tbody>\n",
       "    <tr>\n",
       "      <th>0</th>\n",
       "      <td>9873130</td>\n",
       "      <td>17:29:00</td>\n",
       "      <td>17:29:00</td>\n",
       "      <td>7842</td>\n",
       "      <td>1</td>\n",
       "      <td>NaN</td>\n",
       "      <td>NaN</td>\n",
       "      <td>NaN</td>\n",
       "      <td>NaN</td>\n",
       "      <td>NaN</td>\n",
       "      <td>17.483333</td>\n",
       "    </tr>\n",
       "    <tr>\n",
       "      <th>1</th>\n",
       "      <td>9873130</td>\n",
       "      <td>17:32:00</td>\n",
       "      <td>17:32:00</td>\n",
       "      <td>7099</td>\n",
       "      <td>2</td>\n",
       "      <td>NaN</td>\n",
       "      <td>NaN</td>\n",
       "      <td>NaN</td>\n",
       "      <td>NaN</td>\n",
       "      <td>NaN</td>\n",
       "      <td>17.533333</td>\n",
       "    </tr>\n",
       "  </tbody>\n",
       "</table>\n",
       "</div>"
      ],
      "text/plain": [
       "   trip_id arrival_time departure_time  stop_id  stop_sequence  stop_headsign  \\\n",
       "0  9873130     17:29:00       17:29:00     7842              1            NaN   \n",
       "1  9873130     17:32:00       17:32:00     7099              2            NaN   \n",
       "\n",
       "   pickup_type  drop_off_type  shape_dist_traveled  timepoint   arvltime  \n",
       "0          NaN            NaN                  NaN        NaN  17.483333  \n",
       "1          NaN            NaN                  NaN        NaN  17.533333  "
      ]
     },
     "execution_count": 149,
     "metadata": {},
     "output_type": "execute_result"
    }
   ],
   "source": [
    "stop_times_cmp.head(2)"
   ]
  },
  {
   "cell_type": "code",
   "execution_count": 209,
   "metadata": {
    "ExecuteTime": {
     "end_time": "2021-09-09T22:11:43.588504Z",
     "start_time": "2021-09-09T22:11:43.575503Z"
    }
   },
   "outputs": [],
   "source": [
    "def display_trips_passing_a_stop(cur_stop):\n",
    "    stop_trips = stop_times_may[stop_times_may['stop_id']==cur_stop]  #all the planned trips that pass this transit stop\n",
    "    if len(stop_trips)== 0:\n",
    "        print('No trips are found that stop at this transit stop!')\n",
    "    else:\n",
    "        base_map = generateBaseMap()\n",
    "        \n",
    "        stop_trips_shapes = trips_may[trips_may['trip_id'].isin(stop_trips['trip_id'])]\n",
    "        if len(trips_shapes_may[trips_shapes_may['shape_id'].isin(stop_trips_shapes['shape_id'])]) == 0:\n",
    "            print('No shapes are found for these trips')\n",
    "        else:\n",
    "            \n",
    "            stop_trips_unique_shapes_idx = trips_shapes_may.index[trips_shapes_may['shape_id'].isin(stop_trips_shapes['shape_id'])]\n",
    "            print('There are %s different shapes for these trips' % len(stop_trips_unique_shapes_idx))\n",
    "            for idx in stop_trips_unique_shapes_idx:\n",
    "                coords = list(zip(trips_shapes_may.loc[idx, 'geometry'].coords.xy[1], trips_shapes_may.loc[idx, 'geometry'].coords.xy[0]))\n",
    "                folium.PolyLine(locations=coords, \n",
    "                                tooltip  = 'shape_id:' + str(trips_shapes_may.loc[idx, 'shape_id']),\n",
    "                                weight=5, line_color='red').add_to(base_map) \n",
    "        trips_pass_stops = stop_times_may[stop_times_may['trip_id'].isin(stop_trips['trip_id'])]\n",
    "        trips_pass_stops_unique = stops_may[stops_may['stop_id'].isin(trips_pass_stops['stop_id'])]\n",
    "        for idx in trips_pass_stops_unique.index.tolist():\n",
    "            lat = trips_pass_stops_unique.loc[idx, 'stop_lat']\n",
    "            long = trips_pass_stops_unique.loc[idx, 'stop_lon']\n",
    "            stopid = trips_pass_stops_unique.loc[idx, 'stop_id']\n",
    "            folium.Marker(\n",
    "              location = [lat, long], \n",
    "              tooltip  = 'stop_id:' + str(stopid),\n",
    "              icon = folium.Icon(color='blue', icon='fa-circle', prefix='fa')\n",
    "             ).add_to(base_map) \n",
    "        \n",
    "        display(base_map)"
   ]
  },
  {
   "cell_type": "code",
   "execution_count": 210,
   "metadata": {
    "ExecuteTime": {
     "end_time": "2021-09-09T22:11:46.882618Z",
     "start_time": "2021-09-09T22:11:46.642454Z"
    }
   },
   "outputs": [
    {
     "name": "stdout",
     "output_type": "stream",
     "text": [
      "There are 6 different shapes for these trips\n"
     ]
    },
    {
     "data": {
      "text/html": [
       "<div style=\"width:100%;\"><div style=\"position:relative;width:100%;height:0;padding-bottom:60%;\"><iframe src=\"data:text/html;charset=utf-8;base64,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\" style=\"position:absolute;width:100%;height:100%;left:0;top:0;border:none !important;\" allowfullscreen webkitallowfullscreen mozallowfullscreen></iframe></div></div>"
      ],
      "text/plain": [
       "<folium.folium.Map at 0x182ce1b5908>"
      ]
     },
     "metadata": {},
     "output_type": "display_data"
    }
   ],
   "source": [
    "# display all the scheduled trips that pass a certain stop and the shapes of these trips\n",
    "# Note: trips and shapes may overlap\n",
    "\n",
    "cur_stop = 6043   # change the stop_id here. \n",
    "display_trips_passing_a_stop(cur_stop)"
   ]
  },
  {
   "cell_type": "markdown",
   "metadata": {},
   "source": [
    "# APC data"
   ]
  },
  {
   "cell_type": "code",
   "execution_count": 21,
   "metadata": {
    "ExecuteTime": {
     "end_time": "2021-09-08T16:03:02.224642Z",
     "start_time": "2021-09-08T16:01:31.269140Z"
    }
   },
   "outputs": [],
   "source": [
    "vol = pd.read_csv(os.path.join(APC_Dir, 'APC_STOP_BOARDINGS_FACTS_SFCTACMP2021.csv'))"
   ]
  },
  {
   "cell_type": "code",
   "execution_count": 22,
   "metadata": {
    "ExecuteTime": {
     "end_time": "2021-09-08T16:03:02.239644Z",
     "start_time": "2021-09-08T16:03:02.226643Z"
    }
   },
   "outputs": [
    {
     "data": {
      "text/plain": [
       "17717726"
      ]
     },
     "execution_count": 22,
     "metadata": {},
     "output_type": "execute_result"
    }
   ],
   "source": [
    "len(vol)"
   ]
  },
  {
   "cell_type": "code",
   "execution_count": 23,
   "metadata": {
    "ExecuteTime": {
     "end_time": "2021-09-08T16:03:04.930861Z",
     "start_time": "2021-09-08T16:03:02.241644Z"
    }
   },
   "outputs": [],
   "source": [
    "vol_notnull = vol[pd.notnull(vol['CLOSE_DATE_TIME'])]"
   ]
  },
  {
   "cell_type": "code",
   "execution_count": 24,
   "metadata": {
    "ExecuteTime": {
     "end_time": "2021-09-08T16:03:08.326003Z",
     "start_time": "2021-09-08T16:03:04.932862Z"
    },
    "scrolled": true
   },
   "outputs": [],
   "source": [
    "vol_notnull['Date']=pd.to_datetime(vol_notnull['ACTUALDATE'])\n",
    "vol_notnull['DOW']=vol_notnull.Date.dt.dayofweek #Mon-0\n",
    "vol_notnull['DayType'] = np.where(vol_notnull['DOW']<=4, 'Weekdays', np.where(vol_notnull['DOW']==5, 'Saturday', 'Sunday'))\n",
    "vol_notnull['Month']=vol_notnull.Date.dt.month\n",
    "vol_notnull['Day']=vol_notnull.Date.dt.day\n",
    "\n",
    "vol_notnull['Close_Hour'] = vol_notnull['CLOSE_DATE_TIME'].str[10:12].astype(int)\n",
    "vol_notnull['Close_Minute'] = vol_notnull['CLOSE_DATE_TIME'].str[13:15].astype(int)\n",
    "vol_notnull['Close_Second'] = vol_notnull['CLOSE_DATE_TIME'].str[16:18].astype(int)\n",
    "vol_notnull['Close_Period'] = vol_notnull['CLOSE_DATE_TIME'].str[-2:]\n",
    "vol_notnull['Close_Time'] = vol_notnull['Date'].astype('str') + ' ' + vol_notnull['Close_Hour'].astype('str') + ':' + vol_notnull['Close_Minute'].astype('str') + ':' + vol_notnull['Close_Second'].astype('str') + ' ' + vol_notnull['Close_Period']\n",
    "vol_notnull['Close_Time'] = pd.to_datetime(vol_notnull['Close_Time'])\n",
    "\n",
    "vol_notnull['Epoch'] = 2*vol_notnull['Close_Time'].dt.hour + vol_notnull['Close_Time'].dt.minute//30 "
   ]
  },
  {
   "cell_type": "code",
   "execution_count": 27,
   "metadata": {
    "ExecuteTime": {
     "end_time": "2021-09-08T16:15:33.543091Z",
     "start_time": "2021-09-08T16:15:27.998671Z"
    }
   },
   "outputs": [],
   "source": [
    "# CMP monitoring dates\n",
    "vol_notnull = vol_notnull[((vol_notnull['Month']==4) & (vol_notnull['Day'] > 5)) | ((vol_notnull['Month']==5) & (vol_notnull['Day'] < 21))]"
   ]
  },
  {
   "cell_type": "markdown",
   "metadata": {},
   "source": [
    "## Check whether APC data exist for a certain transit stop "
   ]
  },
  {
   "cell_type": "code",
   "execution_count": 211,
   "metadata": {
    "ExecuteTime": {
     "end_time": "2021-09-09T22:18:14.841348Z",
     "start_time": "2021-09-09T22:18:14.819349Z"
    }
   },
   "outputs": [],
   "source": [
    "def display_actual_apc_trip_and_shape(trip_id, date):\n",
    "    one_trip_stops = vol_notnull[(vol_notnull['TRIP_ID_EXTERNAL']==trip_id) & (vol_notnull['Date']==date)]\n",
    "    if len(one_trip_stops) == 0:\n",
    "        print('No transit stops found on this trip!')\n",
    "    else:\n",
    "        base_map = generateBaseMap()\n",
    "\n",
    "        stop_trips_shapes = trips_may[trips_may['trip_id']==trip_id]\n",
    "        stop_trips_unique_shapes_idx = trips_shapes_may.index[trips_shapes_may['shape_id'].isin(stop_trips_shapes['shape_id'])]\n",
    "        for idx in stop_trips_unique_shapes_idx:\n",
    "            coords = list(zip(trips_shapes_may.loc[idx, 'geometry'].coords.xy[1], trips_shapes_may.loc[idx, 'geometry'].coords.xy[0]))\n",
    "            folium.PolyLine(locations=coords, \n",
    "                            tooltip  = 'shape_id:' + str(trips_shapes_may.loc[idx, 'shape_id']),\n",
    "                            weight=5, line_color='red').add_to(base_map) \n",
    "\n",
    "        for idx in one_trip_stops.index.tolist():\n",
    "            lat = one_trip_stops.loc[idx, 'VEH_LAT']\n",
    "            long = one_trip_stops.loc[idx, 'VEH_LONG']\n",
    "            stopid = one_trip_stops.loc[idx, 'BS_ID']\n",
    "            folium.Marker(\n",
    "              location = [lat, long], \n",
    "              tooltip  = 'stop_id:' + str(stopid),\n",
    "              icon = folium.Icon(color='blue', icon='fa-circle', prefix='fa')\n",
    "             ).add_to(base_map) \n",
    "        display(base_map)"
   ]
  },
  {
   "cell_type": "code",
   "execution_count": 191,
   "metadata": {
    "ExecuteTime": {
     "end_time": "2021-09-09T21:32:13.270465Z",
     "start_time": "2021-09-09T21:32:13.224661Z"
    }
   },
   "outputs": [
    {
     "data": {
      "text/html": [
       "<div>\n",
       "<style scoped>\n",
       "    .dataframe tbody tr th:only-of-type {\n",
       "        vertical-align: middle;\n",
       "    }\n",
       "\n",
       "    .dataframe tbody tr th {\n",
       "        vertical-align: top;\n",
       "    }\n",
       "\n",
       "    .dataframe thead th {\n",
       "        text-align: right;\n",
       "    }\n",
       "</style>\n",
       "<table border=\"1\" class=\"dataframe\">\n",
       "  <thead>\n",
       "    <tr style=\"text-align: right;\">\n",
       "      <th></th>\n",
       "      <th>ACTUALDATE</th>\n",
       "      <th>SERVICE_DAY_OF_WEEK</th>\n",
       "      <th>PRIMARY_KEY</th>\n",
       "      <th>EFFECTIVE_DATE_KEY</th>\n",
       "      <th>TRAP_SIGN_ID</th>\n",
       "      <th>BOOKING_ID</th>\n",
       "      <th>TRAP_PATTERN_NAME</th>\n",
       "      <th>BLOCK_NUM_EXTERNAL</th>\n",
       "      <th>TRAP_BUS_TYPE_ID</th>\n",
       "      <th>ROUTE_ALPHA</th>\n",
       "      <th>DIRECTION</th>\n",
       "      <th>TRIP_ID_EXTERNAL</th>\n",
       "      <th>START_TIME</th>\n",
       "      <th>END_TIME</th>\n",
       "      <th>TRIP_START_TIME</th>\n",
       "      <th>TRIP_START_HOUR</th>\n",
       "      <th>SCHED_RUNNING_TIME_SECONDS</th>\n",
       "      <th>TOTAL_TRIP_DISTANCE</th>\n",
       "      <th>STOP_LINE_SEQUENCE</th>\n",
       "      <th>BS_ID</th>\n",
       "      <th>IS_TERMINAL_INITIAL</th>\n",
       "      <th>ROUTE_SEGMENT_ID</th>\n",
       "      <th>ACCUM_DISTANCE</th>\n",
       "      <th>SCHEDULE_LOAD_DATE</th>\n",
       "      <th>APC_SOURCE</th>\n",
       "      <th>VEHICLE_ID</th>\n",
       "      <th>ACTUAL_SEQUENCE</th>\n",
       "      <th>RUN_ID</th>\n",
       "      <th>OPERATOR_ID</th>\n",
       "      <th>STOP_ARRIVAL_HOUR</th>\n",
       "      <th>OPEN_DATE_TIME</th>\n",
       "      <th>CLOSE_DATE_TIME</th>\n",
       "      <th>DWELL_TIME</th>\n",
       "      <th>ONS</th>\n",
       "      <th>OFFS</th>\n",
       "      <th>MAX_LOAD</th>\n",
       "      <th>REV_DISTANCE</th>\n",
       "      <th>NON_REV_DISTANCE</th>\n",
       "      <th>REV_SECONDS</th>\n",
       "      <th>NON_REV_SECONDS</th>\n",
       "      <th>PASSENGER_MILES</th>\n",
       "      <th>PASSENGER_HOURS</th>\n",
       "      <th>VEH_LAT</th>\n",
       "      <th>VEH_LONG</th>\n",
       "      <th>IMPORT_ERROR</th>\n",
       "      <th>IMPORT_TRIP_ERROR</th>\n",
       "      <th>CALC_SPEED</th>\n",
       "      <th>IS_TRIP_SAMPLED</th>\n",
       "      <th>STOPS_SAMPLED</th>\n",
       "      <th>ACTIVITY_LOAD_DATE</th>\n",
       "      <th>Date</th>\n",
       "      <th>DOW</th>\n",
       "      <th>DayType</th>\n",
       "      <th>Month</th>\n",
       "      <th>Day</th>\n",
       "      <th>Close_Hour</th>\n",
       "      <th>Close_Minute</th>\n",
       "      <th>Close_Second</th>\n",
       "      <th>Close_Period</th>\n",
       "      <th>Close_Time</th>\n",
       "      <th>Epoch</th>\n",
       "      <th>Open_Hour</th>\n",
       "      <th>Open_Minute</th>\n",
       "      <th>Open_Second</th>\n",
       "      <th>Open_Period</th>\n",
       "      <th>Open_Time</th>\n",
       "    </tr>\n",
       "  </thead>\n",
       "  <tbody>\n",
       "  </tbody>\n",
       "</table>\n",
       "</div>"
      ],
      "text/plain": [
       "Empty DataFrame\n",
       "Columns: [ACTUALDATE, SERVICE_DAY_OF_WEEK, PRIMARY_KEY, EFFECTIVE_DATE_KEY, TRAP_SIGN_ID, BOOKING_ID, TRAP_PATTERN_NAME, BLOCK_NUM_EXTERNAL, TRAP_BUS_TYPE_ID, ROUTE_ALPHA, DIRECTION, TRIP_ID_EXTERNAL, START_TIME, END_TIME, TRIP_START_TIME, TRIP_START_HOUR, SCHED_RUNNING_TIME_SECONDS, TOTAL_TRIP_DISTANCE, STOP_LINE_SEQUENCE, BS_ID, IS_TERMINAL_INITIAL, ROUTE_SEGMENT_ID, ACCUM_DISTANCE, SCHEDULE_LOAD_DATE, APC_SOURCE, VEHICLE_ID, ACTUAL_SEQUENCE, RUN_ID, OPERATOR_ID, STOP_ARRIVAL_HOUR, OPEN_DATE_TIME, CLOSE_DATE_TIME, DWELL_TIME, ONS, OFFS, MAX_LOAD, REV_DISTANCE, NON_REV_DISTANCE, REV_SECONDS, NON_REV_SECONDS, PASSENGER_MILES, PASSENGER_HOURS, VEH_LAT, VEH_LONG, IMPORT_ERROR, IMPORT_TRIP_ERROR, CALC_SPEED, IS_TRIP_SAMPLED, STOPS_SAMPLED, ACTIVITY_LOAD_DATE, Date, DOW, DayType, Month, Day, Close_Hour, Close_Minute, Close_Second, Close_Period, Close_Time, Epoch, Open_Hour, Open_Minute, Open_Second, Open_Period, Open_Time]\n",
       "Index: []"
      ]
     },
     "execution_count": 191,
     "metadata": {},
     "output_type": "execute_result"
    }
   ],
   "source": [
    "vol_notnull[vol_notnull['BS_ID']==4516]"
   ]
  },
  {
   "cell_type": "code",
   "execution_count": 186,
   "metadata": {
    "ExecuteTime": {
     "end_time": "2021-09-09T21:13:58.647087Z",
     "start_time": "2021-09-09T21:13:58.496171Z"
    }
   },
   "outputs": [
    {
     "data": {
      "text/plain": [
       "21409"
      ]
     },
     "execution_count": 186,
     "metadata": {},
     "output_type": "execute_result"
    }
   ],
   "source": [
    "embarcadero_stops = [4532, 4534, 4503, 4504, 4517, 4518, 4515, 4516, 4529, 7281, 4501, 4502, 4513, 7283]  #no APC data\n",
    "embarcadero_stops= [ 4508, 4509, 4510, 4511, 4531, 7447, 4506, 7145] # have APC data\n",
    "len(vol_notnull[vol_notnull['BS_ID'].isin(embarcadero_stops)])"
   ]
  },
  {
   "cell_type": "code",
   "execution_count": 213,
   "metadata": {
    "ExecuteTime": {
     "end_time": "2021-09-09T22:19:07.037405Z",
     "start_time": "2021-09-09T22:19:06.871220Z"
    }
   },
   "outputs": [
    {
     "data": {
      "text/html": [
       "<div>\n",
       "<style scoped>\n",
       "    .dataframe tbody tr th:only-of-type {\n",
       "        vertical-align: middle;\n",
       "    }\n",
       "\n",
       "    .dataframe tbody tr th {\n",
       "        vertical-align: top;\n",
       "    }\n",
       "\n",
       "    .dataframe thead th {\n",
       "        text-align: right;\n",
       "    }\n",
       "</style>\n",
       "<table border=\"1\" class=\"dataframe\">\n",
       "  <thead>\n",
       "    <tr style=\"text-align: right;\">\n",
       "      <th></th>\n",
       "      <th>ACTUALDATE</th>\n",
       "      <th>SERVICE_DAY_OF_WEEK</th>\n",
       "      <th>PRIMARY_KEY</th>\n",
       "      <th>EFFECTIVE_DATE_KEY</th>\n",
       "      <th>TRAP_SIGN_ID</th>\n",
       "      <th>BOOKING_ID</th>\n",
       "      <th>TRAP_PATTERN_NAME</th>\n",
       "      <th>BLOCK_NUM_EXTERNAL</th>\n",
       "      <th>TRAP_BUS_TYPE_ID</th>\n",
       "      <th>ROUTE_ALPHA</th>\n",
       "      <th>DIRECTION</th>\n",
       "      <th>TRIP_ID_EXTERNAL</th>\n",
       "      <th>START_TIME</th>\n",
       "      <th>END_TIME</th>\n",
       "      <th>TRIP_START_TIME</th>\n",
       "      <th>TRIP_START_HOUR</th>\n",
       "      <th>SCHED_RUNNING_TIME_SECONDS</th>\n",
       "      <th>TOTAL_TRIP_DISTANCE</th>\n",
       "      <th>STOP_LINE_SEQUENCE</th>\n",
       "      <th>BS_ID</th>\n",
       "      <th>IS_TERMINAL_INITIAL</th>\n",
       "      <th>ROUTE_SEGMENT_ID</th>\n",
       "      <th>ACCUM_DISTANCE</th>\n",
       "      <th>SCHEDULE_LOAD_DATE</th>\n",
       "      <th>APC_SOURCE</th>\n",
       "      <th>VEHICLE_ID</th>\n",
       "      <th>ACTUAL_SEQUENCE</th>\n",
       "      <th>RUN_ID</th>\n",
       "      <th>OPERATOR_ID</th>\n",
       "      <th>STOP_ARRIVAL_HOUR</th>\n",
       "      <th>OPEN_DATE_TIME</th>\n",
       "      <th>CLOSE_DATE_TIME</th>\n",
       "      <th>DWELL_TIME</th>\n",
       "      <th>ONS</th>\n",
       "      <th>OFFS</th>\n",
       "      <th>MAX_LOAD</th>\n",
       "      <th>REV_DISTANCE</th>\n",
       "      <th>NON_REV_DISTANCE</th>\n",
       "      <th>REV_SECONDS</th>\n",
       "      <th>NON_REV_SECONDS</th>\n",
       "      <th>PASSENGER_MILES</th>\n",
       "      <th>PASSENGER_HOURS</th>\n",
       "      <th>VEH_LAT</th>\n",
       "      <th>VEH_LONG</th>\n",
       "      <th>IMPORT_ERROR</th>\n",
       "      <th>IMPORT_TRIP_ERROR</th>\n",
       "      <th>CALC_SPEED</th>\n",
       "      <th>IS_TRIP_SAMPLED</th>\n",
       "      <th>STOPS_SAMPLED</th>\n",
       "      <th>ACTIVITY_LOAD_DATE</th>\n",
       "      <th>Date</th>\n",
       "      <th>DOW</th>\n",
       "      <th>DayType</th>\n",
       "      <th>Month</th>\n",
       "      <th>Day</th>\n",
       "      <th>Close_Hour</th>\n",
       "      <th>Close_Minute</th>\n",
       "      <th>Close_Second</th>\n",
       "      <th>Close_Period</th>\n",
       "      <th>Close_Time</th>\n",
       "      <th>Epoch</th>\n",
       "      <th>Open_Hour</th>\n",
       "      <th>Open_Minute</th>\n",
       "      <th>Open_Second</th>\n",
       "      <th>Open_Period</th>\n",
       "      <th>Open_Time</th>\n",
       "    </tr>\n",
       "  </thead>\n",
       "  <tbody>\n",
       "    <tr>\n",
       "      <th>1431132</th>\n",
       "      <td>06-APR-21 00:00:00</td>\n",
       "      <td>WEEKDAY</td>\n",
       "      <td>216023905</td>\n",
       "      <td>3748</td>\n",
       "      <td>125</td>\n",
       "      <td>210320 001</td>\n",
       "      <td>NBUS O F10</td>\n",
       "      <td>7019</td>\n",
       "      <td>16.0</td>\n",
       "      <td>NBUS</td>\n",
       "      <td>OUTBOUND</td>\n",
       "      <td>9823509</td>\n",
       "      <td>16-MAR-21 01.40.00.000000000 PM</td>\n",
       "      <td>16-MAR-21 02.40.00.000000000 PM</td>\n",
       "      <td>13:40:00</td>\n",
       "      <td>13</td>\n",
       "      <td>3600</td>\n",
       "      <td>9.6</td>\n",
       "      <td>4</td>\n",
       "      <td>7447</td>\n",
       "      <td>INTRANSIT</td>\n",
       "      <td>1</td>\n",
       "      <td>0.88897</td>\n",
       "      <td>25-JUL-21 00:00:00</td>\n",
       "      <td>RADIO</td>\n",
       "      <td>6594.0</td>\n",
       "      <td>3.0</td>\n",
       "      <td>8409.0</td>\n",
       "      <td>5854.0</td>\n",
       "      <td>13.0</td>\n",
       "      <td>06-APR-21 01.44.04.000000000 PM</td>\n",
       "      <td>06-APR-21 01.44.23.000000000 PM</td>\n",
       "      <td>19.0</td>\n",
       "      <td>2.0</td>\n",
       "      <td>0.0</td>\n",
       "      <td>2.0</td>\n",
       "      <td>0.997658</td>\n",
       "      <td>0.0</td>\n",
       "      <td>333.0</td>\n",
       "      <td>0.0</td>\n",
       "      <td>1.995316</td>\n",
       "      <td>0.185</td>\n",
       "      <td>37.7843</td>\n",
       "      <td>-122.38797</td>\n",
       "      <td>0</td>\n",
       "      <td>0</td>\n",
       "      <td>10.785492</td>\n",
       "      <td>1</td>\n",
       "      <td>28</td>\n",
       "      <td>25-JUL-21 00:00:00</td>\n",
       "      <td>2021-04-06</td>\n",
       "      <td>1</td>\n",
       "      <td>Weekdays</td>\n",
       "      <td>4</td>\n",
       "      <td>6</td>\n",
       "      <td>1</td>\n",
       "      <td>44</td>\n",
       "      <td>23</td>\n",
       "      <td>PM</td>\n",
       "      <td>2021-04-06 13:44:23</td>\n",
       "      <td>27</td>\n",
       "      <td>1</td>\n",
       "      <td>44</td>\n",
       "      <td>4</td>\n",
       "      <td>PM</td>\n",
       "      <td>2021-04-06 13:44:04</td>\n",
       "    </tr>\n",
       "  </tbody>\n",
       "</table>\n",
       "</div>"
      ],
      "text/plain": [
       "                 ACTUALDATE SERVICE_DAY_OF_WEEK  PRIMARY_KEY  \\\n",
       "1431132  06-APR-21 00:00:00             WEEKDAY    216023905   \n",
       "\n",
       "         EFFECTIVE_DATE_KEY  TRAP_SIGN_ID  BOOKING_ID TRAP_PATTERN_NAME  \\\n",
       "1431132                3748           125  210320 001        NBUS O F10   \n",
       "\n",
       "         BLOCK_NUM_EXTERNAL  TRAP_BUS_TYPE_ID ROUTE_ALPHA DIRECTION  \\\n",
       "1431132                7019              16.0        NBUS  OUTBOUND   \n",
       "\n",
       "        TRIP_ID_EXTERNAL                       START_TIME  \\\n",
       "1431132          9823509  16-MAR-21 01.40.00.000000000 PM   \n",
       "\n",
       "                                END_TIME TRIP_START_TIME  TRIP_START_HOUR  \\\n",
       "1431132  16-MAR-21 02.40.00.000000000 PM        13:40:00               13   \n",
       "\n",
       "         SCHED_RUNNING_TIME_SECONDS  TOTAL_TRIP_DISTANCE  STOP_LINE_SEQUENCE  \\\n",
       "1431132                        3600                  9.6                   4   \n",
       "\n",
       "         BS_ID IS_TERMINAL_INITIAL  ROUTE_SEGMENT_ID  ACCUM_DISTANCE  \\\n",
       "1431132   7447           INTRANSIT                 1         0.88897   \n",
       "\n",
       "         SCHEDULE_LOAD_DATE APC_SOURCE  VEHICLE_ID  ACTUAL_SEQUENCE  RUN_ID  \\\n",
       "1431132  25-JUL-21 00:00:00      RADIO      6594.0              3.0  8409.0   \n",
       "\n",
       "         OPERATOR_ID  STOP_ARRIVAL_HOUR                   OPEN_DATE_TIME  \\\n",
       "1431132       5854.0               13.0  06-APR-21 01.44.04.000000000 PM   \n",
       "\n",
       "                         CLOSE_DATE_TIME  DWELL_TIME  ONS  OFFS  MAX_LOAD  \\\n",
       "1431132  06-APR-21 01.44.23.000000000 PM        19.0  2.0   0.0       2.0   \n",
       "\n",
       "         REV_DISTANCE  NON_REV_DISTANCE  REV_SECONDS  NON_REV_SECONDS  \\\n",
       "1431132      0.997658               0.0        333.0              0.0   \n",
       "\n",
       "         PASSENGER_MILES  PASSENGER_HOURS  VEH_LAT   VEH_LONG  IMPORT_ERROR  \\\n",
       "1431132         1.995316            0.185  37.7843 -122.38797             0   \n",
       "\n",
       "         IMPORT_TRIP_ERROR  CALC_SPEED  IS_TRIP_SAMPLED  STOPS_SAMPLED  \\\n",
       "1431132                  0   10.785492                1             28   \n",
       "\n",
       "         ACTIVITY_LOAD_DATE       Date  DOW   DayType  Month  Day  Close_Hour  \\\n",
       "1431132  25-JUL-21 00:00:00 2021-04-06    1  Weekdays      4    6           1   \n",
       "\n",
       "         Close_Minute  Close_Second Close_Period          Close_Time  Epoch  \\\n",
       "1431132            44            23           PM 2021-04-06 13:44:23     27   \n",
       "\n",
       "         Open_Hour  Open_Minute  Open_Second Open_Period           Open_Time  \n",
       "1431132          1           44            4          PM 2021-04-06 13:44:04  "
      ]
     },
     "execution_count": 213,
     "metadata": {},
     "output_type": "execute_result"
    }
   ],
   "source": [
    "vol_notnull[vol_notnull['BS_ID'].isin(embarcadero_stops)].head(1)"
   ]
  },
  {
   "cell_type": "code",
   "execution_count": 214,
   "metadata": {
    "ExecuteTime": {
     "end_time": "2021-09-09T22:19:15.990288Z",
     "start_time": "2021-09-09T22:19:15.662029Z"
    }
   },
   "outputs": [
    {
     "data": {
      "text/html": [
       "<div style=\"width:100%;\"><div style=\"position:relative;width:100%;height:0;padding-bottom:60%;\"><iframe src=\"data:text/html;charset=utf-8;base64,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\" style=\"position:absolute;width:100%;height:100%;left:0;top:0;border:none !important;\" allowfullscreen webkitallowfullscreen mozallowfullscreen></iframe></div></div>"
      ],
      "text/plain": [
       "<folium.folium.Map at 0x182ce23ef28>"
      ]
     },
     "metadata": {},
     "output_type": "display_data"
    }
   ],
   "source": [
    "trip_id, date = 9823509, '2021-04-06'  # Use trip_id from TRIP_ID_EXTERNAL column in vol_notnull dataframe\n",
    "display_actual_apc_trip_and_shape(trip_id, date)"
   ]
  },
  {
   "cell_type": "code",
   "execution_count": 215,
   "metadata": {
    "ExecuteTime": {
     "end_time": "2021-09-09T22:21:14.274103Z",
     "start_time": "2021-09-09T22:21:14.250103Z"
    }
   },
   "outputs": [
    {
     "data": {
      "text/plain": [
       "701"
      ]
     },
     "execution_count": 215,
     "metadata": {},
     "output_type": "execute_result"
    }
   ],
   "source": [
    "bryant_stops = [3724, 3725, 3723, 4436]\n",
    "len(apc_cmp_am[apc_cmp_am['BS_ID'].isin(bryant_stops)])"
   ]
  },
  {
   "cell_type": "code",
   "execution_count": 197,
   "metadata": {
    "ExecuteTime": {
     "end_time": "2021-09-09T21:47:12.725115Z",
     "start_time": "2021-09-09T21:47:12.658872Z"
    }
   },
   "outputs": [
    {
     "data": {
      "text/html": [
       "<div>\n",
       "<style scoped>\n",
       "    .dataframe tbody tr th:only-of-type {\n",
       "        vertical-align: middle;\n",
       "    }\n",
       "\n",
       "    .dataframe tbody tr th {\n",
       "        vertical-align: top;\n",
       "    }\n",
       "\n",
       "    .dataframe thead th {\n",
       "        text-align: right;\n",
       "    }\n",
       "</style>\n",
       "<table border=\"1\" class=\"dataframe\">\n",
       "  <thead>\n",
       "    <tr style=\"text-align: right;\">\n",
       "      <th></th>\n",
       "      <th>index</th>\n",
       "      <th>ACTUALDATE</th>\n",
       "      <th>SERVICE_DAY_OF_WEEK</th>\n",
       "      <th>PRIMARY_KEY</th>\n",
       "      <th>EFFECTIVE_DATE_KEY</th>\n",
       "      <th>TRAP_SIGN_ID</th>\n",
       "      <th>BOOKING_ID</th>\n",
       "      <th>TRAP_PATTERN_NAME</th>\n",
       "      <th>BLOCK_NUM_EXTERNAL</th>\n",
       "      <th>TRAP_BUS_TYPE_ID</th>\n",
       "      <th>ROUTE_ALPHA</th>\n",
       "      <th>DIRECTION</th>\n",
       "      <th>TRIP_ID_EXTERNAL</th>\n",
       "      <th>START_TIME</th>\n",
       "      <th>END_TIME</th>\n",
       "      <th>TRIP_START_TIME</th>\n",
       "      <th>TRIP_START_HOUR</th>\n",
       "      <th>SCHED_RUNNING_TIME_SECONDS</th>\n",
       "      <th>TOTAL_TRIP_DISTANCE</th>\n",
       "      <th>STOP_LINE_SEQUENCE</th>\n",
       "      <th>BS_ID</th>\n",
       "      <th>IS_TERMINAL_INITIAL</th>\n",
       "      <th>ROUTE_SEGMENT_ID</th>\n",
       "      <th>ACCUM_DISTANCE</th>\n",
       "      <th>SCHEDULE_LOAD_DATE</th>\n",
       "      <th>APC_SOURCE</th>\n",
       "      <th>VEHICLE_ID</th>\n",
       "      <th>ACTUAL_SEQUENCE</th>\n",
       "      <th>RUN_ID</th>\n",
       "      <th>OPERATOR_ID</th>\n",
       "      <th>STOP_ARRIVAL_HOUR</th>\n",
       "      <th>OPEN_DATE_TIME</th>\n",
       "      <th>CLOSE_DATE_TIME</th>\n",
       "      <th>DWELL_TIME</th>\n",
       "      <th>ONS</th>\n",
       "      <th>OFFS</th>\n",
       "      <th>MAX_LOAD</th>\n",
       "      <th>REV_DISTANCE</th>\n",
       "      <th>NON_REV_DISTANCE</th>\n",
       "      <th>REV_SECONDS</th>\n",
       "      <th>NON_REV_SECONDS</th>\n",
       "      <th>PASSENGER_MILES</th>\n",
       "      <th>PASSENGER_HOURS</th>\n",
       "      <th>VEH_LAT</th>\n",
       "      <th>VEH_LONG</th>\n",
       "      <th>IMPORT_ERROR</th>\n",
       "      <th>IMPORT_TRIP_ERROR</th>\n",
       "      <th>CALC_SPEED</th>\n",
       "      <th>IS_TRIP_SAMPLED</th>\n",
       "      <th>STOPS_SAMPLED</th>\n",
       "      <th>ACTIVITY_LOAD_DATE</th>\n",
       "      <th>Date</th>\n",
       "      <th>DOW</th>\n",
       "      <th>DayType</th>\n",
       "      <th>Month</th>\n",
       "      <th>Day</th>\n",
       "      <th>Close_Hour</th>\n",
       "      <th>Close_Minute</th>\n",
       "      <th>Close_Second</th>\n",
       "      <th>Close_Period</th>\n",
       "      <th>Close_Time</th>\n",
       "      <th>Epoch</th>\n",
       "      <th>Open_Hour</th>\n",
       "      <th>Open_Minute</th>\n",
       "      <th>Open_Second</th>\n",
       "      <th>Open_Period</th>\n",
       "      <th>Open_Time</th>\n",
       "      <th>Open_Time_float</th>\n",
       "      <th>Close_Time_float</th>\n",
       "      <th>stop_lat</th>\n",
       "      <th>stop_code</th>\n",
       "      <th>stop_lon</th>\n",
       "      <th>stop_url</th>\n",
       "      <th>stop_id</th>\n",
       "      <th>stop_desc</th>\n",
       "      <th>stop_name</th>\n",
       "      <th>location_type</th>\n",
       "      <th>zone_id</th>\n",
       "      <th>street_1</th>\n",
       "      <th>street_2</th>\n",
       "      <th>geometry</th>\n",
       "      <th>near_cmp</th>\n",
       "      <th>near_dis</th>\n",
       "    </tr>\n",
       "  </thead>\n",
       "  <tbody>\n",
       "    <tr>\n",
       "      <th>45606</th>\n",
       "      <td>11380</td>\n",
       "      <td>06-APR-21 00:00:00</td>\n",
       "      <td>WEEKDAY</td>\n",
       "      <td>215790165</td>\n",
       "      <td>3748</td>\n",
       "      <td>125</td>\n",
       "      <td>210320 001</td>\n",
       "      <td>8    I F00</td>\n",
       "      <td>812</td>\n",
       "      <td>16.0</td>\n",
       "      <td>008</td>\n",
       "      <td>INBOUND</td>\n",
       "      <td>9745184</td>\n",
       "      <td>16-MAR-21 08.20.00.000000000 AM</td>\n",
       "      <td>16-MAR-21 09.27.00.000000000 AM</td>\n",
       "      <td>08:20:00</td>\n",
       "      <td>8</td>\n",
       "      <td>4020</td>\n",
       "      <td>11.3</td>\n",
       "      <td>45</td>\n",
       "      <td>3725</td>\n",
       "      <td>INTRANSIT</td>\n",
       "      <td>6</td>\n",
       "      <td>8.34817</td>\n",
       "      <td>25-JUL-21 00:00:00</td>\n",
       "      <td>RADIO</td>\n",
       "      <td>6547.0</td>\n",
       "      <td>28.0</td>\n",
       "      <td>8238.0</td>\n",
       "      <td>5098.0</td>\n",
       "      <td>8.0</td>\n",
       "      <td>06-APR-21 08.59.33.000000000 AM</td>\n",
       "      <td>06-APR-21 08.59.54.000000000 AM</td>\n",
       "      <td>21.0</td>\n",
       "      <td>0.0</td>\n",
       "      <td>2.0</td>\n",
       "      <td>38.0</td>\n",
       "      <td>0.175189</td>\n",
       "      <td>0.0</td>\n",
       "      <td>58.0</td>\n",
       "      <td>0.0</td>\n",
       "      <td>6.657182</td>\n",
       "      <td>0.612222</td>\n",
       "      <td>37.776165</td>\n",
       "      <td>-122.402214</td>\n",
       "      <td>0</td>\n",
       "      <td>0</td>\n",
       "      <td>10.873800</td>\n",
       "      <td>1</td>\n",
       "      <td>40</td>\n",
       "      <td>25-JUL-21 00:00:00</td>\n",
       "      <td>2021-04-06</td>\n",
       "      <td>1</td>\n",
       "      <td>Weekdays</td>\n",
       "      <td>4</td>\n",
       "      <td>6</td>\n",
       "      <td>8</td>\n",
       "      <td>59</td>\n",
       "      <td>54</td>\n",
       "      <td>AM</td>\n",
       "      <td>2021-04-06 08:59:54</td>\n",
       "      <td>17</td>\n",
       "      <td>8</td>\n",
       "      <td>59</td>\n",
       "      <td>33</td>\n",
       "      <td>AM</td>\n",
       "      <td>2021-04-06 08:59:33</td>\n",
       "      <td>8.992500</td>\n",
       "      <td>8.998333</td>\n",
       "      <td>37.776157</td>\n",
       "      <td>13725.0</td>\n",
       "      <td>-122.402231</td>\n",
       "      <td>NaN</td>\n",
       "      <td>3725.0</td>\n",
       "      <td>NaN</td>\n",
       "      <td>bryant st &amp; 6th st</td>\n",
       "      <td>0.0</td>\n",
       "      <td>NaN</td>\n",
       "      <td>bryant st</td>\n",
       "      <td>6th st</td>\n",
       "      <td>POINT (1832439.191837895 643332.1236801039)</td>\n",
       "      <td>1.0</td>\n",
       "      <td>7.547542</td>\n",
       "    </tr>\n",
       "    <tr>\n",
       "      <th>45630</th>\n",
       "      <td>50816</td>\n",
       "      <td>13-APR-21 00:00:00</td>\n",
       "      <td>WEEKDAY</td>\n",
       "      <td>217829091</td>\n",
       "      <td>3755</td>\n",
       "      <td>125</td>\n",
       "      <td>210320 001</td>\n",
       "      <td>8    I F00</td>\n",
       "      <td>812</td>\n",
       "      <td>16.0</td>\n",
       "      <td>008</td>\n",
       "      <td>INBOUND</td>\n",
       "      <td>9745184</td>\n",
       "      <td>16-MAR-21 08.20.00.000000000 AM</td>\n",
       "      <td>16-MAR-21 09.27.00.000000000 AM</td>\n",
       "      <td>08:20:00</td>\n",
       "      <td>8</td>\n",
       "      <td>4020</td>\n",
       "      <td>11.3</td>\n",
       "      <td>45</td>\n",
       "      <td>3725</td>\n",
       "      <td>INTRANSIT</td>\n",
       "      <td>6</td>\n",
       "      <td>8.34817</td>\n",
       "      <td>25-JUL-21 00:00:00</td>\n",
       "      <td>RADIO</td>\n",
       "      <td>6570.0</td>\n",
       "      <td>25.0</td>\n",
       "      <td>8238.0</td>\n",
       "      <td>5098.0</td>\n",
       "      <td>8.0</td>\n",
       "      <td>13-APR-21 08.58.06.000000000 AM</td>\n",
       "      <td>13-APR-21 08.58.13.000000000 AM</td>\n",
       "      <td>7.0</td>\n",
       "      <td>0.0</td>\n",
       "      <td>1.0</td>\n",
       "      <td>42.0</td>\n",
       "      <td>0.322233</td>\n",
       "      <td>0.0</td>\n",
       "      <td>73.0</td>\n",
       "      <td>0.0</td>\n",
       "      <td>13.533786</td>\n",
       "      <td>0.851667</td>\n",
       "      <td>37.776165</td>\n",
       "      <td>-122.402214</td>\n",
       "      <td>0</td>\n",
       "      <td>0</td>\n",
       "      <td>15.890943</td>\n",
       "      <td>1</td>\n",
       "      <td>36</td>\n",
       "      <td>25-JUL-21 00:00:00</td>\n",
       "      <td>2021-04-13</td>\n",
       "      <td>1</td>\n",
       "      <td>Weekdays</td>\n",
       "      <td>4</td>\n",
       "      <td>13</td>\n",
       "      <td>8</td>\n",
       "      <td>58</td>\n",
       "      <td>13</td>\n",
       "      <td>AM</td>\n",
       "      <td>2021-04-13 08:58:13</td>\n",
       "      <td>17</td>\n",
       "      <td>8</td>\n",
       "      <td>58</td>\n",
       "      <td>6</td>\n",
       "      <td>AM</td>\n",
       "      <td>2021-04-13 08:58:06</td>\n",
       "      <td>8.968333</td>\n",
       "      <td>8.970278</td>\n",
       "      <td>37.776157</td>\n",
       "      <td>13725.0</td>\n",
       "      <td>-122.402231</td>\n",
       "      <td>NaN</td>\n",
       "      <td>3725.0</td>\n",
       "      <td>NaN</td>\n",
       "      <td>bryant st &amp; 6th st</td>\n",
       "      <td>0.0</td>\n",
       "      <td>NaN</td>\n",
       "      <td>bryant st</td>\n",
       "      <td>6th st</td>\n",
       "      <td>POINT (1832439.191837895 643332.1236801039)</td>\n",
       "      <td>1.0</td>\n",
       "      <td>7.547542</td>\n",
       "    </tr>\n",
       "  </tbody>\n",
       "</table>\n",
       "</div>"
      ],
      "text/plain": [
       "       index          ACTUALDATE SERVICE_DAY_OF_WEEK  PRIMARY_KEY  \\\n",
       "45606  11380  06-APR-21 00:00:00             WEEKDAY    215790165   \n",
       "45630  50816  13-APR-21 00:00:00             WEEKDAY    217829091   \n",
       "\n",
       "       EFFECTIVE_DATE_KEY  TRAP_SIGN_ID  BOOKING_ID TRAP_PATTERN_NAME  \\\n",
       "45606                3748           125  210320 001        8    I F00   \n",
       "45630                3755           125  210320 001        8    I F00   \n",
       "\n",
       "       BLOCK_NUM_EXTERNAL  TRAP_BUS_TYPE_ID ROUTE_ALPHA DIRECTION  \\\n",
       "45606                 812              16.0         008   INBOUND   \n",
       "45630                 812              16.0         008   INBOUND   \n",
       "\n",
       "      TRIP_ID_EXTERNAL                       START_TIME  \\\n",
       "45606          9745184  16-MAR-21 08.20.00.000000000 AM   \n",
       "45630          9745184  16-MAR-21 08.20.00.000000000 AM   \n",
       "\n",
       "                              END_TIME TRIP_START_TIME  TRIP_START_HOUR  \\\n",
       "45606  16-MAR-21 09.27.00.000000000 AM        08:20:00                8   \n",
       "45630  16-MAR-21 09.27.00.000000000 AM        08:20:00                8   \n",
       "\n",
       "       SCHED_RUNNING_TIME_SECONDS  TOTAL_TRIP_DISTANCE  STOP_LINE_SEQUENCE  \\\n",
       "45606                        4020                 11.3                  45   \n",
       "45630                        4020                 11.3                  45   \n",
       "\n",
       "       BS_ID IS_TERMINAL_INITIAL  ROUTE_SEGMENT_ID  ACCUM_DISTANCE  \\\n",
       "45606   3725           INTRANSIT                 6         8.34817   \n",
       "45630   3725           INTRANSIT                 6         8.34817   \n",
       "\n",
       "       SCHEDULE_LOAD_DATE APC_SOURCE  VEHICLE_ID  ACTUAL_SEQUENCE  RUN_ID  \\\n",
       "45606  25-JUL-21 00:00:00      RADIO      6547.0             28.0  8238.0   \n",
       "45630  25-JUL-21 00:00:00      RADIO      6570.0             25.0  8238.0   \n",
       "\n",
       "       OPERATOR_ID  STOP_ARRIVAL_HOUR                   OPEN_DATE_TIME  \\\n",
       "45606       5098.0                8.0  06-APR-21 08.59.33.000000000 AM   \n",
       "45630       5098.0                8.0  13-APR-21 08.58.06.000000000 AM   \n",
       "\n",
       "                       CLOSE_DATE_TIME  DWELL_TIME  ONS  OFFS  MAX_LOAD  \\\n",
       "45606  06-APR-21 08.59.54.000000000 AM        21.0  0.0   2.0      38.0   \n",
       "45630  13-APR-21 08.58.13.000000000 AM         7.0  0.0   1.0      42.0   \n",
       "\n",
       "       REV_DISTANCE  NON_REV_DISTANCE  REV_SECONDS  NON_REV_SECONDS  \\\n",
       "45606      0.175189               0.0         58.0              0.0   \n",
       "45630      0.322233               0.0         73.0              0.0   \n",
       "\n",
       "       PASSENGER_MILES  PASSENGER_HOURS    VEH_LAT    VEH_LONG  IMPORT_ERROR  \\\n",
       "45606         6.657182         0.612222  37.776165 -122.402214             0   \n",
       "45630        13.533786         0.851667  37.776165 -122.402214             0   \n",
       "\n",
       "       IMPORT_TRIP_ERROR  CALC_SPEED  IS_TRIP_SAMPLED  STOPS_SAMPLED  \\\n",
       "45606                  0   10.873800                1             40   \n",
       "45630                  0   15.890943                1             36   \n",
       "\n",
       "       ACTIVITY_LOAD_DATE       Date  DOW   DayType  Month  Day  Close_Hour  \\\n",
       "45606  25-JUL-21 00:00:00 2021-04-06    1  Weekdays      4    6           8   \n",
       "45630  25-JUL-21 00:00:00 2021-04-13    1  Weekdays      4   13           8   \n",
       "\n",
       "       Close_Minute  Close_Second Close_Period          Close_Time  Epoch  \\\n",
       "45606            59            54           AM 2021-04-06 08:59:54     17   \n",
       "45630            58            13           AM 2021-04-13 08:58:13     17   \n",
       "\n",
       "       Open_Hour  Open_Minute  Open_Second Open_Period           Open_Time  \\\n",
       "45606          8           59           33          AM 2021-04-06 08:59:33   \n",
       "45630          8           58            6          AM 2021-04-13 08:58:06   \n",
       "\n",
       "       Open_Time_float  Close_Time_float   stop_lat  stop_code    stop_lon  \\\n",
       "45606         8.992500          8.998333  37.776157    13725.0 -122.402231   \n",
       "45630         8.968333          8.970278  37.776157    13725.0 -122.402231   \n",
       "\n",
       "       stop_url  stop_id  stop_desc           stop_name  location_type  \\\n",
       "45606       NaN   3725.0        NaN  bryant st & 6th st            0.0   \n",
       "45630       NaN   3725.0        NaN  bryant st & 6th st            0.0   \n",
       "\n",
       "       zone_id   street_1 street_2  \\\n",
       "45606      NaN  bryant st   6th st   \n",
       "45630      NaN  bryant st   6th st   \n",
       "\n",
       "                                          geometry  near_cmp  near_dis  \n",
       "45606  POINT (1832439.191837895 643332.1236801039)       1.0  7.547542  \n",
       "45630  POINT (1832439.191837895 643332.1236801039)       1.0  7.547542  "
      ]
     },
     "execution_count": 197,
     "metadata": {},
     "output_type": "execute_result"
    }
   ],
   "source": [
    "apc_cmp_am[apc_cmp_am['BS_ID'].isin(bryant_stops)].head(2)"
   ]
  },
  {
   "cell_type": "code",
   "execution_count": 216,
   "metadata": {
    "ExecuteTime": {
     "end_time": "2021-09-09T22:22:05.681249Z",
     "start_time": "2021-09-09T22:22:05.300424Z"
    }
   },
   "outputs": [
    {
     "data": {
      "text/html": [
       "<div style=\"width:100%;\"><div style=\"position:relative;width:100%;height:0;padding-bottom:60%;\"><iframe src=\"data:text/html;charset=utf-8;base64,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\" style=\"position:absolute;width:100%;height:100%;left:0;top:0;border:none !important;\" allowfullscreen webkitallowfullscreen mozallowfullscreen></iframe></div></div>"
      ],
      "text/plain": [
       "<folium.folium.Map at 0x182ce0ccda0>"
      ]
     },
     "metadata": {},
     "output_type": "display_data"
    }
   ],
   "source": [
    "trip_id, date = 9745184, '2021-04-06'\n",
    "display_actual_apc_trip_and_shape(trip_id, date)"
   ]
  },
  {
   "cell_type": "code",
   "execution_count": 217,
   "metadata": {
    "ExecuteTime": {
     "end_time": "2021-09-09T22:22:52.433714Z",
     "start_time": "2021-09-09T22:22:52.122317Z"
    }
   },
   "outputs": [
    {
     "data": {
      "text/html": [
       "<div style=\"width:100%;\"><div style=\"position:relative;width:100%;height:0;padding-bottom:60%;\"><iframe src=\"data:text/html;charset=utf-8;base64,PCFET0NUWVBFIGh0bWw+CjxoZWFkPiAgICAKICAgIDxtZXRhIGh0dHAtZXF1aXY9ImNvbnRlbnQtdHlwZSIgY29udGVudD0idGV4dC9odG1sOyBjaGFyc2V0PVVURi04IiAvPgogICAgCiAgICAgICAgPHNjcmlwdD4KICAgICAgICAgICAgTF9OT19UT1VDSCA9IGZhbHNlOwogICAgICAgICAgICBMX0RJU0FCTEVfM0QgPSBmYWxzZTsKICAgICAgICA8L3NjcmlwdD4KICAgIAogICAgPHNjcmlwdCBzcmM9Imh0dHBzOi8vY2RuLmpzZGVsaXZyLm5ldC9ucG0vbGVhZmxldEAxLjUuMS9kaXN0L2xlYWZsZXQuanMiPjwvc2NyaXB0PgogICAgPHNjcmlwdCBzcmM9Imh0dHBzOi8vY29kZS5qcXVlcnkuY29tL2pxdWVyeS0xLjEyLjQubWluLmpzIj48L3NjcmlwdD4KICAgIDxzY3JpcHQgc3JjPSJodHRwczovL21heGNkbi5ib290c3RyYXBjZG4uY29tL2Jvb3RzdHJhcC8zLjIuMC9qcy9ib290c3RyYXAubWluLmpzIj48L3NjcmlwdD4KICAgIDxzY3JpcHQgc3JjPSJodHRwczovL2NkbmpzLmNsb3VkZmxhcmUuY29tL2FqYXgvbGlicy9MZWFmbGV0LmF3ZXNvbWUtbWFya2Vycy8yLjAuMi9sZWFmbGV0LmF3ZXNvbWUtbWFya2Vycy5qcyI+PC9zY3JpcHQ+CiAgICA8bGluayByZWw9InN0eWxlc2hlZXQiIGhyZWY9Imh0dHBzOi8vY2RuLmpzZGVsaXZyLm5ldC9ucG0vbGVhZmxldEAxLjUuMS9kaXN0L2xlYWZsZXQuY3NzIi8+CiAgICA8bGluayByZWw9InN0eWxlc2hlZXQiIGhyZWY9Imh0dHBzOi8vbWF4Y2RuLmJvb3RzdHJhcGNkbi5jb20vYm9vdHN0cmFwLzMuMi4wL2Nzcy9ib290c3RyYXAubWluLmNzcyIvPgogICAgPGxpbmsgcmVsPSJzdHlsZXNoZWV0IiBocmVmPSJodHRwczovL21heGNkbi5ib290c3RyYXBjZG4uY29tL2Jvb3RzdHJhcC8zLjIuMC9jc3MvYm9vdHN0cmFwLXRoZW1lLm1pbi5jc3MiLz4KICAgIDxsaW5rIHJlbD0ic3R5bGVzaGVldCIgaHJlZj0iaHR0cHM6Ly9tYXhjZG4uYm9vdHN0cmFwY2RuLmNvbS9mb250LWF3ZXNvbWUvNC42LjMvY3NzL2ZvbnQtYXdlc29tZS5taW4uY3NzIi8+CiAgICA8bGluayByZWw9InN0eWxlc2hlZXQiIGhyZWY9Imh0dHBzOi8vY2RuanMuY2xvdWRmbGFyZS5jb20vYWpheC9saWJzL0xlYWZsZXQuYXdlc29tZS1tYXJrZXJzLzIuMC4yL2xlYWZsZXQuYXdlc29tZS1tYXJrZXJzLmNzcyIvPgogICAgPGxpbmsgcmVsPSJzdHlsZXNoZWV0IiBocmVmPSJodHRwczovL3Jhd2Nkbi5naXRoYWNrLmNvbS9weXRob24tdmlzdWFsaXphdGlvbi9mb2xpdW0vbWFzdGVyL2ZvbGl1bS90ZW1wbGF0ZXMvbGVhZmxldC5hd2Vzb21lLnJvdGF0ZS5jc3MiLz4KICAgIDxzdHlsZT5odG1sLCBib2R5IHt3aWR0aDogMTAwJTtoZWlnaHQ6IDEwMCU7bWFyZ2luOiAwO3BhZGRpbmc6IDA7fTwvc3R5bGU+CiAgICA8c3R5bGU+I21hcCB7cG9zaXRpb246YWJzb2x1dGU7dG9wOjA7Ym90dG9tOjA7cmlnaHQ6MDtsZWZ0OjA7fTwvc3R5bGU+CiAgICAKICAgICAgICAgICAgPG1ldGEgbmFtZT0idmlld3BvcnQiIGNvbnRlbnQ9IndpZHRoPWRldmljZS13aWR0aCwKICAgICAgICAgICAgICAgIGluaXRpYWwtc2NhbGU9MS4wLCBtYXhpbXVtLXNjYWxlPTEuMCwgdXNlci1zY2FsYWJsZT1ubyIgLz4KICAgICAgICAgICAgPHN0eWxlPgogICAgICAgICAgICAgICAgI21hcF84ZDI4ZWFhM2ZiOTU0MTRkOTcwZmI3NDQyZTk5MWFlOCB7CiAgICAgICAgICAgICAgICAgICAgcG9zaXRpb246IHJlbGF0aXZlOwogICAgICAgICAgICAgICAgICAgIHdpZHRoOiAxMDAuMCU7CiAgICAgICAgICAgICAgICAgICAgaGVpZ2h0OiAxMDAuMCU7CiAgICAgICAgICAgICAgICAgICAgbGVmdDogMC4wJTsKICAgICAgICAgICAgICAgICAgICB0b3A6IDAuMCU7CiAgICAgICAgICAgICAgICB9CiAgICAgICAgICAgIDwvc3R5bGU+CiAgICAgICAgCjwvaGVhZD4KPGJvZHk+ICAgIAogICAgCiAgICAgICAgICAgIDxkaXYgY2xhc3M9ImZvbGl1bS1tYXAiIGlkPSJtYXBfOGQyOGVhYTNmYjk1NDE0ZDk3MGZiNzQ0MmU5OTFhZTgiID48L2Rpdj4KICAgICAgICAKPC9ib2R5Pgo8c2NyaXB0PiAgICAKICAgIAogICAgICAgICAgICB2YXIgbWFwXzhkMjhlYWEzZmI5NTQxNGQ5NzBmYjc0NDJlOTkxYWU4ID0gTC5tYXAoCiAgICAgICAgICAgICAgICAibWFwXzhkMjhlYWEzZmI5NTQxNGQ5NzBmYjc0NDJlOTkxYWU4IiwKICAgICAgICAgICAgICAgIHsKICAgICAgICAgICAgICAgICAgICBjZW50ZXI6IFszNy43NzQsIC0xMjIuNDMxXSwKICAgICAgICAgICAgICAgICAgICBjcnM6IEwuQ1JTLkVQU0czODU3LAogICAgICAgICAgICAgICAgICAgIHpvb206IDEyLAogICAgICAgICAgICAgICAgICAgIHpvb21Db250cm9sOiB0cnVlLAogICAgICAgICAgICAgICAgICAgIHByZWZlckNhbnZhczogdHJ1ZSwKICAgICAgICAgICAgICAgIH0KICAgICAgICAgICAgKTsKICAgICAgICAgICAgTC5jb250cm9sLnNjYWxlKCkuYWRkVG8obWFwXzhkMjhlYWEzZmI5NTQxNGQ5NzBmYjc0NDJlOTkxYWU4KTsKCiAgICAgICAgICAgIAoKICAgICAgICAKICAgIAogICAgICAgICAgICB2YXIgdGlsZV9sYXllcl9mMGRkZTAwNzU5NGQ0NjY0ODJkMWUzYTU2MmI2OGFkNyA9IEwudGlsZUxheWVyKAogICAgICAgICAgICAgICAgImh0dHBzOi8vc3RhbWVuLXRpbGVzLXtzfS5hLnNzbC5mYXN0bHkubmV0L3RvbmVyL3t6fS97eH0ve3l9LnBuZyIsCiAgICAgICAgICAgICAgICB7ImF0dHJpYnV0aW9uIjogIk1hcCB0aWxlcyBieSBcdTAwM2NhIGhyZWY9XCJodHRwOi8vc3RhbWVuLmNvbVwiXHUwMDNlU3RhbWVuIERlc2lnblx1MDAzYy9hXHUwMDNlLCB1bmRlciBcdTAwM2NhIGhyZWY9XCJodHRwOi8vY3JlYXRpdmVjb21tb25zLm9yZy9saWNlbnNlcy9ieS8zLjBcIlx1MDAzZUNDIEJZIDMuMFx1MDAzYy9hXHUwMDNlLiBEYXRhIGJ5IFx1MDAyNmNvcHk7IFx1MDAzY2EgaHJlZj1cImh0dHA6Ly9vcGVuc3RyZWV0bWFwLm9yZ1wiXHUwMDNlT3BlblN0cmVldE1hcFx1MDAzYy9hXHUwMDNlLCB1bmRlciBcdTAwM2NhIGhyZWY9XCJodHRwOi8vd3d3Lm9wZW5zdHJlZXRtYXAub3JnL2NvcHlyaWdodFwiXHUwMDNlT0RiTFx1MDAzYy9hXHUwMDNlLiIsICJkZXRlY3RSZXRpbmEiOiBmYWxzZSwgIm1heE5hdGl2ZVpvb20iOiAxOCwgIm1heFpvb20iOiAxOCwgIm1pblpvb20iOiAwLCAibm9XcmFwIjogZmFsc2UsICJvcGFjaXR5IjogMSwgInN1YmRvbWFpbnMiOiAiYWJjIiwgInRtcyI6IGZhbHNlfQogICAgICAgICAgICApLmFkZFRvKG1hcF84ZDI4ZWFhM2ZiOTU0MTRkOTcwZmI3NDQyZTk5MWFlOCk7CiAgICAgICAgCiAgICAKICAgICAgICAgICAgdmFyIHBvbHlfbGluZV9mZjY4NDQxYzEyZDM0NjRiYWQ5ZjNiMDE3MjczMGI3NyA9IEwucG9seWxpbmUoCiAgICAgICAgICAgICAgICBbWzM3Ljc5NDM5MSwgLTEyMi4zOTQ5Mzk5OTk5OTk5OV0sIFszNy43OTQzMDIsIC0xMjIuMzk0OTk3XSwgWzM3Ljc5Mzc4NCwgLTEyMi4zOTU2MzUwMDAwMDAwMV0sIFszNy43OTMyNjEsIC0xMjIuMzk2MzE0OTk5OTk5OTldLCBbMzcuNzkzMTAyMDAwMDAwMDA1LCAtMTIyLjM5NjUxNjk5OTk5OTk5XSwgWzM3Ljc5MjQxLCAtMTIyLjM5NzM5Nl0sIFszNy43OTE3MjEsIC0xMjIuMzk4Mjc3MDAwMDAwMDFdLCBbMzcuNzkxMDIxLCAtMTIyLjM5OTE2MV0sIFszNy43OTA3NDksIC0xMjIuMzk5NDkyOTk5OTk5OTldLCBbMzcuNzkwMzA4LCAtMTIyLjQwMDA4XSwgWzM3Ljc4OTI2OSwgLTEyMi40MDEzODc5OTk5OTk5OF0sIFszNy43ODg3MjYwMDAwMDAwMDQsIC0xMjIuNDAyMDc4XSwgWzM3Ljc4ODA5MDAwMDAwMDAwNCwgLTEyMi40MDI5MTU5OTk5OTk5OV0sIFszNy43ODc2NDYsIC0xMjIuNDAzNDQzXSwgWzM3Ljc4NjczNSwgLTEyMi40MDQ1OTZdLCBbMzcuNzg1NzQ4OTk5OTk5OTk2LCAtMTIyLjQwNTg0Mzk5OTk5OTk5XSwgWzM3Ljc4Mzk5NiwgLTEyMi40MDgwNzldLCBbMzcuNzgzMjkxOTk5OTk5OTk2LCAtMTIyLjQwODk2NV0sIFszNy43ODIyMzUsIC0xMjIuNDEwMzA1MDAwMDAwMDFdLCBbMzcuNzgxMTk0LCAtMTIyLjQxMTYzNzk5OTk5OTk4XSwgWzM3Ljc4MDkwNywgLTEyMi40MTE5ODUwMDAwMDAwMl0sIFszNy43ODA0ODMwMDAwMDAwMDQsIC0xMjIuNDEyNTI1XSwgWzM3Ljc3ODcyNCwgLTEyMi40MTQ3NTRdLCBbMzcuNzc3OCwgLTEyMi40MTU5MzldLCBbMzcuNzc3NDk4LCAtMTIyLjQxNjMwNF0sIFszNy43NzY1NDYsIC0xMjIuNDE3NTEzOTk5OTk5OThdLCBbMzcuNzc1NTkxLCAtMTIyLjQxODY5Nl0sIFszNy43NzQzMywgLTEyMi40MTcxMTY5OTk5OTk5OV0sIFszNy43NzM5MTEsIC0xMjIuNDE2NTg3OTk5OTk5OTldLCBbMzcuNzczNTM3LCAtMTIyLjQxNjExNjk5OTk5OTk5XSwgWzM3Ljc3MzEwNSwgLTEyMi40MTU1NzM5OTk5OTk5OV0sIFszNy43NzI2NTM5OTk5OTk5OTYsIC0xMjIuNDE1MDEzOTk5OTk5OTldLCBbMzcuNzcyMTYzLCAtMTIyLjQxNDQwNV0sIFszNy43NzE4NjgsIC0xMjIuNDE0MDM4OTk5OTk5OTldLCBbMzcuNzcwNjM0LCAtMTIyLjQxMjQ5MTk5OTk5OTk5XSwgWzM3Ljc2OTQxNiwgLTEyMi40MTA5NDRdLCBbMzcuNzY5MTcyLCAtMTIyLjQwOTU0OF0sIFszNy43NjkxODMsIC0xMjIuNDA5MjcyXSwgWzM3Ljc2OTIxMSwgLTEyMi40MDg1NTZdLCBbMzcuNzY5MjQ5LCAtMTIyLjQwODAyXSwgWzM3Ljc2ODk1NiwgLTEyMi40MDc4NjQ5OTk5OTk5OV0sIFszNy43NjgzNTgsIC0xMjIuNDA3ODI2XSwgWzM3Ljc2NzA4NywgLTEyMi40MDc2OThdLCBbMzcuNzY1Nzg4LCAtMTIyLjQwNzU0N10sIFszNy43NjQ0OTIsIC0xMjIuNDA3NDMyXSwgWzM3Ljc2MzE5MiwgLTEyMi40MDczMTY5OTk5OTk5OV0sIFszNy43NjE5NCwgLTEyMi40MDcyXSwgWzM3Ljc2MDY2NiwgLTEyMi40MDcwNzhdLCBbMzcuNzU5MzcwMDAwMDAwMDA0LCAtMTIyLjQwNjk1OTAwMDAwMDAxXSwgWzM3Ljc1Nzc2NywgLTEyMi40MDY4MTIwMDAwMDAwMl0sIFszNy43NTY4MzgsIC0xMjIuNDA2NzEyMDAwMDAwMDFdLCBbMzcuNzU2MTcyLCAtMTIyLjQwNjY0OF0sIFszNy43NTQ1NjkwMDAwMDAwMDQsIC0xMjIuNDA2NDkzXSwgWzM3Ljc1NDI4MiwgLTEyMi40MDY0NjVdLCBbMzcuNzUzMDA5MDAwMDAwMDA2LCAtMTIyLjQwNjM0OV0sIFszNy43NTE3MzEsIC0xMjIuNDA2MjMyXSwgWzM3Ljc1MTM3MTk5OTk5OTk5NiwgLTEyMi40MDYxOTldLCBbMzcuNzUxMjQ2LCAtMTIyLjQwNjIzN10sIFszNy43NTEwNjksIC0xMjIuNDA2MjEzXSwgWzM3Ljc1MDksIC0xMjIuNDA2MTc3XSwgWzM3Ljc1MDcwMjAwMDAwMDAwNCwgLTEyMi40MDYwNzI5OTk5OTk5OV0sIFszNy43NDk4NTksIC0xMjIuNDA1NjM2MDAwMDAwMDJdLCBbMzcuNzQ5NDY5LCAtMTIyLjQwNTM2NTk5OTk5OTk5XSwgWzM3Ljc0OTI0NiwgLTEyMi40MDUyMTAwMDAwMDAwMV0sIFszNy43NDkwMjYsIC0xMjIuNDA0OTQxOTk5OTk5OTldLCBbMzcuNzQ4NDE2LCAtMTIyLjQwNDA5OF0sIFszNy43NDgzMDkwMDAwMDAwMDYsIC0xMjIuNDAzOTg0MDAwMDAwMDFdLCBbMzcuNzQ3OTYsIC0xMjIuNDAzNzY4XSwgWzM3Ljc0NzYyMSwgLTEyMi40MDM3OTFdLCBbMzcuNzQ3NDgxLCAtMTIyLjQwMzg0Mzk5OTk5OTk5XSwgWzM3Ljc0NjUwMzk5OTk5OTk5NSwgLTEyMi40MDQyMTVdLCBbMzcuNzQ2MDY5LCAtMTIyLjQwNDM1N10sIFszNy43NDU2NzAwMDAwMDAwMDQsIC0xMjIuNDA0MjddLCBbMzcuNzQ1NTczLCAtMTIyLjQwNDI0MDk5OTk5OTk4XSwgWzM3Ljc0NTQ4OSwgLTEyMi40MDQyMTU5OTk5OTk5OV0sIFszNy43NDUyNDIsIC0xMjIuNDA0MTk4XSwgWzM3Ljc0NDMwMywgLTEyMi40MDQ1NF0sIFszNy43NDQxMywgLTEyMi40MDQ2MDMwMDAwMDAwMV0sIFszNy43NDM2OTYsIC0xMjIuNDA0OTA5XSwgWzM3Ljc0MzQwNiwgLTEyMi40MDUxMTI5OTk5OTk5OV0sIFszNy43NDMyNTIwMDAwMDAwMDUsIC0xMjIuNDA1MjI2XSwgWzM3Ljc0MzA1NiwgLTEyMi40MDUyNTUwMDAwMDAwMV0sIFszNy43NDI5OSwgLTEyMi40MDU0MTY5OTk5OTk5OV0sIFszNy43NDIzOTYsIC0xMjIuNDA1ODUxXSwgWzM3Ljc0MjAyNSwgLTEyMi40MDYxMjJdLCBbMzcuNzQxNDQ0LCAtMTIyLjQwNjU0NTk5OTk5OTk5XSwgWzM3Ljc0MDc2OCwgLTEyMi40MDY5MjZdLCBbMzcuNzQwMjQ3LCAtMTIyLjQwNzAxN10sIFszNy43Mzk3MDk5OTk5OTk5OTUsIC0xMjIuNDA3MDYzOTk5OTk5OTldLCBbMzcuNzM5NTcxMDAwMDAwMDA1LCAtMTIyLjQwNjk5MDk5OTk5OTk5XSwgWzM3LjczOTQ1NiwgLTEyMi40MDcwNjhdLCBbMzcuNzM5MzE5LCAtMTIyLjQwNzA4MzAwMDAwMDAxXSwgWzM3LjczOTA2NCwgLTEyMi40MDcxMjddLCBbMzcuNzM4NTU4MDAwMDAwMDA1LCAtMTIyLjQwNzA4MV0sIFszNy43Mzg0NjIsIC0xMjIuNDA3MDY3XSwgWzM3LjczODA5OSwgLTEyMi40MDcwMTIwMDAwMDAwMV0sIFszNy43Mzc5NzAwMDAwMDAwMDQsIC0xMjIuNDA2OTIyOTk5OTk5OTldLCBbMzcuNzM2MzEzLCAtMTIyLjQwNjcxNTk5OTk5OTk5XSwgWzM3LjczNTkwMSwgLTEyMi40MDY2MzFdLCBbMzcuNzM1NTE1LCAtMTIyLjQwNjQ2Njk5OTk5OTk5XSwgWzM3LjczNDI5MTk5OTk5OTk5NiwgLTEyMi40MDU1MDddLCBbMzcuNzMzNzIxLCAtMTIyLjQwNTEwOTAwMDAwMDAxXSwgWzM3LjczMjk1MywgLTEyMi40MDQ2N10sIFszNy43MzI0NDI5OTk5OTk5OTYsIC0xMjIuNDA1NjJdLCBbMzcuNzMxMjQyLCAtMTIyLjQwNTA5OF0sIFszNy43MzAzMjMsIC0xMjIuNDA0NzE5XSwgWzM3LjczMDA0MiwgLTEyMi40MDQ2MDVdLCBbMzcuNzI4ODQwMDAwMDAwMDA1LCAtMTIyLjQwNDExMjAwMDAwMDAxXSwgWzM3LjcyNzYzOSwgLTEyMi40MDM2MDVdLCBbMzcuNzI2NDM4LCAtMTIyLjQwMzExNDk5OTk5OTk5XSwgWzM3LjcyNTI0LCAtMTIyLjQwMjYxMjk5OTk5OTk5XSwgWzM3LjcyNDA0LCAtMTIyLjQwMjEyMV0sIFszNy43MjM5MjUsIC0xMjIuNDAyMDczXSwgWzM3LjcyMjgzNywgLTEyMi40MDE2MjVdLCBbMzcuNzIyMzc0LCAtMTIyLjQwMTQzNDAwMDAwMDAxXSwgWzM3LjcyMTY3Mjk5OTk5OTk5NiwgLTEyMi40MDExNDI5OTk5OTk5OV0sIFszNy43MjE1MzksIC0xMjIuNDAxMDg3MDAwMDAwMDJdLCBbMzcuNzIxMTgyLCAtMTIyLjQwMDkzNF0sIFszNy43MjA0MTMsIC0xMjIuNDAwNzQ4XSwgWzM3LjcxOTE2NTk5OTk5OTk5NCwgLTEyMi40MDA0NDddLCBbMzcuNzE4NTExLCAtMTIyLjQwMDI4ODk5OTk5OTk5XSwgWzM3LjcxNzkxMSwgLTEyMi40MDAxNDRdLCBbMzcuNzE3NTQyLCAtMTIyLjQwMDA1NTAwMDAwMDAxXSwgWzM3LjcxNzQxNiwgLTEyMi40MDAwMjRdLCBbMzcuNzE2NjU0OTk5OTk5OTk2LCAtMTIyLjM5OTg0MV0sIFszNy43MTYxODcsIC0xMjIuMzk5NzUyXSwgWzM3LjcxNTM5NSwgLTEyMi4zOTk1NjAwMDAwMDAwMV0sIFszNy43MTUyMDYsIC0xMjIuMzk5NTc5XSwgWzM3LjcxNTAxNSwgLTEyMi4zOTk3MTAwMDAwMDAwMV0sIFszNy43MTQ4OCwgLTEyMi4zOTk5NTJdLCBbMzcuNzE0NzM2LCAtMTIyLjQwMDQ2Ml0sIFszNy43MTQ1MjYsIC0xMjIuNDAxMjIzXSwgWzM3LjcxNDUyLCAtMTIyLjQwMTYzNzk5OTk5OTk5XSwgWzM3LjcxNDQ1NiwgLTEyMi40MDE4MDJdLCBbMzcuNzE0MzY0LCAtMTIyLjQwMTg5Njk5OTk5OTk5XSwgWzM3LjcxNDE3NywgLTEyMi40MDE5OTM5OTk5OTk5OV0sIFszNy43MTM1MTMsIC0xMjIuNDAyMTA4MDAwMDAwMDFdLCBbMzcuNzEyOTk4OTk5OTk5OTk2LCAtMTIyLjQwMjExMDAwMDAwMDAxXSwgWzM3LjcxMjc5OSwgLTEyMi40MDIxMTFdLCBbMzcuNzEyNzE3LCAtMTIyLjQwMjEyNV0sIFszNy43MTI1NjUwMDAwMDAwMDUsIC0xMjIuNDAyMjcxXSwgWzM3LjcxMjQzOSwgLTEyMi40MDI0ODNdLCBbMzcuNzEyMTg0LCAtMTIyLjQwMjQ3Ml0sIFszNy43MTIwOTYsIC0xMjIuNDAyNzk2XSwgWzM3LjcxMTk2OCwgLTEyMi40MDMwMjFdLCBbMzcuNzExNzkxLCAtMTIyLjQwMzIxOF0sIFszNy43MTExOTMsIC0xMjIuNDAzNjYzXV0sCiAgICAgICAgICAgICAgICB7ImJ1YmJsaW5nTW91c2VFdmVudHMiOiB0cnVlLCAiY29sb3IiOiAiIzMzODhmZiIsICJkYXNoQXJyYXkiOiBudWxsLCAiZGFzaE9mZnNldCI6IG51bGwsICJmaWxsIjogZmFsc2UsICJmaWxsQ29sb3IiOiAiIzMzODhmZiIsICJmaWxsT3BhY2l0eSI6IDAuMiwgImZpbGxSdWxlIjogImV2ZW5vZGQiLCAibGluZUNhcCI6ICJyb3VuZCIsICJsaW5lSm9pbiI6ICJyb3VuZCIsICJub0NsaXAiOiBmYWxzZSwgIm9wYWNpdHkiOiAxLjAsICJzbW9vdGhGYWN0b3IiOiAxLjAsICJzdHJva2UiOiB0cnVlLCAid2VpZ2h0IjogNX0KICAgICAgICAgICAgKS5hZGRUbyhtYXBfOGQyOGVhYTNmYjk1NDE0ZDk3MGZiNzQ0MmU5OTFhZTgpOwogICAgICAgIAogICAgCiAgICAgICAgICAgIHBvbHlfbGluZV9mZjY4NDQxYzEyZDM0NjRiYWQ5ZjNiMDE3MjczMGI3Ny5iaW5kVG9vbHRpcCgKICAgICAgICAgICAgICAgIGA8ZGl2PgogICAgICAgICAgICAgICAgICAgICBzaGFwZV9pZDoxODQwOTcKICAgICAgICAgICAgICAgICA8L2Rpdj5gLAogICAgICAgICAgICAgICAgeyJzdGlja3kiOiB0cnVlfQogICAgICAgICAgICApOwogICAgICAgIAogICAgCiAgICAgICAgICAgIHZhciBtYXJrZXJfNDcwNDliOGVjYmQ2NGU1YTk3MDJjMDBiNjRhMDcwYWIgPSBMLm1hcmtlcigKICAgICAgICAgICAgICAgIFszNy43NzI4ODQwMDAwMDAwMDUsIC0xMjIuNDE1NDM2MDAwMDAwMDFdLAogICAgICAgICAgICAgICAge30KICAgICAgICAgICAgKS5hZGRUbyhtYXBfOGQyOGVhYTNmYjk1NDE0ZDk3MGZiNzQ0MmU5OTFhZTgpOwogICAgICAgIAogICAgCiAgICAgICAgICAgIHZhciBpY29uXzcxODAwMWZmZGMwYTQ0ZWE4ZTU1NzIyM2RkYmFhNDg1ID0gTC5Bd2Vzb21lTWFya2Vycy5pY29uKAogICAgICAgICAgICAgICAgeyJleHRyYUNsYXNzZXMiOiAiZmEtcm90YXRlLTAiLCAiaWNvbiI6ICJmYS1jaXJjbGUiLCAiaWNvbkNvbG9yIjogIndoaXRlIiwgIm1hcmtlckNvbG9yIjogImJsdWUiLCAicHJlZml4IjogImZhIn0KICAgICAgICAgICAgKTsKICAgICAgICAgICAgbWFya2VyXzQ3MDQ5YjhlY2JkNjRlNWE5NzAyYzAwYjY0YTA3MGFiLnNldEljb24oaWNvbl83MTgwMDFmZmRjMGE0NGVhOGU1NTcyMjNkZGJhYTQ4NSk7CiAgICAgICAgCiAgICAKICAgICAgICAgICAgbWFya2VyXzQ3MDQ5YjhlY2JkNjRlNWE5NzAyYzAwYjY0YTA3MGFiLmJpbmRUb29sdGlwKAogICAgICAgICAgICAgICAgYDxkaXY+CiAgICAgICAgICAgICAgICAgICAgIHN0b3BfaWQ6MzI0MQogICAgICAgICAgICAgICAgIDwvZGl2PmAsCiAgICAgICAgICAgICAgICB7InN0aWNreSI6IHRydWV9CiAgICAgICAgICAgICk7CiAgICAgICAgCiAgICAKICAgICAgICAgICAgdmFyIG1hcmtlcl81OTI5NGU5MzM5YWI0NjEzYTJkZmM2NjU2MTNlYzBhNiA9IEwubWFya2VyKAogICAgICAgICAgICAgICAgWzM3Ljc3NTQ0NCwgLTEyMi40MTg1NF0sCiAgICAgICAgICAgICAgICB7fQogICAgICAgICAgICApLmFkZFRvKG1hcF84ZDI4ZWFhM2ZiOTU0MTRkOTcwZmI3NDQyZTk5MWFlOCk7CiAgICAgICAgCiAgICAKICAgICAgICAgICAgdmFyIGljb25fNzE4NTFhMGE3MTNjNGYwMTgzYjZiYWRhM2Y5NTFlNzIgPSBMLkF3ZXNvbWVNYXJrZXJzLmljb24oCiAgICAgICAgICAgICAgICB7ImV4dHJhQ2xhc3NlcyI6ICJmYS1yb3RhdGUtMCIsICJpY29uIjogImZhLWNpcmNsZSIsICJpY29uQ29sb3IiOiAid2hpdGUiLCAibWFya2VyQ29sb3IiOiAiYmx1ZSIsICJwcmVmaXgiOiAiZmEifQogICAgICAgICAgICApOwogICAgICAgICAgICBtYXJrZXJfNTkyOTRlOTMzOWFiNDYxM2EyZGZjNjY1NjEzZWMwYTYuc2V0SWNvbihpY29uXzcxODUxYTBhNzEzYzRmMDE4M2I2YmFkYTNmOTUxZTcyKTsKICAgICAgICAKICAgIAogICAgICAgICAgICBtYXJrZXJfNTkyOTRlOTMzOWFiNDYxM2EyZGZjNjY1NjEzZWMwYTYuYmluZFRvb2x0aXAoCiAgICAgICAgICAgICAgICBgPGRpdj4KICAgICAgICAgICAgICAgICAgICAgc3RvcF9pZDozMjQ1CiAgICAgICAgICAgICAgICAgPC9kaXY+YCwKICAgICAgICAgICAgICAgIHsic3RpY2t5IjogdHJ1ZX0KICAgICAgICAgICAgKTsKICAgICAgICAKICAgIAogICAgICAgICAgICB2YXIgbWFya2VyXzllYjFiYzZjYzViYTRlYjFiZDBkYzhkYTIwOTY4ZWM4ID0gTC5tYXJrZXIoCiAgICAgICAgICAgICAgICBbMzcuNzEyMjM0LCAtMTIyLjQwMjQ3XSwKICAgICAgICAgICAgICAgIHt9CiAgICAgICAgICAgICkuYWRkVG8obWFwXzhkMjhlYWEzZmI5NTQxNGQ5NzBmYjc0NDJlOTkxYWU4KTsKICAgICAgICAKICAgIAogICAgICAgICAgICB2YXIgaWNvbl9jYWQ0MmEzYWQ3YWE0MmY0YjNlZDUxNGNmMmYwYTFmMiA9IEwuQXdlc29tZU1hcmtlcnMuaWNvbigKICAgICAgICAgICAgICAgIHsiZXh0cmFDbGFzc2VzIjogImZhLXJvdGF0ZS0wIiwgImljb24iOiAiZmEtY2lyY2xlIiwgImljb25Db2xvciI6ICJ3aGl0ZSIsICJtYXJrZXJDb2xvciI6ICJibHVlIiwgInByZWZpeCI6ICJmYSJ9CiAgICAgICAgICAgICk7CiAgICAgICAgICAgIG1hcmtlcl85ZWIxYmM2Y2M1YmE0ZWIxYmQwZGM4ZGEyMDk2OGVjOC5zZXRJY29uKGljb25fY2FkNDJhM2FkN2FhNDJmNGIzZWQ1MTRjZjJmMGExZjIpOwogICAgICAgIAogICAgCiAgICAgICAgICAgIG1hcmtlcl85ZWIxYmM2Y2M1YmE0ZWIxYmQwZGM4ZGEyMDk2OGVjOC5iaW5kVG9vbHRpcCgKICAgICAgICAgICAgICAgIGA8ZGl2PgogICAgICAgICAgICAgICAgICAgICBzdG9wX2lkOjM3NzIKICAgICAgICAgICAgICAgICA8L2Rpdj5gLAogICAgICAgICAgICAgICAgeyJzdGlja3kiOiB0cnVlfQogICAgICAgICAgICApOwogICAgICAgIAogICAgCiAgICAgICAgICAgIHZhciBtYXJrZXJfN2E3ZmQ2NjZiZDViNDgzYzkyM2ZhMjQ5Zjk1ZTI3MTkgPSBMLm1hcmtlcigKICAgICAgICAgICAgICAgIFszNy43MzQzMTQwMDAwMDAwMDUsIC0xMjIuNDA1NjJdLAogICAgICAgICAgICAgICAge30KICAgICAgICAgICAgKS5hZGRUbyhtYXBfOGQyOGVhYTNmYjk1NDE0ZDk3MGZiNzQ0MmU5OTFhZTgpOwogICAgICAgIAogICAgCiAgICAgICAgICAgIHZhciBpY29uX2EwMmY2ODIzZTcwMjQ0N2ViYTU4ZjZjMThkNGEyNzQ2ID0gTC5Bd2Vzb21lTWFya2Vycy5pY29uKAogICAgICAgICAgICAgICAgeyJleHRyYUNsYXNzZXMiOiAiZmEtcm90YXRlLTAiLCAiaWNvbiI6ICJmYS1jaXJjbGUiLCAiaWNvbkNvbG9yIjogIndoaXRlIiwgIm1hcmtlckNvbG9yIjogImJsdWUiLCAicHJlZml4IjogImZhIn0KICAgICAgICAgICAgKTsKICAgICAgICAgICAgbWFya2VyXzdhN2ZkNjY2YmQ1YjQ4M2M5MjNmYTI0OWY5NWUyNzE5LnNldEljb24oaWNvbl9hMDJmNjgyM2U3MDI0NDdlYmE1OGY2YzE4ZDRhMjc0Nik7CiAgICAgICAgCiAgICAKICAgICAgICAgICAgbWFya2VyXzdhN2ZkNjY2YmQ1YjQ4M2M5MjNmYTI0OWY5NWUyNzE5LmJpbmRUb29sdGlwKAogICAgICAgICAgICAgICAgYDxkaXY+CiAgICAgICAgICAgICAgICAgICAgIHN0b3BfaWQ6Mzc3MwogICAgICAgICAgICAgICAgIDwvZGl2PmAsCiAgICAgICAgICAgICAgICB7InN0aWNreSI6IHRydWV9CiAgICAgICAgICAgICk7CiAgICAgICAgCiAgICAKICAgICAgICAgICAgdmFyIG1hcmtlcl8yM2FhOGYwMDc0Yzg0NzVhYmQyNDZiYWY0YTJkNzJiMiA9IEwubWFya2VyKAogICAgICAgICAgICAgICAgWzM3LjczOTcxNTk5OTk5OTk5NCwgLTEyMi40MDcwNjAwMDAwMDAwMl0sCiAgICAgICAgICAgICAgICB7fQogICAgICAgICAgICApLmFkZFRvKG1hcF84ZDI4ZWFhM2ZiOTU0MTRkOTcwZmI3NDQyZTk5MWFlOCk7CiAgICAgICAgCiAgICAKICAgICAgICAgICAgdmFyIGljb25fNGUyOWQxMjM1Y2UyNDk0MThiYjcwNjBiODU2YzE4ZTMgPSBMLkF3ZXNvbWVNYXJrZXJzLmljb24oCiAgICAgICAgICAgICAgICB7ImV4dHJhQ2xhc3NlcyI6ICJmYS1yb3RhdGUtMCIsICJpY29uIjogImZhLWNpcmNsZSIsICJpY29uQ29sb3IiOiAid2hpdGUiLCAibWFya2VyQ29sb3IiOiAiYmx1ZSIsICJwcmVmaXgiOiAiZmEifQogICAgICAgICAgICApOwogICAgICAgICAgICBtYXJrZXJfMjNhYThmMDA3NGM4NDc1YWJkMjQ2YmFmNGEyZDcyYjIuc2V0SWNvbihpY29uXzRlMjlkMTIzNWNlMjQ5NDE4YmI3MDYwYjg1NmMxOGUzKTsKICAgICAgICAKICAgIAogICAgICAgICAgICBtYXJrZXJfMjNhYThmMDA3NGM4NDc1YWJkMjQ2YmFmNGEyZDcyYjIuYmluZFRvb2x0aXAoCiAgICAgICAgICAgICAgICBgPGRpdj4KICAgICAgICAgICAgICAgICAgICAgc3RvcF9pZDozNzc5CiAgICAgICAgICAgICAgICAgPC9kaXY+YCwKICAgICAgICAgICAgICAgIHsic3RpY2t5IjogdHJ1ZX0KICAgICAgICAgICAgKTsKICAgICAgICAKICAgIAogICAgICAgICAgICB2YXIgbWFya2VyXzdkNjk1MWU3NTliODQxNzdhZmJjNTkzOWM2Mzk0N2VjID0gTC5tYXJrZXIoCiAgICAgICAgICAgICAgICBbMzcuNzg0MTg0LCAtMTIyLjQwNzg2OTk5OTk5OTk5XSwKICAgICAgICAgICAgICAgIHt9CiAgICAgICAgICAgICkuYWRkVG8obWFwXzhkMjhlYWEzZmI5NTQxNGQ5NzBmYjc0NDJlOTkxYWU4KTsKICAgICAgICAKICAgIAogICAgICAgICAgICB2YXIgaWNvbl83MGRhMGY2YTgwMWY0MmJjOWU2NDVmZjI2OWFjNjc2MCA9IEwuQXdlc29tZU1hcmtlcnMuaWNvbigKICAgICAgICAgICAgICAgIHsiZXh0cmFDbGFzc2VzIjogImZhLXJvdGF0ZS0wIiwgImljb24iOiAiZmEtY2lyY2xlIiwgImljb25Db2xvciI6ICJ3aGl0ZSIsICJtYXJrZXJDb2xvciI6ICJibHVlIiwgInByZWZpeCI6ICJmYSJ9CiAgICAgICAgICAgICk7CiAgICAgICAgICAgIG1hcmtlcl83ZDY5NTFlNzU5Yjg0MTc3YWZiYzU5MzljNjM5NDdlYy5zZXRJY29uKGljb25fNzBkYTBmNmE4MDFmNDJiYzllNjQ1ZmYyNjlhYzY3NjApOwogICAgICAgIAogICAgCiAgICAgICAgICAgIG1hcmtlcl83ZDY5NTFlNzU5Yjg0MTc3YWZiYzU5MzljNjM5NDdlYy5iaW5kVG9vbHRpcCgKICAgICAgICAgICAgICAgIGA8ZGl2PgogICAgICAgICAgICAgICAgICAgICBzdG9wX2lkOjU2NTUKICAgICAgICAgICAgICAgICA8L2Rpdj5gLAogICAgICAgICAgICAgICAgeyJzdGlja3kiOiB0cnVlfQogICAgICAgICAgICApOwogICAgICAgIAogICAgCiAgICAgICAgICAgIHZhciBtYXJrZXJfMzczNmYwOTViMmZiNDAzNWEwMDMxOTZlNWViNzBjYzQgPSBMLm1hcmtlcigKICAgICAgICAgICAgICAgIFszNy43ODA2OSwgLTEyMi40MTIyODUwMDAwMDAwMV0sCiAgICAgICAgICAgICAgICB7fQogICAgICAgICAgICApLmFkZFRvKG1hcF84ZDI4ZWFhM2ZiOTU0MTRkOTcwZmI3NDQyZTk5MWFlOCk7CiAgICAgICAgCiAgICAKICAgICAgICAgICAgdmFyIGljb25fZWQyOGJkZjZhNzZiNDgxZTk2ZTZmODY4ZjlhY2E1NDQgPSBMLkF3ZXNvbWVNYXJrZXJzLmljb24oCiAgICAgICAgICAgICAgICB7ImV4dHJhQ2xhc3NlcyI6ICJmYS1yb3RhdGUtMCIsICJpY29uIjogImZhLWNpcmNsZSIsICJpY29uQ29sb3IiOiAid2hpdGUiLCAibWFya2VyQ29sb3IiOiAiYmx1ZSIsICJwcmVmaXgiOiAiZmEifQogICAgICAgICAgICApOwogICAgICAgICAgICBtYXJrZXJfMzczNmYwOTViMmZiNDAzNWEwMDMxOTZlNWViNzBjYzQuc2V0SWNvbihpY29uX2VkMjhiZGY2YTc2YjQ4MWU5NmU2Zjg2OGY5YWNhNTQ0KTsKICAgICAgICAKICAgIAogICAgICAgICAgICBtYXJrZXJfMzczNmYwOTViMmZiNDAzNWEwMDMxOTZlNWViNzBjYzQuYmluZFRvb2x0aXAoCiAgICAgICAgICAgICAgICBgPGRpdj4KICAgICAgICAgICAgICAgICAgICAgc3RvcF9pZDo1NjU2CiAgICAgICAgICAgICAgICAgPC9kaXY+YCwKICAgICAgICAgICAgICAgIHsic3RpY2t5IjogdHJ1ZX0KICAgICAgICAgICAgKTsKICAgICAgICAKICAgIAogICAgICAgICAgICB2YXIgbWFya2VyX2U3NWY1ZjNiNmYyZDQ4YWRiN2JlYjA0MjI1YTZhNGM3ID0gTC5tYXJrZXIoCiAgICAgICAgICAgICAgICBbMzcuNzkxMjEsIC0xMjIuMzk4OTRdLAogICAgICAgICAgICAgICAge30KICAgICAgICAgICAgKS5hZGRUbyhtYXBfOGQyOGVhYTNmYjk1NDE0ZDk3MGZiNzQ0MmU5OTFhZTgpOwogICAgICAgIAogICAgCiAgICAgICAgICAgIHZhciBpY29uXzg3M2IwZjU0Yjk3NDQ1ZWRhYjZhYmFlZjhhZjkwMTc3ID0gTC5Bd2Vzb21lTWFya2Vycy5pY29uKAogICAgICAgICAgICAgICAgeyJleHRyYUNsYXNzZXMiOiAiZmEtcm90YXRlLTAiLCAiaWNvbiI6ICJmYS1jaXJjbGUiLCAiaWNvbkNvbG9yIjogIndoaXRlIiwgIm1hcmtlckNvbG9yIjogImJsdWUiLCAicHJlZml4IjogImZhIn0KICAgICAgICAgICAgKTsKICAgICAgICAgICAgbWFya2VyX2U3NWY1ZjNiNmYyZDQ4YWRiN2JlYjA0MjI1YTZhNGM3LnNldEljb24oaWNvbl84NzNiMGY1NGI5NzQ0NWVkYWI2YWJhZWY4YWY5MDE3Nyk7CiAgICAgICAgCiAgICAKICAgICAgICAgICAgbWFya2VyX2U3NWY1ZjNiNmYyZDQ4YWRiN2JlYjA0MjI1YTZhNGM3LmJpbmRUb29sdGlwKAogICAgICAgICAgICAgICAgYDxkaXY+CiAgICAgICAgICAgICAgICAgICAgIHN0b3BfaWQ6NTY1NwogICAgICAgICAgICAgICAgIDwvZGl2PmAsCiAgICAgICAgICAgICAgICB7InN0aWNreSI6IHRydWV9CiAgICAgICAgICAgICk7CiAgICAgICAgCiAgICAKICAgICAgICAgICAgdmFyIG1hcmtlcl85MDk2YTVmYzRiNDY0ODYwYjU4OWY5OWFjMjAwYzM0NiA9IEwubWFya2VyKAogICAgICAgICAgICAgICAgWzM3Ljc3OTEwNiwgLTEyMi40MTQzNzVdLAogICAgICAgICAgICAgICAge30KICAgICAgICAgICAgKS5hZGRUbyhtYXBfOGQyOGVhYTNmYjk1NDE0ZDk3MGZiNzQ0MmU5OTFhZTgpOwogICAgICAgIAogICAgCiAgICAgICAgICAgIHZhciBpY29uXzVjMjE2OGQ2NDM5NzQ0NjI4YWI2MGUzMjhmN2IyY2M4ID0gTC5Bd2Vzb21lTWFya2Vycy5pY29uKAogICAgICAgICAgICAgICAgeyJleHRyYUNsYXNzZXMiOiAiZmEtcm90YXRlLTAiLCAiaWNvbiI6ICJmYS1jaXJjbGUiLCAiaWNvbkNvbG9yIjogIndoaXRlIiwgIm1hcmtlckNvbG9yIjogImJsdWUiLCAicHJlZml4IjogImZhIn0KICAgICAgICAgICAgKTsKICAgICAgICAgICAgbWFya2VyXzkwOTZhNWZjNGI0NjQ4NjBiNTg5Zjk5YWMyMDBjMzQ2LnNldEljb24oaWNvbl81YzIxNjhkNjQzOTc0NDYyOGFiNjBlMzI4ZjdiMmNjOCk7CiAgICAgICAgCiAgICAKICAgICAgICAgICAgbWFya2VyXzkwOTZhNWZjNGI0NjQ4NjBiNTg5Zjk5YWMyMDBjMzQ2LmJpbmRUb29sdGlwKAogICAgICAgICAgICAgICAgYDxkaXY+CiAgICAgICAgICAgICAgICAgICAgIHN0b3BfaWQ6NTY3NgogICAgICAgICAgICAgICAgIDwvZGl2PmAsCiAgICAgICAgICAgICAgICB7InN0aWNreSI6IHRydWV9CiAgICAgICAgICAgICk7CiAgICAgICAgCiAgICAKICAgICAgICAgICAgdmFyIG1hcmtlcl8zYTEyYTY0OWRkODI0NzYyYTdhZTFhN2Q0NjU5ZDBiMSA9IEwubWFya2VyKAogICAgICAgICAgICAgICAgWzM3Ljc3NzcyLCAtMTIyLjQxNjA5XSwKICAgICAgICAgICAgICAgIHt9CiAgICAgICAgICAgICkuYWRkVG8obWFwXzhkMjhlYWEzZmI5NTQxNGQ5NzBmYjc0NDJlOTkxYWU4KTsKICAgICAgICAKICAgIAogICAgICAgICAgICB2YXIgaWNvbl9iOTZhZmVjODU2NmU0MDYwYjRjZGQ0YTI4MzhjZjk1OSA9IEwuQXdlc29tZU1hcmtlcnMuaWNvbigKICAgICAgICAgICAgICAgIHsiZXh0cmFDbGFzc2VzIjogImZhLXJvdGF0ZS0wIiwgImljb24iOiAiZmEtY2lyY2xlIiwgImljb25Db2xvciI6ICJ3aGl0ZSIsICJtYXJrZXJDb2xvciI6ICJibHVlIiwgInByZWZpeCI6ICJmYSJ9CiAgICAgICAgICAgICk7CiAgICAgICAgICAgIG1hcmtlcl8zYTEyYTY0OWRkODI0NzYyYTdhZTFhN2Q0NjU5ZDBiMS5zZXRJY29uKGljb25fYjk2YWZlYzg1NjZlNDA2MGI0Y2RkNGEyODM4Y2Y5NTkpOwogICAgICAgIAogICAgCiAgICAgICAgICAgIG1hcmtlcl8zYTEyYTY0OWRkODI0NzYyYTdhZTFhN2Q0NjU5ZDBiMS5iaW5kVG9vbHRpcCgKICAgICAgICAgICAgICAgIGA8ZGl2PgogICAgICAgICAgICAgICAgICAgICBzdG9wX2lkOjU2ODAKICAgICAgICAgICAgICAgICA8L2Rpdj5gLAogICAgICAgICAgICAgICAgeyJzdGlja3kiOiB0cnVlfQogICAgICAgICAgICApOwogICAgICAgIAogICAgCiAgICAgICAgICAgIHZhciBtYXJrZXJfOWUyNmNjMGI2NGUxNDE5ZGEzYmU2NjA3YmQ1MGEwZDQgPSBMLm1hcmtlcigKICAgICAgICAgICAgICAgIFszNy43ODU5NzMsIC0xMjIuNDA1NjJdLAogICAgICAgICAgICAgICAge30KICAgICAgICAgICAgKS5hZGRUbyhtYXBfOGQyOGVhYTNmYjk1NDE0ZDk3MGZiNzQ0MmU5OTFhZTgpOwogICAgICAgIAogICAgCiAgICAgICAgICAgIHZhciBpY29uXzQ2OGU2OGRlMzM5NzRmODU5OWMxOTFlN2Q5ODYxMDgyID0gTC5Bd2Vzb21lTWFya2Vycy5pY29uKAogICAgICAgICAgICAgICAgeyJleHRyYUNsYXNzZXMiOiAiZmEtcm90YXRlLTAiLCAiaWNvbiI6ICJmYS1jaXJjbGUiLCAiaWNvbkNvbG9yIjogIndoaXRlIiwgIm1hcmtlckNvbG9yIjogImJsdWUiLCAicHJlZml4IjogImZhIn0KICAgICAgICAgICAgKTsKICAgICAgICAgICAgbWFya2VyXzllMjZjYzBiNjRlMTQxOWRhM2JlNjYwN2JkNTBhMGQ0LnNldEljb24oaWNvbl80NjhlNjhkZTMzOTc0Zjg1OTljMTkxZTdkOTg2MTA4Mik7CiAgICAgICAgCiAgICAKICAgICAgICAgICAgbWFya2VyXzllMjZjYzBiNjRlMTQxOWRhM2JlNjYwN2JkNTBhMGQ0LmJpbmRUb29sdGlwKAogICAgICAgICAgICAgICAgYDxkaXY+CiAgICAgICAgICAgICAgICAgICAgIHN0b3BfaWQ6NTY5NAogICAgICAgICAgICAgICAgIDwvZGl2PmAsCiAgICAgICAgICAgICAgICB7InN0aWNreSI6IHRydWV9CiAgICAgICAgICAgICk7CiAgICAgICAgCiAgICAKICAgICAgICAgICAgdmFyIG1hcmtlcl9iYzZhMWEwNDk2OTM0MWIwYjNlMjcwMGJkNDk0OWU0MCA9IEwubWFya2VyKAogICAgICAgICAgICAgICAgWzM3Ljc4MjQwNiwgLTEyMi40MTAxMV0sCiAgICAgICAgICAgICAgICB7fQogICAgICAgICAgICApLmFkZFRvKG1hcF84ZDI4ZWFhM2ZiOTU0MTRkOTcwZmI3NDQyZTk5MWFlOCk7CiAgICAgICAgCiAgICAKICAgICAgICAgICAgdmFyIGljb25fYTU1OTRkZTAyNzkzNGRhY2E2YzVmYWVmZWE0MjZjYTIgPSBMLkF3ZXNvbWVNYXJrZXJzLmljb24oCiAgICAgICAgICAgICAgICB7ImV4dHJhQ2xhc3NlcyI6ICJmYS1yb3RhdGUtMCIsICJpY29uIjogImZhLWNpcmNsZSIsICJpY29uQ29sb3IiOiAid2hpdGUiLCAibWFya2VyQ29sb3IiOiAiYmx1ZSIsICJwcmVmaXgiOiAiZmEifQogICAgICAgICAgICApOwogICAgICAgICAgICBtYXJrZXJfYmM2YTFhMDQ5NjkzNDFiMGIzZTI3MDBiZDQ5NDllNDAuc2V0SWNvbihpY29uX2E1NTk0ZGUwMjc5MzRkYWNhNmM1ZmFlZmVhNDI2Y2EyKTsKICAgICAgICAKICAgIAogICAgICAgICAgICBtYXJrZXJfYmM2YTFhMDQ5NjkzNDFiMGIzZTI3MDBiZDQ5NDllNDAuYmluZFRvb2x0aXAoCiAgICAgICAgICAgICAgICBgPGRpdj4KICAgICAgICAgICAgICAgICAgICAgc3RvcF9pZDo1Njk1CiAgICAgICAgICAgICAgICAgPC9kaXY+YCwKICAgICAgICAgICAgICAgIHsic3RpY2t5IjogdHJ1ZX0KICAgICAgICAgICAgKTsKICAgICAgICAKICAgIAogICAgICAgICAgICB2YXIgbWFya2VyXzI4ZjliMmZjMGY0MzRiODVhOGQ0ZjliZTMyNWZkYTVmID0gTC5tYXJrZXIoCiAgICAgICAgICAgICAgICBbMzcuNzY1ODczLCAtMTIyLjQwNzU1NV0sCiAgICAgICAgICAgICAgICB7fQogICAgICAgICAgICApLmFkZFRvKG1hcF84ZDI4ZWFhM2ZiOTU0MTRkOTcwZmI3NDQyZTk5MWFlOCk7CiAgICAgICAgCiAgICAKICAgICAgICAgICAgdmFyIGljb25fNDIwMWY1NWMxOWQzNGE5YWE4YzEwMjdlZDM2ZDYzOTggPSBMLkF3ZXNvbWVNYXJrZXJzLmljb24oCiAgICAgICAgICAgICAgICB7ImV4dHJhQ2xhc3NlcyI6ICJmYS1yb3RhdGUtMCIsICJpY29uIjogImZhLWNpcmNsZSIsICJpY29uQ29sb3IiOiAid2hpdGUiLCAibWFya2VyQ29sb3IiOiAiYmx1ZSIsICJwcmVmaXgiOiAiZmEifQogICAgICAgICAgICApOwogICAgICAgICAgICBtYXJrZXJfMjhmOWIyZmMwZjQzNGI4NWE4ZDRmOWJlMzI1ZmRhNWYuc2V0SWNvbihpY29uXzQyMDFmNTVjMTlkMzRhOWFhOGMxMDI3ZWQzNmQ2Mzk4KTsKICAgICAgICAKICAgIAogICAgICAgICAgICBtYXJrZXJfMjhmOWIyZmMwZjQzNGI4NWE4ZDRmOWJlMzI1ZmRhNWYuYmluZFRvb2x0aXAoCiAgICAgICAgICAgICAgICBgPGRpdj4KICAgICAgICAgICAgICAgICAgICAgc3RvcF9pZDo2MDI3CiAgICAgICAgICAgICAgICAgPC9kaXY+YCwKICAgICAgICAgICAgICAgIHsic3RpY2t5IjogdHJ1ZX0KICAgICAgICAgICAgKTsKICAgICAgICAKICAgIAogICAgICAgICAgICB2YXIgbWFya2VyXzMyNzczODEwZDA1ODQzZTliYjE3OTFjNzMwYTMwNWFiID0gTC5tYXJrZXIoCiAgICAgICAgICAgICAgICBbMzcuNzU3NTUsIC0xMjIuNDA2ODg5OTk5OTk5OTldLAogICAgICAgICAgICAgICAge30KICAgICAgICAgICAgKS5hZGRUbyhtYXBfOGQyOGVhYTNmYjk1NDE0ZDk3MGZiNzQ0MmU5OTFhZTgpOwogICAgICAgIAogICAgCiAgICAgICAgICAgIHZhciBpY29uX2E4ODE0ZjQ0OGQ3ZjQwMjBiNjllNThjYjBmYTZmZDBlID0gTC5Bd2Vzb21lTWFya2Vycy5pY29uKAogICAgICAgICAgICAgICAgeyJleHRyYUNsYXNzZXMiOiAiZmEtcm90YXRlLTAiLCAiaWNvbiI6ICJmYS1jaXJjbGUiLCAiaWNvbkNvbG9yIjogIndoaXRlIiwgIm1hcmtlckNvbG9yIjogImJsdWUiLCAicHJlZml4IjogImZhIn0KICAgICAgICAgICAgKTsKICAgICAgICAgICAgbWFya2VyXzMyNzczODEwZDA1ODQzZTliYjE3OTFjNzMwYTMwNWFiLnNldEljb24oaWNvbl9hODgxNGY0NDhkN2Y0MDIwYjY5ZTU4Y2IwZmE2ZmQwZSk7CiAgICAgICAgCiAgICAKICAgICAgICAgICAgbWFya2VyXzMyNzczODEwZDA1ODQzZTliYjE3OTFjNzMwYTMwNWFiLmJpbmRUb29sdGlwKAogICAgICAgICAgICAgICAgYDxkaXY+CiAgICAgICAgICAgICAgICAgICAgIHN0b3BfaWQ6NjAzNAogICAgICAgICAgICAgICAgIDwvZGl2PmAsCiAgICAgICAgICAgICAgICB7InN0aWNreSI6IHRydWV9CiAgICAgICAgICAgICk7CiAgICAgICAgCiAgICAKICAgICAgICAgICAgdmFyIG1hcmtlcl8xYjRmMjc2NGJkZmY0NmY1OTQ3MTczNTlkMzUyNzE3NSA9IEwubWFya2VyKAogICAgICAgICAgICAgICAgWzM3Ljc1NDk2LCAtMTIyLjQwNjc0Nl0sCiAgICAgICAgICAgICAgICB7fQogICAgICAgICAgICApLmFkZFRvKG1hcF84ZDI4ZWFhM2ZiOTU0MTRkOTcwZmI3NDQyZTk5MWFlOCk7CiAgICAgICAgCiAgICAKICAgICAgICAgICAgdmFyIGljb25fNDVlYjQyZWMxZDBmNDRhODgzY2Q0YzdmZmNlMTYwNjYgPSBMLkF3ZXNvbWVNYXJrZXJzLmljb24oCiAgICAgICAgICAgICAgICB7ImV4dHJhQ2xhc3NlcyI6ICJmYS1yb3RhdGUtMCIsICJpY29uIjogImZhLWNpcmNsZSIsICJpY29uQ29sb3IiOiAid2hpdGUiLCAibWFya2VyQ29sb3IiOiAiYmx1ZSIsICJwcmVmaXgiOiAiZmEifQogICAgICAgICAgICApOwogICAgICAgICAgICBtYXJrZXJfMWI0ZjI3NjRiZGZmNDZmNTk0NzE3MzU5ZDM1MjcxNzUuc2V0SWNvbihpY29uXzQ1ZWI0MmVjMWQwZjQ0YTg4M2NkNGM3ZmZjZTE2MDY2KTsKICAgICAgICAKICAgIAogICAgICAgICAgICBtYXJrZXJfMWI0ZjI3NjRiZGZmNDZmNTk0NzE3MzU5ZDM1MjcxNzUuYmluZFRvb2x0aXAoCiAgICAgICAgICAgICAgICBgPGRpdj4KICAgICAgICAgICAgICAgICAgICAgc3RvcF9pZDo2MDM3CiAgICAgICAgICAgICAgICAgPC9kaXY+YCwKICAgICAgICAgICAgICAgIHsic3RpY2t5IjogdHJ1ZX0KICAgICAgICAgICAgKTsKICAgICAgICAKICAgIAogICAgICAgICAgICB2YXIgbWFya2VyX2EwNzQxNDA2MmUyNTQxNGZiMWY0ZDUwYjgxM2E2NzcxID0gTC5tYXJrZXIoCiAgICAgICAgICAgICAgICBbMzcuNzUzMDI1LCAtMTIyLjQwNjM1XSwKICAgICAgICAgICAgICAgIHt9CiAgICAgICAgICAgICkuYWRkVG8obWFwXzhkMjhlYWEzZmI5NTQxNGQ5NzBmYjc0NDJlOTkxYWU4KTsKICAgICAgICAKICAgIAogICAgICAgICAgICB2YXIgaWNvbl9hZDU0NjJjMTE1Zjk0NDAzOTdlNDE5Mjk3NmI2NGJlYSA9IEwuQXdlc29tZU1hcmtlcnMuaWNvbigKICAgICAgICAgICAgICAgIHsiZXh0cmFDbGFzc2VzIjogImZhLXJvdGF0ZS0wIiwgImljb24iOiAiZmEtY2lyY2xlIiwgImljb25Db2xvciI6ICJ3aGl0ZSIsICJtYXJrZXJDb2xvciI6ICJibHVlIiwgInByZWZpeCI6ICJmYSJ9CiAgICAgICAgICAgICk7CiAgICAgICAgICAgIG1hcmtlcl9hMDc0MTQwNjJlMjU0MTRmYjFmNGQ1MGI4MTNhNjc3MS5zZXRJY29uKGljb25fYWQ1NDYyYzExNWY5NDQwMzk3ZTQxOTI5NzZiNjRiZWEpOwogICAgICAgIAogICAgCiAgICAgICAgICAgIG1hcmtlcl9hMDc0MTQwNjJlMjU0MTRmYjFmNGQ1MGI4MTNhNjc3MS5iaW5kVG9vbHRpcCgKICAgICAgICAgICAgICAgIGA8ZGl2PgogICAgICAgICAgICAgICAgICAgICBzdG9wX2lkOjYwMzkKICAgICAgICAgICAgICAgICA8L2Rpdj5gLAogICAgICAgICAgICAgICAgeyJzdGlja3kiOiB0cnVlfQogICAgICAgICAgICApOwogICAgICAgIAogICAgCiAgICAgICAgICAgIHZhciBtYXJrZXJfNWIyMDhmNjcyZDhkNDA2Y2IyMzI2NTI3YjJhNjExOTYgPSBMLm1hcmtlcigKICAgICAgICAgICAgICAgIFszNy43NjgyODQsIC0xMjIuNDA3OTE5OTk5OTk5OTldLAogICAgICAgICAgICAgICAge30KICAgICAgICAgICAgKS5hZGRUbyhtYXBfOGQyOGVhYTNmYjk1NDE0ZDk3MGZiNzQ0MmU5OTFhZTgpOwogICAgICAgIAogICAgCiAgICAgICAgICAgIHZhciBpY29uX2Q3YzI0ZWQ2NGZkMDRmZGFhOGRlOWQzMzM0NDA5ZTFhID0gTC5Bd2Vzb21lTWFya2Vycy5pY29uKAogICAgICAgICAgICAgICAgeyJleHRyYUNsYXNzZXMiOiAiZmEtcm90YXRlLTAiLCAiaWNvbiI6ICJmYS1jaXJjbGUiLCAiaWNvbkNvbG9yIjogIndoaXRlIiwgIm1hcmtlckNvbG9yIjogImJsdWUiLCAicHJlZml4IjogImZhIn0KICAgICAgICAgICAgKTsKICAgICAgICAgICAgbWFya2VyXzViMjA4ZjY3MmQ4ZDQwNmNiMjMyNjUyN2IyYTYxMTk2LnNldEljb24oaWNvbl9kN2MyNGVkNjRmZDA0ZmRhYThkZTlkMzMzNDQwOWUxYSk7CiAgICAgICAgCiAgICAKICAgICAgICAgICAgbWFya2VyXzViMjA4ZjY3MmQ4ZDQwNmNiMjMyNjUyN2IyYTYxMTk2LmJpbmRUb29sdGlwKAogICAgICAgICAgICAgICAgYDxkaXY+CiAgICAgICAgICAgICAgICAgICAgIHN0b3BfaWQ6NjA0MwogICAgICAgICAgICAgICAgIDwvZGl2PmAsCiAgICAgICAgICAgICAgICB7InN0aWNreSI6IHRydWV9CiAgICAgICAgICAgICk7CiAgICAgICAgCiAgICAKICAgICAgICAgICAgdmFyIG1hcmtlcl8xN2NmMGI5MzY1Y2Q0Njg2OTVmMjcxMmUwODIyOGE2NiA9IEwubWFya2VyKAogICAgICAgICAgICAgICAgWzM3LjcyNzUyLCAtMTIyLjQwMzY1XSwKICAgICAgICAgICAgICAgIHt9CiAgICAgICAgICAgICkuYWRkVG8obWFwXzhkMjhlYWEzZmI5NTQxNGQ5NzBmYjc0NDJlOTkxYWU4KTsKICAgICAgICAKICAgIAogICAgICAgICAgICB2YXIgaWNvbl9lMmNlZDhhOWJkMGM0MDI4YTAzYTUzM2NjOWMwYjkyMiA9IEwuQXdlc29tZU1hcmtlcnMuaWNvbigKICAgICAgICAgICAgICAgIHsiZXh0cmFDbGFzc2VzIjogImZhLXJvdGF0ZS0wIiwgImljb24iOiAiZmEtY2lyY2xlIiwgImljb25Db2xvciI6ICJ3aGl0ZSIsICJtYXJrZXJDb2xvciI6ICJibHVlIiwgInByZWZpeCI6ICJmYSJ9CiAgICAgICAgICAgICk7CiAgICAgICAgICAgIG1hcmtlcl8xN2NmMGI5MzY1Y2Q0Njg2OTVmMjcxMmUwODIyOGE2Ni5zZXRJY29uKGljb25fZTJjZWQ4YTliZDBjNDAyOGEwM2E1MzNjYzljMGI5MjIpOwogICAgICAgIAogICAgCiAgICAgICAgICAgIG1hcmtlcl8xN2NmMGI5MzY1Y2Q0Njg2OTVmMjcxMmUwODIyOGE2Ni5iaW5kVG9vbHRpcCgKICAgICAgICAgICAgICAgIGA8ZGl2PgogICAgICAgICAgICAgICAgICAgICBzdG9wX2lkOjYzNTcKICAgICAgICAgICAgICAgICA8L2Rpdj5gLAogICAgICAgICAgICAgICAgeyJzdGlja3kiOiB0cnVlfQogICAgICAgICAgICApOwogICAgICAgIAogICAgCiAgICAgICAgICAgIHZhciBtYXJrZXJfNzdjNjZjMWRjMDViNDQ1NmJkNjlkYjU2ZjRlOTRlMzQgPSBMLm1hcmtlcigKICAgICAgICAgICAgICAgIFszNy43MjQyMjQsIC0xMjIuNDAyMjVdLAogICAgICAgICAgICAgICAge30KICAgICAgICAgICAgKS5hZGRUbyhtYXBfOGQyOGVhYTNmYjk1NDE0ZDk3MGZiNzQ0MmU5OTFhZTgpOwogICAgICAgIAogICAgCiAgICAgICAgICAgIHZhciBpY29uXzk5ODk0MTc3N2YwMzRjNDk5ZTI3ZmNmOGIxNTUwMDY1ID0gTC5Bd2Vzb21lTWFya2Vycy5pY29uKAogICAgICAgICAgICAgICAgeyJleHRyYUNsYXNzZXMiOiAiZmEtcm90YXRlLTAiLCAiaWNvbiI6ICJmYS1jaXJjbGUiLCAiaWNvbkNvbG9yIjogIndoaXRlIiwgIm1hcmtlckNvbG9yIjogImJsdWUiLCAicHJlZml4IjogImZhIn0KICAgICAgICAgICAgKTsKICAgICAgICAgICAgbWFya2VyXzc3YzY2YzFkYzA1YjQ0NTZiZDY5ZGI1NmY0ZTk0ZTM0LnNldEljb24oaWNvbl85OTg5NDE3NzdmMDM0YzQ5OWUyN2ZjZjhiMTU1MDA2NSk7CiAgICAgICAgCiAgICAKICAgICAgICAgICAgbWFya2VyXzc3YzY2YzFkYzA1YjQ0NTZiZDY5ZGI1NmY0ZTk0ZTM0LmJpbmRUb29sdGlwKAogICAgICAgICAgICAgICAgYDxkaXY+CiAgICAgICAgICAgICAgICAgICAgIHN0b3BfaWQ6NjM1OAogICAgICAgICAgICAgICAgIDwvZGl2PmAsCiAgICAgICAgICAgICAgICB7InN0aWNreSI6IHRydWV9CiAgICAgICAgICAgICk7CiAgICAgICAgCiAgICAKICAgICAgICAgICAgdmFyIG1hcmtlcl85ZmEyOWE1YmU1NzQ0MzFjYTBhMDdjZDA1YzQ0OWI3MCA9IEwubWFya2VyKAogICAgICAgICAgICAgICAgWzM3LjcyMTc0NSwgLTEyMi40MDEyN10sCiAgICAgICAgICAgICAgICB7fQogICAgICAgICAgICApLmFkZFRvKG1hcF84ZDI4ZWFhM2ZiOTU0MTRkOTcwZmI3NDQyZTk5MWFlOCk7CiAgICAgICAgCiAgICAKICAgICAgICAgICAgdmFyIGljb25fMjdjYzA0YjhiM2Q5NDUzY2IwMDU1YWIwZTJjYzQwOGQgPSBMLkF3ZXNvbWVNYXJrZXJzLmljb24oCiAgICAgICAgICAgICAgICB7ImV4dHJhQ2xhc3NlcyI6ICJmYS1yb3RhdGUtMCIsICJpY29uIjogImZhLWNpcmNsZSIsICJpY29uQ29sb3IiOiAid2hpdGUiLCAibWFya2VyQ29sb3IiOiAiYmx1ZSIsICJwcmVmaXgiOiAiZmEifQogICAgICAgICAgICApOwogICAgICAgICAgICBtYXJrZXJfOWZhMjlhNWJlNTc0NDMxY2EwYTA3Y2QwNWM0NDliNzAuc2V0SWNvbihpY29uXzI3Y2MwNGI4YjNkOTQ1M2NiMDA1NWFiMGUyY2M0MDhkKTsKICAgICAgICAKICAgIAogICAgICAgICAgICBtYXJrZXJfOWZhMjlhNWJlNTc0NDMxY2EwYTA3Y2QwNWM0NDliNzAuYmluZFRvb2x0aXAoCiAgICAgICAgICAgICAgICBgPGRpdj4KICAgICAgICAgICAgICAgICAgICAgc3RvcF9pZDo2MzYxCiAgICAgICAgICAgICAgICAgPC9kaXY+YCwKICAgICAgICAgICAgICAgIHsic3RpY2t5IjogdHJ1ZX0KICAgICAgICAgICAgKTsKICAgICAgICAKICAgIAogICAgICAgICAgICB2YXIgbWFya2VyX2JkNmE4ZWYzNDIyNTQ3NWRiNzk2MTg5OTA1YTQ0MjRmID0gTC5tYXJrZXIoCiAgICAgICAgICAgICAgICBbMzcuNzMyMzksIC0xMjIuNDA1NTI1XSwKICAgICAgICAgICAgICAgIHt9CiAgICAgICAgICAgICkuYWRkVG8obWFwXzhkMjhlYWEzZmI5NTQxNGQ5NzBmYjc0NDJlOTkxYWU4KTsKICAgICAgICAKICAgIAogICAgICAgICAgICB2YXIgaWNvbl82MWJmZmIxNTg2M2E0N2MxOTFjNGE2NjNmZjg4ZDFmMSA9IEwuQXdlc29tZU1hcmtlcnMuaWNvbigKICAgICAgICAgICAgICAgIHsiZXh0cmFDbGFzc2VzIjogImZhLXJvdGF0ZS0wIiwgImljb24iOiAiZmEtY2lyY2xlIiwgImljb25Db2xvciI6ICJ3aGl0ZSIsICJtYXJrZXJDb2xvciI6ICJibHVlIiwgInByZWZpeCI6ICJmYSJ9CiAgICAgICAgICAgICk7CiAgICAgICAgICAgIG1hcmtlcl9iZDZhOGVmMzQyMjU0NzVkYjc5NjE4OTkwNWE0NDI0Zi5zZXRJY29uKGljb25fNjFiZmZiMTU4NjNhNDdjMTkxYzRhNjYzZmY4OGQxZjEpOwogICAgICAgIAogICAgCiAgICAgICAgICAgIG1hcmtlcl9iZDZhOGVmMzQyMjU0NzVkYjc5NjE4OTkwNWE0NDI0Zi5iaW5kVG9vbHRpcCgKICAgICAgICAgICAgICAgIGA8ZGl2PgogICAgICAgICAgICAgICAgICAgICBzdG9wX2lkOjYzNjUKICAgICAgICAgICAgICAgICA8L2Rpdj5gLAogICAgICAgICAgICAgICAgeyJzdGlja3kiOiB0cnVlfQogICAgICAgICAgICApOwogICAgICAgIAogICAgCiAgICAgICAgICAgIHZhciBtYXJrZXJfM2ExZThkOWRlYjM1NGNhMjkwNjA2MmRlMjFiNzIwNWIgPSBMLm1hcmtlcigKICAgICAgICAgICAgICAgIFszNy43OTQwOTQsIC0xMjIuMzk1MzhdLAogICAgICAgICAgICAgICAge30KICAgICAgICAgICAgKS5hZGRUbyhtYXBfOGQyOGVhYTNmYjk1NDE0ZDk3MGZiNzQ0MmU5OTFhZTgpOwogICAgICAgIAogICAgCiAgICAgICAgICAgIHZhciBpY29uX2MwYzY0Zjg2MTkwOTQzMzc4Y2I0MjZkN2E5OTdlOGU4ID0gTC5Bd2Vzb21lTWFya2Vycy5pY29uKAogICAgICAgICAgICAgICAgeyJleHRyYUNsYXNzZXMiOiAiZmEtcm90YXRlLTAiLCAiaWNvbiI6ICJmYS1jaXJjbGUiLCAiaWNvbkNvbG9yIjogIndoaXRlIiwgIm1hcmtlckNvbG9yIjogImJsdWUiLCAicHJlZml4IjogImZhIn0KICAgICAgICAgICAgKTsKICAgICAgICAgICAgbWFya2VyXzNhMWU4ZDlkZWIzNTRjYTI5MDYwNjJkZTIxYjcyMDViLnNldEljb24oaWNvbl9jMGM2NGY4NjE5MDk0MzM3OGNiNDI2ZDdhOTk3ZThlOCk7CiAgICAgICAgCiAgICAKICAgICAgICAgICAgbWFya2VyXzNhMWU4ZDlkZWIzNTRjYTI5MDYwNjJkZTIxYjcyMDViLmJpbmRUb29sdGlwKAogICAgICAgICAgICAgICAgYDxkaXY+CiAgICAgICAgICAgICAgICAgICAgIHN0b3BfaWQ6NzIyNwogICAgICAgICAgICAgICAgIDwvZGl2PmAsCiAgICAgICAgICAgICAgICB7InN0aWNreSI6IHRydWV9CiAgICAgICAgICAgICk7CiAgICAgICAgCjwvc2NyaXB0Pg==\" style=\"position:absolute;width:100%;height:100%;left:0;top:0;border:none !important;\" allowfullscreen webkitallowfullscreen mozallowfullscreen></iframe></div></div>"
      ],
      "text/plain": [
       "<folium.folium.Map at 0x182ce251748>"
      ]
     },
     "metadata": {},
     "output_type": "display_data"
    }
   ],
   "source": [
    "trip_id, date = 9747897, '2021-04-06'\n",
    "display_actual_apc_trip_and_shape(trip_id, date)"
   ]
  },
  {
   "cell_type": "markdown",
   "metadata": {},
   "source": [
    "## Check weekday daily average boardings "
   ]
  },
  {
   "cell_type": "code",
   "execution_count": 28,
   "metadata": {
    "ExecuteTime": {
     "end_time": "2021-09-08T16:15:34.217142Z",
     "start_time": "2021-09-08T16:15:33.545092Z"
    }
   },
   "outputs": [],
   "source": [
    "boarding_daily = vol_notnull.groupby(['Month', 'DayType', 'Date']).ONS.sum().reset_index()\n",
    "boarding_daily_avg = boarding_daily.groupby(['Month', 'DayType']).ONS.mean().reset_index()"
   ]
  },
  {
   "cell_type": "code",
   "execution_count": 29,
   "metadata": {
    "ExecuteTime": {
     "end_time": "2021-09-08T16:15:34.233177Z",
     "start_time": "2021-09-08T16:15:34.219143Z"
    }
   },
   "outputs": [
    {
     "data": {
      "text/html": [
       "<div>\n",
       "<style scoped>\n",
       "    .dataframe tbody tr th:only-of-type {\n",
       "        vertical-align: middle;\n",
       "    }\n",
       "\n",
       "    .dataframe tbody tr th {\n",
       "        vertical-align: top;\n",
       "    }\n",
       "\n",
       "    .dataframe thead th {\n",
       "        text-align: right;\n",
       "    }\n",
       "</style>\n",
       "<table border=\"1\" class=\"dataframe\">\n",
       "  <thead>\n",
       "    <tr style=\"text-align: right;\">\n",
       "      <th></th>\n",
       "      <th>Month</th>\n",
       "      <th>DayType</th>\n",
       "      <th>ONS</th>\n",
       "    </tr>\n",
       "  </thead>\n",
       "  <tbody>\n",
       "    <tr>\n",
       "      <th>0</th>\n",
       "      <td>4</td>\n",
       "      <td>Saturday</td>\n",
       "      <td>129447.000000</td>\n",
       "    </tr>\n",
       "    <tr>\n",
       "      <th>1</th>\n",
       "      <td>4</td>\n",
       "      <td>Sunday</td>\n",
       "      <td>105091.333333</td>\n",
       "    </tr>\n",
       "    <tr>\n",
       "      <th>2</th>\n",
       "      <td>4</td>\n",
       "      <td>Weekdays</td>\n",
       "      <td>170881.894737</td>\n",
       "    </tr>\n",
       "    <tr>\n",
       "      <th>3</th>\n",
       "      <td>5</td>\n",
       "      <td>Saturday</td>\n",
       "      <td>129745.333333</td>\n",
       "    </tr>\n",
       "    <tr>\n",
       "      <th>4</th>\n",
       "      <td>5</td>\n",
       "      <td>Sunday</td>\n",
       "      <td>111363.333333</td>\n",
       "    </tr>\n",
       "    <tr>\n",
       "      <th>5</th>\n",
       "      <td>5</td>\n",
       "      <td>Weekdays</td>\n",
       "      <td>179400.214286</td>\n",
       "    </tr>\n",
       "  </tbody>\n",
       "</table>\n",
       "</div>"
      ],
      "text/plain": [
       "   Month   DayType            ONS\n",
       "0      4  Saturday  129447.000000\n",
       "1      4    Sunday  105091.333333\n",
       "2      4  Weekdays  170881.894737\n",
       "3      5  Saturday  129745.333333\n",
       "4      5    Sunday  111363.333333\n",
       "5      5  Weekdays  179400.214286"
      ]
     },
     "execution_count": 29,
     "metadata": {},
     "output_type": "execute_result"
    }
   ],
   "source": [
    "boarding_daily_avg"
   ]
  },
  {
   "cell_type": "markdown",
   "metadata": {},
   "source": [
    "# Volume"
   ]
  },
  {
   "cell_type": "code",
   "execution_count": 30,
   "metadata": {
    "ExecuteTime": {
     "end_time": "2021-09-08T16:15:36.059058Z",
     "start_time": "2021-09-08T16:15:34.236144Z"
    }
   },
   "outputs": [],
   "source": [
    "vol_sum = vol_notnull.groupby(['BS_ID', 'Date', 'Epoch']).agg({'ONS': 'sum', 'OFFS': 'sum', 'MAX_LOAD': 'sum', 'Close_Period':'count'}).reset_index()\n",
    "vol_sum.columns = ['stopid', 'date', 'epoch', 'boardings', 'alightings', 'loads', 'samples']"
   ]
  },
  {
   "cell_type": "code",
   "execution_count": 31,
   "metadata": {
    "ExecuteTime": {
     "end_time": "2021-09-08T16:15:36.792886Z",
     "start_time": "2021-09-08T16:15:36.061058Z"
    }
   },
   "outputs": [
    {
     "name": "stdout",
     "output_type": "stream",
     "text": [
      "Number of records 1934011\n",
      "Number of records 1383413\n"
     ]
    }
   ],
   "source": [
    "vol_sum['date']=pd.to_datetime(vol_sum['date'])\n",
    "vol_sum['dow']=vol_sum.date.dt.dayofweek #Mon-0\n",
    "vol_sum['daytype'] = np.where(vol_sum['dow']<=4, 'Weekdays', np.where(vol_sum['dow']==5, 'Saturday', 'Sunday'))\n",
    "\n",
    "# Remove Mondays and Fridays to get typical weekdays\n",
    "print('Number of records', len(vol_sum))\n",
    "vol_sum = vol_sum[(vol_sum['dow']!=0) & (vol_sum['dow']!=4)]\n",
    "print('Number of records', len(vol_sum))"
   ]
  },
  {
   "cell_type": "code",
   "execution_count": 32,
   "metadata": {
    "ExecuteTime": {
     "end_time": "2021-09-08T16:15:37.137695Z",
     "start_time": "2021-09-08T16:15:36.794887Z"
    }
   },
   "outputs": [
    {
     "data": {
      "text/html": [
       "<div>\n",
       "<style scoped>\n",
       "    .dataframe tbody tr th:only-of-type {\n",
       "        vertical-align: middle;\n",
       "    }\n",
       "\n",
       "    .dataframe tbody tr th {\n",
       "        vertical-align: top;\n",
       "    }\n",
       "\n",
       "    .dataframe thead th {\n",
       "        text-align: right;\n",
       "    }\n",
       "</style>\n",
       "<table border=\"1\" class=\"dataframe\">\n",
       "  <thead>\n",
       "    <tr style=\"text-align: right;\">\n",
       "      <th></th>\n",
       "      <th>stopid</th>\n",
       "      <th>daytype</th>\n",
       "      <th>epoch</th>\n",
       "      <th>boardings</th>\n",
       "      <th>alightings</th>\n",
       "      <th>loads</th>\n",
       "    </tr>\n",
       "  </thead>\n",
       "  <tbody>\n",
       "    <tr>\n",
       "      <th>0</th>\n",
       "      <td>390</td>\n",
       "      <td>Saturday</td>\n",
       "      <td>0</td>\n",
       "      <td>1.0</td>\n",
       "      <td>0.0</td>\n",
       "      <td>1.0</td>\n",
       "    </tr>\n",
       "    <tr>\n",
       "      <th>1</th>\n",
       "      <td>390</td>\n",
       "      <td>Saturday</td>\n",
       "      <td>2</td>\n",
       "      <td>2.0</td>\n",
       "      <td>0.0</td>\n",
       "      <td>2.0</td>\n",
       "    </tr>\n",
       "    <tr>\n",
       "      <th>2</th>\n",
       "      <td>390</td>\n",
       "      <td>Saturday</td>\n",
       "      <td>3</td>\n",
       "      <td>6.4</td>\n",
       "      <td>3.8</td>\n",
       "      <td>2.6</td>\n",
       "    </tr>\n",
       "    <tr>\n",
       "      <th>3</th>\n",
       "      <td>390</td>\n",
       "      <td>Saturday</td>\n",
       "      <td>4</td>\n",
       "      <td>0.5</td>\n",
       "      <td>0.0</td>\n",
       "      <td>0.5</td>\n",
       "    </tr>\n",
       "    <tr>\n",
       "      <th>4</th>\n",
       "      <td>390</td>\n",
       "      <td>Saturday</td>\n",
       "      <td>5</td>\n",
       "      <td>1.0</td>\n",
       "      <td>0.0</td>\n",
       "      <td>1.0</td>\n",
       "    </tr>\n",
       "  </tbody>\n",
       "</table>\n",
       "</div>"
      ],
      "text/plain": [
       "   stopid   daytype  epoch  boardings  alightings  loads\n",
       "0     390  Saturday      0        1.0         0.0    1.0\n",
       "1     390  Saturday      2        2.0         0.0    2.0\n",
       "2     390  Saturday      3        6.4         3.8    2.6\n",
       "3     390  Saturday      4        0.5         0.0    0.5\n",
       "4     390  Saturday      5        1.0         0.0    1.0"
      ]
     },
     "execution_count": 32,
     "metadata": {},
     "output_type": "execute_result"
    }
   ],
   "source": [
    "vol_daytype_avg_stops = vol_sum.groupby(['stopid', 'daytype', 'epoch']).agg({'boardings': 'mean', \n",
    "                                                                             'alightings': 'mean',\n",
    "                                                                            'loads': 'mean'}).reset_index()\n",
    "vol_daytype_avg_stops.columns= ['stopid', 'daytype', 'epoch', 'boardings', 'alightings', 'loads']\n",
    "vol_daytype_avg_stops.head()"
   ]
  },
  {
   "cell_type": "code",
   "execution_count": 33,
   "metadata": {
    "ExecuteTime": {
     "end_time": "2021-09-08T16:15:37.152696Z",
     "start_time": "2021-09-08T16:15:37.139695Z"
    }
   },
   "outputs": [],
   "source": [
    "stops = stops_may.copy()"
   ]
  },
  {
   "cell_type": "code",
   "execution_count": 34,
   "metadata": {
    "ExecuteTime": {
     "end_time": "2021-09-08T16:16:07.633548Z",
     "start_time": "2021-09-08T16:15:37.155696Z"
    }
   },
   "outputs": [],
   "source": [
    "# Create empty dataframe with continuous time periods\n",
    "df_epoch = pd.DataFrame([ep for ep in range(48)], columns=['epoch'])\n",
    "df_epoch['hour'] = df_epoch['epoch']//2\n",
    "df_epoch['minute'] = np.where(df_epoch['epoch']%2 ==0, '00', '30')\n",
    "df_epoch['period'] = df_epoch['hour'].astype(str) + ':' + df_epoch['minute']\n",
    "\n",
    "daytypes = ['Weekdays', 'Saturday', 'Sunday']\n",
    "df_day_epoch = pd.DataFrame()\n",
    "for day_type in daytypes:\n",
    "    df_epoch['daytype'] = day_type\n",
    "    df_day_epoch = df_day_epoch.append(df_epoch, ignore_index=True)\n",
    "\n",
    "stop_list = stops.stop_id.unique().tolist()\n",
    "stop_vol_complete = pd.DataFrame()\n",
    "for stop_id in stop_list:\n",
    "    df_day_epoch['stopid'] = stop_id\n",
    "    stop_vol_complete = stop_vol_complete.append(df_day_epoch, ignore_index=True)\n",
    "\n",
    "stop_vol_complete['epoch'] = stop_vol_complete['epoch'].astype(int)"
   ]
  },
  {
   "cell_type": "code",
   "execution_count": 36,
   "metadata": {
    "ExecuteTime": {
     "end_time": "2021-09-08T16:29:29.574571Z",
     "start_time": "2021-09-08T16:29:29.431490Z"
    }
   },
   "outputs": [],
   "source": [
    "stop_vol_complete = pd.merge(stop_vol_complete, vol_daytype_avg_stops, on=['stopid', 'daytype', 'epoch'], how='left')"
   ]
  },
  {
   "cell_type": "code",
   "execution_count": 37,
   "metadata": {
    "ExecuteTime": {
     "end_time": "2021-09-08T16:29:30.979814Z",
     "start_time": "2021-09-08T16:29:30.952973Z"
    }
   },
   "outputs": [],
   "source": [
    "stop_vol_complete['hour'] = stop_vol_complete['epoch']//2\n",
    "stop_vol_complete['minute'] = np.where(stop_vol_complete['epoch']%2 ==0, '00', '30')"
   ]
  },
  {
   "cell_type": "code",
   "execution_count": 38,
   "metadata": {
    "ExecuteTime": {
     "end_time": "2021-09-08T16:29:32.400632Z",
     "start_time": "2021-09-08T16:29:32.327481Z"
    }
   },
   "outputs": [],
   "source": [
    "stop_vol_complete['period'] = stop_vol_complete['hour'].astype(str) + ':' + stop_vol_complete['minute']"
   ]
  },
  {
   "cell_type": "code",
   "execution_count": 39,
   "metadata": {
    "ExecuteTime": {
     "end_time": "2021-09-08T16:29:33.572251Z",
     "start_time": "2021-09-08T16:29:32.807833Z"
    }
   },
   "outputs": [],
   "source": [
    "stop_vol_complete.to_csv(os.path.join(APC_Dir, 'CMP_APC_Average_Transit_Volume_QAQC.csv'), index=False)"
   ]
  },
  {
   "cell_type": "markdown",
   "metadata": {},
   "source": [
    "# Speed"
   ]
  },
  {
   "cell_type": "code",
   "execution_count": 40,
   "metadata": {
    "ExecuteTime": {
     "end_time": "2021-09-08T16:29:37.931482Z",
     "start_time": "2021-09-08T16:29:37.927482Z"
    }
   },
   "outputs": [],
   "source": [
    "#Define WGS 1984 coordinate system\n",
    "wgs84 = {'proj': 'longlat', 'ellps': 'WGS84', 'datum': 'WGS84', 'no_defs': True}\n",
    "\n",
    "#Define NAD 1983 StatePlane California III\n",
    "cal3 = {'proj': 'lcc +lat_1=37.06666666666667 +lat_2=38.43333333333333 +lat_0=36.5 +lon_0=-120.5 +x_0=2000000 +y_0=500000.0000000002', 'ellps': 'GRS80', 'datum': 'NAD83', 'no_defs': True}"
   ]
  },
  {
   "cell_type": "code",
   "execution_count": 41,
   "metadata": {
    "ExecuteTime": {
     "end_time": "2021-09-08T16:33:32.872638Z",
     "start_time": "2021-09-08T16:29:38.502935Z"
    }
   },
   "outputs": [],
   "source": [
    "# Convert original coordinate system to state plane\n",
    "stops = stops.to_crs(cal3)\n",
    "\n",
    "cmp_segs_prj = cmp_segs_org.to_crs(cal3)\n",
    "cmp_segs_prj['cmp_name'] = cmp_segs_prj['cmp_name'].str.replace('/ ','/')\n",
    "cmp_segs_prj['cmp_name'] = cmp_segs_prj['cmp_name'].str.lower()\n",
    "cmp_segs_prj['Length'] = cmp_segs_prj.geometry.length \n",
    "cmp_segs_prj['Length'] = cmp_segs_prj['Length'] * 3.2808  #meters to feet\n",
    "\n",
    "# INRIX network\n",
    "inrix_net=gp.read_file(os.path.join(INRIX_DIR, 'Inrix_XD_2101_SF_manualedit.shp'))\n",
    "inrix_net['RoadName'] = inrix_net['RoadName'].str.lower()"
   ]
  },
  {
   "cell_type": "code",
   "execution_count": 42,
   "metadata": {
    "ExecuteTime": {
     "end_time": "2021-09-08T16:34:39.095880Z",
     "start_time": "2021-09-08T16:33:32.874638Z"
    }
   },
   "outputs": [],
   "source": [
    "# Create a buffer zone for each cmp segment\n",
    "ft=160   # According to the memo from last CMP cycle\n",
    "mt=round(ft/3.2808,4)\n",
    "stops_buffer=stops.copy()\n",
    "stops_buffer['geometry'] = stops_buffer.geometry.buffer(mt)\n",
    "#stops_buffer.to_file(os.path.join(MAIN_DIR, 'stops_buffer.shp'))\n",
    "\n",
    "# cmp segments intersecting transit stop buffer zone\n",
    "cmp_segs_intersect=gp.sjoin(cmp_segs_prj, stops_buffer, op='intersects').reset_index()\n",
    "\n",
    "stops['near_cmp'] = 0\n",
    "cmp_segs_intersect['name_match']=0\n",
    "for stop_idx in range(len(stops)):\n",
    "    stop_id = stops.loc[stop_idx, 'stop_id']\n",
    "    stop_geo = stops.loc[stop_idx]['geometry']\n",
    "    stop_names = stops.loc[stop_idx]['street_1'].split('/')\n",
    "    if 'point lobos' in stop_names:\n",
    "        stop_names = stop_names + ['geary']\n",
    "    if stop_id == 7357:\n",
    "        stop_names = stop_names + ['third st']\n",
    "    \n",
    "    cmp_segs_int = cmp_segs_intersect[cmp_segs_intersect['stop_id']==stop_id]\n",
    "    cmp_segs_idx = cmp_segs_intersect.index[cmp_segs_intersect['stop_id']==stop_id].tolist()\n",
    "    \n",
    "    near_dis = 5000\n",
    "    if ~cmp_segs_int.empty:\n",
    "        for seg_idx in cmp_segs_idx:\n",
    "            cmp_seg_id = cmp_segs_int.loc[seg_idx, 'cmp_segid']\n",
    "            cmp_seg_geo = cmp_segs_int.loc[seg_idx]['geometry']\n",
    "            cmp_seg_names = cmp_segs_int.loc[seg_idx]['cmp_name'].split('/')\n",
    "            if 'bayshore' in cmp_seg_names:\n",
    "                cmp_seg_names = cmp_seg_names + ['bay shore']\n",
    "            if '3rd st' in cmp_seg_names:\n",
    "                cmp_seg_names = cmp_seg_names + ['third st']\n",
    "            if '19th ave' in cmp_seg_names:\n",
    "                cmp_seg_names = cmp_seg_names + ['19th avenue']\n",
    "            if 'geary' in cmp_seg_names:\n",
    "                cmp_seg_names = cmp_seg_names + ['point lobos']\n",
    "            if 'embarcadero' in cmp_seg_names:\n",
    "                cmp_seg_names = cmp_seg_names + ['the embarcadero']\n",
    "                \n",
    "            \n",
    "            # Add INRIX street name to be comprehensive\n",
    "            inrix_links = cmp_inrix_corr[cmp_inrix_corr['CMP_SegID']==cmp_seg_id]\n",
    "            inrix_link_names = inrix_net[inrix_net['XDSegID'].isin(inrix_links['INRIX_SegID'])]['RoadName'].tolist()\n",
    "            inrix_link_names = list(filter(None, inrix_link_names)) \n",
    "            if len(inrix_link_names) > 0:\n",
    "                inrix_link_names = list(set(inrix_link_names))\n",
    "                cmp_seg_link_names = cmp_seg_names + inrix_link_names\n",
    "            else:\n",
    "                cmp_seg_link_names = cmp_seg_names\n",
    "            \n",
    "            matched_names= [stop_name for stop_name in stop_names if any(cname in stop_name for cname in cmp_seg_link_names)]\n",
    "            if len(matched_names)>0:\n",
    "                stops.loc[stop_idx, 'near_cmp']=1\n",
    "                cmp_segs_intersect.loc[seg_idx, 'name_match']=1\n",
    "                cur_dis = stop_geo.distance(cmp_seg_geo)\n",
    "                cmp_segs_intersect.loc[seg_idx, 'distance']=cur_dis\n",
    "                near_dis = min(near_dis, cur_dis)\n",
    "                stops.loc[stop_idx, 'near_dis']=near_dis\n",
    "\n",
    "\n",
    "stops_near_cmp = stops[stops['near_cmp']==1]\n",
    "stops_near_cmp = stops_near_cmp.to_crs(wgs84)\n",
    "\n",
    "stops_near_cmp_list = stops_near_cmp['stop_id'].unique().tolist()\n",
    "\n",
    "cmp_segs_near = cmp_segs_intersect[cmp_segs_intersect['name_match']==1]"
   ]
  },
  {
   "cell_type": "code",
   "execution_count": 43,
   "metadata": {
    "ExecuteTime": {
     "end_time": "2021-09-08T16:34:39.113970Z",
     "start_time": "2021-09-08T16:34:39.095880Z"
    }
   },
   "outputs": [],
   "source": [
    "# Remove mismatched stops based on manual review\n",
    "remove_cmp_stop = [(175, 5546), (175, 5547), (175, 7299), (175, 5544),\n",
    "                  (66, 7744),\n",
    "                  (214, 7235),\n",
    "                  (107, 4735),\n",
    "                  (115, 4275),\n",
    "                  (143, 4824),\n",
    "                  (172, 5603)]"
   ]
  },
  {
   "cell_type": "code",
   "execution_count": 44,
   "metadata": {
    "ExecuteTime": {
     "end_time": "2021-09-08T16:34:39.144975Z",
     "start_time": "2021-09-08T16:34:39.115973Z"
    }
   },
   "outputs": [],
   "source": [
    "for remove_idx in range(len(remove_cmp_stop)):\n",
    "    rmv_cmp_id = remove_cmp_stop[remove_idx][0]\n",
    "    rmv_stop_id = remove_cmp_stop[remove_idx][1]\n",
    "    remove_df_idx = cmp_segs_near.index[(cmp_segs_near['cmp_segid']==rmv_cmp_id) & (cmp_segs_near['stop_id']==rmv_stop_id)].tolist()\n",
    "    if len(remove_df_idx) > 0:\n",
    "        cmp_segs_near = cmp_segs_near.drop([remove_df_idx[0]], axis=0)"
   ]
  },
  {
   "cell_type": "code",
   "execution_count": 45,
   "metadata": {
    "ExecuteTime": {
     "end_time": "2021-09-08T16:44:19.577853Z",
     "start_time": "2021-09-08T16:34:39.146975Z"
    }
   },
   "outputs": [],
   "source": [
    "vol_notnull['Open_Hour'] = vol_notnull['OPEN_DATE_TIME'].str[10:12].astype(int)\n",
    "vol_notnull['Open_Minute'] = vol_notnull['OPEN_DATE_TIME'].str[13:15].astype(int)\n",
    "vol_notnull['Open_Second'] = vol_notnull['OPEN_DATE_TIME'].str[16:18].astype(int)\n",
    "vol_notnull['Open_Period'] = vol_notnull['OPEN_DATE_TIME'].str[-2:]\n",
    "vol_notnull['Open_Time'] = vol_notnull['Date'].astype('str') + ' ' + vol_notnull['Open_Hour'].astype('str') + ':' + vol_notnull['Open_Minute'].astype('str') + ':' + vol_notnull['Open_Second'].astype('str') + ' ' + vol_notnull['Open_Period']\n",
    "vol_notnull['Open_Time'] = pd.to_datetime(vol_notnull['Open_Time'])\n",
    "\n",
    "apc_cmp = vol_notnull[(vol_notnull['DOW'] ==1) | (vol_notnull['DOW'] ==2) | (vol_notnull['DOW'] ==3)]  # only Tue, Wed, and Thu"
   ]
  },
  {
   "cell_type": "code",
   "execution_count": 46,
   "metadata": {
    "ExecuteTime": {
     "end_time": "2021-09-08T16:44:20.943942Z",
     "start_time": "2021-09-08T16:44:19.577853Z"
    }
   },
   "outputs": [],
   "source": [
    "apc_cmp['Day']=apc_cmp.Date.dt.day\n",
    "apc_cmp = apc_cmp[((apc_cmp['Month']==4) & (apc_cmp['Day'] > 5)) | ((apc_cmp['Month']==5) & (apc_cmp['Day'] < 21))] # CMP monitoring dates\n",
    "\n",
    "#apc_cmp['Open_Hour'] = apc_cmp.Open_Time.dt.hour\n",
    "#apc_cmp['Close_Hour'] = apc_cmp.Close_Time.dt.hour\n",
    "apc_cmp['Open_Time_float'] = apc_cmp['Open_Hour'] + apc_cmp['Open_Minute']/60 + apc_cmp['Open_Second']/3600\n",
    "apc_cmp['Close_Time_float'] = apc_cmp['Close_Hour'] + apc_cmp['Close_Minute']/60 + apc_cmp['Close_Second']/3600"
   ]
  },
  {
   "cell_type": "code",
   "execution_count": 67,
   "metadata": {
    "ExecuteTime": {
     "end_time": "2021-09-08T20:52:37.046245Z",
     "start_time": "2021-09-08T20:52:37.012138Z"
    }
   },
   "outputs": [],
   "source": [
    "# # Match AM&PM transit stops to CMP segments\n",
    "angle_thrd = 10\n",
    "def match_stop_pairs_to_cmp(apc_cmp_df, stops_near_cmp_list, cmp_segs_near, cmp_segs_prj, angle_thrd):\n",
    "    apc_pairs_df = pd.DataFrame()\n",
    "    pair_cnt = 0\n",
    "    for cur_stop_idx in range(len(apc_cmp_df)-2):  #Enumerate the records in apc_cmp_df\n",
    "        # Check if the stop_id is in the previously matched list\n",
    "        if apc_cmp_df.loc[cur_stop_idx, 'stop_id'] in stops_near_cmp_list:\n",
    "            next_stop_match = 0\n",
    "            if apc_cmp_df.loc[cur_stop_idx + 1, 'stop_id'] in stops_near_cmp_list:\n",
    "                next_stop_idx = cur_stop_idx + 1 \n",
    "                next_stop_match = 1\n",
    "            # This is to ensure the stop_id associated with cur_stop_idx + 2 is also checked when the stop_id associated with cur_stop_idx + 1 is not found in the matched list\n",
    "            elif apc_cmp_df.loc[cur_stop_idx + 2, 'stop_id'] in stops_near_cmp_list:\n",
    "                next_stop_idx = cur_stop_idx +2\n",
    "                next_stop_match = 2\n",
    "\n",
    "            if next_stop_match >0:\n",
    "                # Transit stop of interest\n",
    "                cur_stop_trip_id = apc_cmp_df.loc[cur_stop_idx, 'TRIP_ID_EXTERNAL']\n",
    "                cur_stop_date = apc_cmp_df.loc[cur_stop_idx, 'Date']\n",
    "                cur_stop_veh_id = apc_cmp_df.loc[cur_stop_idx, 'VEHICLE_ID']\n",
    "                cur_stop_route_alpha = apc_cmp_df.loc[cur_stop_idx, 'ROUTE_ALPHA']\n",
    "                cur_stop_route_dir = apc_cmp_df.loc[cur_stop_idx, 'DIRECTION']\n",
    "\n",
    "                # Succeeding candidate stop in the dataframe\n",
    "                next_stop_trip_id = apc_cmp_df.loc[next_stop_idx, 'TRIP_ID_EXTERNAL']\n",
    "                next_stop_date = apc_cmp_df.loc[next_stop_idx, 'Date']\n",
    "                next_stop_veh_id = apc_cmp_df.loc[next_stop_idx, 'VEHICLE_ID']\n",
    "\n",
    "                # Check if two stops share the same trip id, date, and vehicle id\n",
    "                if (cur_stop_trip_id == next_stop_trip_id) & (cur_stop_date == next_stop_date) & (cur_stop_veh_id == next_stop_veh_id):\n",
    "\n",
    "                    cur_stop_id = apc_cmp_df.loc[cur_stop_idx, 'stop_id']\n",
    "                    cur_stop_open_time = apc_cmp_df.loc[cur_stop_idx, 'Open_Time']\n",
    "                    cur_stop_close_time = apc_cmp_df.loc[cur_stop_idx, 'Close_Time']\n",
    "                    cur_stop_dwell_time = apc_cmp_df.loc[cur_stop_idx, 'DWELL_TIME']\n",
    "\n",
    "                    next_stop_id = apc_cmp_df.loc[next_stop_idx, 'stop_id']\n",
    "                    next_stop_open_time = apc_cmp_df.loc[next_stop_idx, 'Open_Time']\n",
    "                    next_stop_close_time = apc_cmp_df.loc[next_stop_idx, 'Close_Time']\n",
    "                    next_stop_dwell_time = apc_cmp_df.loc[next_stop_idx, 'DWELL_TIME']\n",
    "\n",
    "                    # Matched CMP segments for the current stop\n",
    "                    cur_stop_near_segs = list(cmp_segs_near[cmp_segs_near['stop_id']==cur_stop_id]['cmp_segid'])\n",
    "                    # Matched CMP segments for the succeeding stop\n",
    "                    next_stop_near_segs = list(cmp_segs_near[cmp_segs_near['stop_id']==next_stop_id]['cmp_segid'])\n",
    "\n",
    "                    # Find the common CMP segments in two sets\n",
    "                    common_segs = list(set(cur_stop_near_segs) & set(next_stop_near_segs))\n",
    "                    \n",
    "                    if len(common_segs)>0:\n",
    "                        cur_stop_geo = apc_cmp_df.loc[cur_stop_idx]['geometry']   # location geometry of current stop\n",
    "                        next_stop_geo = apc_cmp_df.loc[next_stop_idx]['geometry']  # location geometry of succeeding stop\n",
    "\n",
    "                        # Traveling direction from current stop to succeeding stop\n",
    "                        stop_degree=(180 / math.pi) * math.atan2(next_stop_geo.x - cur_stop_geo.x, next_stop_geo.y - cur_stop_geo.y)\n",
    "\n",
    "                        for common_seg_id in common_segs: # Iterate through the common segments set\n",
    "                            common_seg_geo = cmp_segs_prj[cmp_segs_prj['cmp_segid']==common_seg_id]['geometry']  # line geometry of the cmp segment\n",
    "\n",
    "                            cur_stop_dis = common_seg_geo.project(cur_stop_geo)  # distance between the beginning point of cmp segment and the projected transit stop\n",
    "                            cur_stop_projected = common_seg_geo.interpolate(cur_stop_dis) #project current stop onto cmp segment\n",
    "                            cur_stop_loc = cur_stop_dis * 3.2808  #meters to feet\n",
    "\n",
    "                            next_stop_dis = common_seg_geo.project(next_stop_geo)\n",
    "                            next_stop_projected = common_seg_geo.interpolate(next_stop_dis) #project next stop onto cmp segment\n",
    "                            next_stop_loc = next_stop_dis * 3.2808  #meters to feet\n",
    "\n",
    "                            # Ensure the degree is calculated following the traveling direction\n",
    "                            if float(next_stop_loc) > float(cur_stop_loc):\n",
    "                                cmp_degree=(180 / math.pi) * math.atan2(next_stop_projected.x - cur_stop_projected.x, next_stop_projected.y - cur_stop_projected.y)\n",
    "                            else:\n",
    "                                cmp_degree=(180 / math.pi) * math.atan2(cur_stop_projected.x - next_stop_projected.x, cur_stop_projected.y - next_stop_projected.y)\n",
    "\n",
    "                            stop_cmp_angle = abs(cmp_degree-stop_degree)\n",
    "                            if stop_cmp_angle>270:\n",
    "                                stop_cmp_angle=360-stop_cmp_angle\n",
    "\n",
    "                            if stop_cmp_angle < angle_thrd:   # Angle between CMP segment and transit stop pair meets the requirement\n",
    "                                cur_next_traveltime = (next_stop_open_time-cur_stop_open_time).total_seconds()\n",
    "                                cur_next_loc_dis = abs(float(next_stop_loc) - float(cur_stop_loc)) / 5280  #feet to miles\n",
    "\n",
    "                                # Remove records deemed erroneous according to memo from last cycle\n",
    "                                if (cur_next_loc_dis>0) & (cur_next_traveltime>0):\n",
    "                                    if 3600*cur_next_loc_dis/cur_next_traveltime<=55:\n",
    "                                        # Add matched stop pairs to the new dataframe for subsequent speed calculation\n",
    "                                        apc_pairs_df.loc[pair_cnt, 'cmp_segid'] = common_seg_id\n",
    "                                        apc_pairs_df.loc[pair_cnt, 'trip_id'] = cur_stop_trip_id\n",
    "                                        apc_pairs_df.loc[pair_cnt, 'trip_date'] = cur_stop_date\n",
    "                                        apc_pairs_df.loc[pair_cnt, 'vehicle_id'] = cur_stop_veh_id\n",
    "                                        apc_pairs_df.loc[pair_cnt, 'route_alpha'] = cur_stop_route_alpha\n",
    "                                        apc_pairs_df.loc[pair_cnt, 'direction'] = cur_stop_route_dir\n",
    "\n",
    "                                        apc_pairs_df.loc[pair_cnt, 'cur_stop_id'] = cur_stop_id\n",
    "                                        apc_pairs_df.loc[pair_cnt, 'cur_stop_open_time'] = cur_stop_open_time\n",
    "                                        apc_pairs_df.loc[pair_cnt, 'cur_stop_close_time'] = cur_stop_close_time\n",
    "                                        apc_pairs_df.loc[pair_cnt, 'cur_stop_dwell_time'] = cur_stop_dwell_time\n",
    "                                        apc_pairs_df.loc[pair_cnt, 'cur_stop_loc'] = float(cur_stop_loc)\n",
    "\n",
    "                                        apc_pairs_df.loc[pair_cnt, 'next_stop_id'] = next_stop_id\n",
    "                                        apc_pairs_df.loc[pair_cnt, 'next_stop_open_time'] = next_stop_open_time\n",
    "                                        apc_pairs_df.loc[pair_cnt, 'next_stop_close_time'] = next_stop_close_time\n",
    "                                        apc_pairs_df.loc[pair_cnt, 'next_stop_dwell_time'] = next_stop_dwell_time\n",
    "                                        apc_pairs_df.loc[pair_cnt, 'next_stop_loc'] = float(next_stop_loc)\n",
    "\n",
    "                                        apc_pairs_df.loc[pair_cnt, 'cur_next_time'] = cur_next_traveltime\n",
    "                                        apc_pairs_df.loc[pair_cnt, 'cur_next_loc_dis'] = cur_next_loc_dis\n",
    "                                        if next_stop_match == 1: \n",
    "                                            apc_pairs_df.loc[pair_cnt, 'cur_next_rev_dis'] = apc_cmp_df.loc[cur_stop_idx, 'REV_DISTANCE']\n",
    "                                        else:\n",
    "                                            apc_pairs_df.loc[pair_cnt, 'cur_next_rev_dis'] = apc_cmp_df.loc[cur_stop_idx, 'REV_DISTANCE'] + apc_cmp_df.loc[cur_stop_idx + 1, 'REV_DISTANCE']\n",
    "\n",
    "                                        pair_cnt = pair_cnt + 1\n",
    "\n",
    "        if cur_stop_idx % 50000 == 0:\n",
    "            print('Processed %s percent' % round(100*cur_stop_idx/len(apc_cmp_df), 2))\n",
    "    \n",
    "    # Update the stop location for CMP 175 due to its irregular geometry\n",
    "    apc_pairs_df['cur_stop_loc'] = np.where(apc_pairs_df['cmp_segid']==175,\n",
    "                                         np.where(apc_pairs_df['cur_stop_id']==5543, 173.935,\n",
    "                                                 np.where(apc_pairs_df['cur_stop_id']==5545, 1020.629,\n",
    "                                                         np.where(apc_pairs_df['cur_stop_id']==5836, 1804.72,\n",
    "                                                                 np.where(apc_pairs_df['cur_stop_id']==5835, 2685.807, apc_pairs_df['cur_stop_loc'])))),\n",
    "                                          apc_pairs_df['cur_stop_loc'])\n",
    "    apc_pairs_df['next_stop_loc'] = np.where(apc_pairs_df['cmp_segid']==175,\n",
    "                                         np.where(apc_pairs_df['next_stop_id']==5543, 173.935,\n",
    "                                                 np.where(apc_pairs_df['next_stop_id']==5545, 1020.629,\n",
    "                                                         np.where(apc_pairs_df['next_stop_id']==5836, 1804.72,\n",
    "                                                                 np.where(apc_pairs_df['next_stop_id']==5835, 2685.807, apc_pairs_df['next_stop_loc'])))),\n",
    "                                          apc_pairs_df['next_stop_loc'])\n",
    "    apc_pairs_df['cur_next_loc_dis'] = np.where(apc_pairs_df['cmp_segid']==175,\n",
    "                                         abs(apc_pairs_df['next_stop_loc'] - apc_pairs_df['cur_stop_loc']) / 5280,\n",
    "                                          apc_pairs_df['cur_next_loc_dis'])\n",
    "    \n",
    "    return apc_pairs_df"
   ]
  },
  {
   "cell_type": "code",
   "execution_count": 68,
   "metadata": {
    "ExecuteTime": {
     "end_time": "2021-09-08T20:52:49.000291Z",
     "start_time": "2021-09-08T20:52:48.509036Z"
    }
   },
   "outputs": [
    {
     "data": {
      "text/plain": [
       "326568"
      ]
     },
     "execution_count": 68,
     "metadata": {},
     "output_type": "execute_result"
    }
   ],
   "source": [
    "len(apc_cmp[(apc_cmp['Close_Period']=='AM') & (apc_cmp['Open_Hour']<9) & (apc_cmp['Close_Hour']>6)])"
   ]
  },
  {
   "cell_type": "code",
   "execution_count": 69,
   "metadata": {
    "ExecuteTime": {
     "end_time": "2021-09-08T21:59:04.063002Z",
     "start_time": "2021-09-08T20:52:59.314000Z"
    }
   },
   "outputs": [
    {
     "name": "stdout",
     "output_type": "stream",
     "text": [
      "------------Start processing AM trips------------\n",
      "Processed 0.0 percent\n",
      "Processed 15.31 percent\n",
      "Processed 30.62 percent\n",
      "Processed 45.93 percent\n",
      "Processed 61.24 percent\n",
      "Processed 76.55 percent\n",
      "Processed 91.86 percent\n"
     ]
    }
   ],
   "source": [
    "# ## AM \n",
    "apc_cmp_am = apc_cmp[(apc_cmp['Close_Period']=='AM') & (apc_cmp['Open_Hour']<9) & (apc_cmp['Close_Hour']>6)]\n",
    "\n",
    "apc_cmp_am = apc_cmp_am.merge(stops, left_on='BS_ID', right_on='stop_id', how='left')\n",
    "apc_cmp_am = apc_cmp_am.sort_values(by=['TRIP_ID_EXTERNAL', 'Date', 'VEHICLE_ID', 'Open_Time']).reset_index()\n",
    "\n",
    "print('------------Start processing AM trips------------')\n",
    "apc_pairs_am = match_stop_pairs_to_cmp(apc_cmp_am, stops_near_cmp_list, cmp_segs_near, cmp_segs_prj, angle_thrd)"
   ]
  },
  {
   "cell_type": "code",
   "execution_count": 70,
   "metadata": {
    "ExecuteTime": {
     "end_time": "2021-09-08T21:59:06.899957Z",
     "start_time": "2021-09-08T21:59:04.063002Z"
    }
   },
   "outputs": [],
   "source": [
    "apc_pairs_am.to_csv(os.path.join(APC_Dir, 'APC_2021_Stop_Pairs_AM.csv'), index=False)"
   ]
  },
  {
   "cell_type": "code",
   "execution_count": 71,
   "metadata": {
    "ExecuteTime": {
     "end_time": "2021-09-08T23:14:01.182149Z",
     "start_time": "2021-09-08T21:59:06.899957Z"
    }
   },
   "outputs": [
    {
     "name": "stdout",
     "output_type": "stream",
     "text": [
      "------------Start processing PM trips------------\n",
      "Processed 0.0 percent\n",
      "Processed 14.16 percent\n",
      "Processed 28.32 percent\n",
      "Processed 42.49 percent\n",
      "Processed 56.65 percent\n",
      "Processed 70.81 percent\n",
      "Processed 84.97 percent\n",
      "Processed 99.13 percent\n"
     ]
    }
   ],
   "source": [
    "# ## PM \n",
    "apc_cmp_pm = apc_cmp[(apc_cmp['Close_Period']=='PM') & ((apc_cmp['Open_Time_float']<=6.5) & (apc_cmp['Close_Time_float']>=4.5))]\n",
    "\n",
    "apc_cmp_pm = apc_cmp_pm.merge(stops, left_on='BS_ID', right_on='stop_id', how='left')\n",
    "apc_cmp_pm = apc_cmp_pm.sort_values(by=['TRIP_ID_EXTERNAL', 'Date', 'VEHICLE_ID', 'Open_Time']).reset_index()\n",
    "\n",
    "print('------------Start processing PM trips------------')\n",
    "apc_pairs_pm = match_stop_pairs_to_cmp(apc_cmp_pm, stops_near_cmp_list, cmp_segs_near, cmp_segs_prj, angle_thrd)"
   ]
  },
  {
   "cell_type": "code",
   "execution_count": 72,
   "metadata": {
    "ExecuteTime": {
     "end_time": "2021-09-08T23:14:04.365140Z",
     "start_time": "2021-09-08T23:14:01.182149Z"
    }
   },
   "outputs": [],
   "source": [
    "apc_pairs_pm.to_csv(os.path.join(APC_Dir, 'APC_2021_Stop_Pairs_PM.csv'), index=False)"
   ]
  },
  {
   "cell_type": "code",
   "execution_count": 58,
   "metadata": {
    "ExecuteTime": {
     "end_time": "2021-09-08T20:36:17.983045Z",
     "start_time": "2021-09-08T20:35:24.004592Z"
    }
   },
   "outputs": [],
   "source": [
    "# ## Stop and Segment Matching \n",
    "stop_seg_am_1 = apc_pairs_am[['cur_stop_id', 'cur_stop_loc', 'cmp_segid']]\n",
    "stop_seg_am_1.columns = ['stop_id', 'stop_loc', 'cmp_segid']\n",
    "stop_seg_am_2 = apc_pairs_am[['next_stop_id', 'next_stop_loc', 'cmp_segid']]\n",
    "stop_seg_am_2.columns = ['stop_id', 'stop_loc', 'cmp_segid']\n",
    "\n",
    "stop_seg_am = stop_seg_am_1.append(stop_seg_am_2, ignore_index=False)\n",
    "\n",
    "stop_seg_pm_1 = apc_pairs_pm[['cur_stop_id', 'cur_stop_loc', 'cmp_segid']]\n",
    "stop_seg_pm_1.columns = ['stop_id', 'stop_loc', 'cmp_segid']\n",
    "stop_seg_pm_2 = apc_pairs_pm[['next_stop_id', 'next_stop_loc', 'cmp_segid']]\n",
    "stop_seg_pm_2.columns = ['stop_id', 'stop_loc', 'cmp_segid']\n",
    "\n",
    "stop_seg_pm = stop_seg_pm_1.append(stop_seg_pm_2, ignore_index=False)\n",
    "\n",
    "stop_seg_match = stop_seg_am.append(stop_seg_pm, ignore_index=False)\n",
    "stop_seg_match = stop_seg_match.drop_duplicates(subset=['stop_id','cmp_segid']).reset_index()\n",
    "\n",
    "#stop_seg_match.to_csv(os.path.join(APC_Dir, 'transit_stop_cmp_segment_match.csv'), index=False)\n",
    "\n",
    "stop_cmp_match = stops.merge(stop_seg_match, on='stop_id')\n",
    "stop_cmp_match.to_crs(wgs84)\n",
    "stop_cmp_match.to_file(os.path.join(APC_Dir, 'transit_stop_cmp_segment_match_update.shp'))\n",
    "\n",
    "stop_cmp_match['cmp_segid'] = stop_cmp_match['cmp_segid'].astype(int)\n",
    "\n",
    "matched_cmp_segs = stop_cmp_match['cmp_segid'].unique().tolist()"
   ]
  },
  {
   "cell_type": "code",
   "execution_count": 105,
   "metadata": {
    "ExecuteTime": {
     "end_time": "2021-09-09T14:51:49.234731Z",
     "start_time": "2021-09-09T14:51:49.210731Z"
    }
   },
   "outputs": [],
   "source": [
    "# # Transit Speeds on CMP Segment \n",
    "def match_intermediate_apc_stops(apc_pairs, apc_cmp, overlap_pairs, cmp_segs_prj, timep):\n",
    "    # ### Auto Matched Pairs \n",
    "    apc_pairs['cmp_segid'] = apc_pairs['cmp_segid'].astype(int)\n",
    "    apc_pairs['cur_stop_id'] = apc_pairs['cur_stop_id'].astype(int)\n",
    "    apc_pairs['next_stop_id'] = apc_pairs['next_stop_id'].astype(int)\n",
    "    \n",
    "    # ### Manually Matched Pairs \n",
    "    pair_cnt = len(apc_pairs)\n",
    "    for cur_stop_idx in range(len(overlap_pairs)):\n",
    "        cur_stopid = overlap_pairs.loc[cur_stop_idx, 'pre_stopid']\n",
    "        next_stopid = overlap_pairs.loc[cur_stop_idx, 'next_stopid']\n",
    "        cur_stop_trips = apc_cmp.index[apc_cmp['BS_ID']==cur_stopid].tolist()\n",
    "        for cur_stop_trip_idx in cur_stop_trips:\n",
    "            if apc_cmp.loc[cur_stop_trip_idx + 1, 'BS_ID'] == next_stopid:\n",
    "    \n",
    "                cur_stop_trip_id = apc_cmp.loc[cur_stop_trip_idx, 'TRIP_ID_EXTERNAL']\n",
    "                cur_stop_date = apc_cmp.loc[cur_stop_trip_idx, 'Date']\n",
    "                cur_stop_veh_id = apc_cmp.loc[cur_stop_trip_idx, 'VEHICLE_ID']\n",
    "                cur_stop_route_alpha = apc_cmp.loc[cur_stop_trip_idx, 'ROUTE_ALPHA']\n",
    "                cur_stop_route_dir = apc_cmp.loc[cur_stop_trip_idx, 'DIRECTION']\n",
    "                \n",
    "                cur_stop_open_time = apc_cmp.loc[cur_stop_trip_idx, 'Open_Time']\n",
    "                cur_stop_close_time = apc_cmp.loc[cur_stop_trip_idx, 'Close_Time']\n",
    "                cur_stop_dwell_time = apc_cmp.loc[cur_stop_trip_idx, 'DWELL_TIME']\n",
    "    \n",
    "                next_stop_trip_id = apc_cmp.loc[cur_stop_trip_idx + 1, 'TRIP_ID_EXTERNAL']\n",
    "                next_stop_date = apc_cmp.loc[cur_stop_trip_idx + 1, 'Date']\n",
    "                next_stop_veh_id = apc_cmp.loc[cur_stop_trip_idx + 1, 'VEHICLE_ID']\n",
    "                next_stop_open_time = apc_cmp.loc[cur_stop_trip_idx + 1, 'Open_Time']\n",
    "                next_stop_close_time = apc_cmp.loc[cur_stop_trip_idx + 1, 'Close_Time']\n",
    "                next_stop_dwell_time = apc_cmp.loc[cur_stop_trip_idx + 1, 'DWELL_TIME']\n",
    "    \n",
    "                # Check if two stops share the same trip id, date, and vehicle id\n",
    "                if (cur_stop_trip_id == next_stop_trip_id) & (cur_stop_date == next_stop_date) & (cur_stop_veh_id == next_stop_veh_id):\n",
    "                    cur_next_traveltime = (next_stop_open_time-cur_stop_open_time).total_seconds()\n",
    "                    cur_next_loc_dis = overlap_pairs.loc[cur_stop_idx, 'cmp_overlap_len']/5280/overlap_pairs.loc[cur_stop_idx, 'cmp_overlap_ratio']\n",
    "                    \n",
    "                    # Remove records deemed erroneous according to memo from last cycle\n",
    "                    if (cur_next_loc_dis>0) & (cur_next_traveltime>0):\n",
    "                        if 3600 * cur_next_loc_dis/cur_next_traveltime<=55:\n",
    "                            # Add matched stop pairs to the dataframe for subsequent speed calculation\n",
    "                            apc_pairs.loc[pair_cnt, 'cmp_segid'] = overlap_pairs.loc[cur_stop_idx, 'cmp_segid']\n",
    "                            apc_pairs.loc[pair_cnt, 'trip_id'] = cur_stop_trip_id\n",
    "                            apc_pairs.loc[pair_cnt, 'trip_date'] = cur_stop_date\n",
    "                            apc_pairs.loc[pair_cnt, 'vehicle_id'] = cur_stop_veh_id\n",
    "                            apc_pairs.loc[pair_cnt, 'route_alpha'] = cur_stop_route_alpha\n",
    "                            apc_pairs.loc[pair_cnt, 'direction'] = cur_stop_route_dir\n",
    "                            \n",
    "                            apc_pairs.loc[pair_cnt, 'cur_stop_id'] = cur_stopid\n",
    "                            apc_pairs.loc[pair_cnt, 'cur_stop_open_time'] = cur_stop_open_time\n",
    "                            apc_pairs.loc[pair_cnt, 'cur_stop_close_time'] = cur_stop_close_time\n",
    "                            apc_pairs.loc[pair_cnt, 'cur_stop_dwell_time'] = cur_stop_dwell_time\n",
    "    \n",
    "                            apc_pairs.loc[pair_cnt, 'next_stop_id'] = next_stopid\n",
    "                            apc_pairs.loc[pair_cnt, 'next_stop_open_time'] = next_stop_open_time\n",
    "                            apc_pairs.loc[pair_cnt, 'next_stop_close_time'] = next_stop_close_time\n",
    "                            apc_pairs.loc[pair_cnt, 'next_stop_dwell_time'] = next_stop_dwell_time\n",
    "                            \n",
    "                            apc_pairs.loc[pair_cnt, 'cur_next_time'] = cur_next_traveltime\n",
    "                            apc_pairs.loc[pair_cnt, 'cur_next_loc_dis'] = cur_next_loc_dis\n",
    "                            apc_pairs.loc[pair_cnt, 'cur_next_rev_dis'] = apc_cmp.loc[cur_stop_trip_idx, 'REV_DISTANCE']\n",
    "    \n",
    "                        pair_cnt = pair_cnt + 1\n",
    "    \n",
    "    \n",
    "    apc_pairs['cur_next_loc_dis'] = np.where(apc_pairs['cur_next_loc_dis'] >= apc_pairs['cur_next_rev_dis'], \n",
    "                                            apc_pairs['cur_next_loc_dis'],\n",
    "                                            apc_pairs['cur_next_rev_dis'])\n",
    "    \n",
    "    apc_pairs_clean = apc_pairs[apc_pairs['cur_stop_dwell_time']<180]\n",
    "    apc_pairs_clean['route_alpha'] = apc_pairs_clean['route_alpha'].apply(lambda x: str(x).lstrip(\"0\"))  #remove leading zeros\n",
    "    apc_pairs_clean['route_dir'] = apc_pairs_clean['route_alpha'].astype(str)  + '_' + apc_pairs_clean['direction']\n",
    "    \n",
    "    grpby_cols = ['cmp_segid', 'trip_id', 'trip_date', 'route_dir']\n",
    "    apc_trip_speeds = apc_pairs_clean.groupby(grpby_cols).agg({'cur_next_loc_dis': 'sum',\n",
    "                                                                        'cur_next_time': 'sum'}).reset_index()\n",
    "    \n",
    "    apc_trip_speeds.columns = grpby_cols + ['trip_stop_distance', 'trip_traveltime']\n",
    "    apc_trip_speeds['trip_loc_speed'] = 3600* apc_trip_speeds['trip_stop_distance']/apc_trip_speeds['trip_traveltime']\n",
    "    \n",
    "    apc_trip_speeds = pd.merge(apc_trip_speeds, cmp_segs_prj[['cmp_segid', 'length']], on='cmp_segid', how='left')\n",
    "    apc_trip_speeds['len_ratio'] = 100*apc_trip_speeds['trip_stop_distance']/apc_trip_speeds['length']\n",
    "    \n",
    "    apc_trip_speeds.to_csv(os.path.join(APC_Dir, 'APC_2021_Trips_%s.csv' %timep), index=False)\n",
    "    \n",
    "    # Only include trips covering at least 50% of CMP length\n",
    "    apc_trip_speeds_over50 = apc_trip_speeds[apc_trip_speeds['len_ratio']>=50]\n",
    "    apc_cmp_speeds = apc_trip_speeds_over50.groupby(['cmp_segid']).agg({'trip_loc_speed': ['mean', 'std'],\n",
    "                                                                        'trip_id': 'count'}).reset_index()\n",
    "    \n",
    "    apc_cmp_speeds.columns = ['cmp_segid', 'avg_speed', 'std_dev', 'sample_size']\n",
    "    apc_cmp_speeds['cov'] = 100* apc_cmp_speeds['std_dev']/apc_cmp_speeds['avg_speed']\n",
    "    \n",
    "    apc_cmp_speeds['year'] = 2021\n",
    "    apc_cmp_speeds['source'] = 'APC'\n",
    "    apc_cmp_speeds['period'] = timep\n",
    "    \n",
    "    apc_cmp_speeds_routes = apc_trip_speeds_over50.groupby(['cmp_segid'])['route_dir'].agg(['unique']).reset_index()\n",
    "    apc_cmp_speeds_routes.columns = ['cmp_segid', 'comments']\n",
    "    apc_cmp_speeds = apc_cmp_speeds.merge(apc_cmp_speeds_routes, on='cmp_segid', how='left')\n",
    "    \n",
    "    return apc_cmp_speeds"
   ]
  },
  {
   "cell_type": "code",
   "execution_count": 106,
   "metadata": {
    "ExecuteTime": {
     "end_time": "2021-09-09T14:52:42.345351Z",
     "start_time": "2021-09-09T14:51:49.978462Z"
    }
   },
   "outputs": [],
   "source": [
    "# ## AM \n",
    "apc_cmp_speeds_am = match_intermediate_apc_stops(apc_pairs_am, apc_cmp_am, overlap_pairs, cmp_segs_prj, 'AM')"
   ]
  },
  {
   "cell_type": "code",
   "execution_count": 107,
   "metadata": {
    "ExecuteTime": {
     "end_time": "2021-09-09T14:53:52.565269Z",
     "start_time": "2021-09-09T14:52:42.345351Z"
    }
   },
   "outputs": [],
   "source": [
    "# ## PM \n",
    "apc_cmp_speeds_pm = match_intermediate_apc_stops(apc_pairs_pm, apc_cmp_pm, overlap_pairs, cmp_segs_prj, 'PM')"
   ]
  },
  {
   "cell_type": "code",
   "execution_count": 110,
   "metadata": {
    "ExecuteTime": {
     "end_time": "2021-09-09T14:56:42.740962Z",
     "start_time": "2021-09-09T14:56:42.710969Z"
    }
   },
   "outputs": [
    {
     "name": "stdout",
     "output_type": "stream",
     "text": [
      "Number of segment-periods  235\n"
     ]
    }
   ],
   "source": [
    "# ## Combine AM and PM \n",
    "apc_cmp_speeds = apc_cmp_speeds_am.append(apc_cmp_speeds_pm, ignore_index=True)\n",
    "apc_cmp_speeds = apc_cmp_speeds[apc_cmp_speeds['sample_size']>=9]\n",
    "print('Number of segment-periods ', len(apc_cmp_speeds))\n",
    "\n",
    "apc_cmp_speeds = apc_cmp_speeds.merge(cmp_segs_prj[['cmp_segid', 'length']], on='cmp_segid', how='left')\n",
    "apc_cmp_speeds.to_csv(os.path.join(APC_Dir, 'SF_CMP2021_Transit_Speeds.csv'), index=False)"
   ]
  },
  {
   "cell_type": "code",
   "execution_count": 153,
   "metadata": {
    "ExecuteTime": {
     "end_time": "2021-09-09T20:41:35.351873Z",
     "start_time": "2021-09-09T20:41:35.117540Z"
    }
   },
   "outputs": [],
   "source": [
    "cmp_segs_transit_speeds_am = cmp_segs_prj.merge(apc_cmp_speeds[apc_cmp_speeds['period']=='AM'][['cmp_segid', 'avg_speed', 'std_dev', 'cov', 'sample_size']], on='cmp_segid')\n",
    "cmp_segs_transit_speeds_pm = cmp_segs_prj.merge(apc_cmp_speeds[apc_cmp_speeds['period']=='PM'][['cmp_segid', 'avg_speed', 'std_dev', 'cov', 'sample_size']], on='cmp_segid')\n",
    "cmp_segs_transit_speeds_am.to_file(os.path.join(APC_Dir, 'SF_CMP2021_Transit_Speeds_AM.shp'))\n",
    "cmp_segs_transit_speeds_pm.to_file(os.path.join(APC_Dir, 'SF_CMP2021_Transit_Speeds_PM.shp'))"
   ]
  },
  {
   "cell_type": "code",
   "execution_count": 86,
   "metadata": {
    "ExecuteTime": {
     "end_time": "2021-09-09T14:41:11.661726Z",
     "start_time": "2021-09-09T14:41:11.007440Z"
    }
   },
   "outputs": [],
   "source": [
    "# Average boardings and alightings at stop level\n",
    "cmp_stop_wdvol = stop_vol_complete[(stop_vol_complete['stopid'].isin(stop_seg_match['stop_id'])) & (stop_vol_complete['daytype']=='Weekdays')]\n",
    "\n",
    "cmp_stop_wdvol_am = cmp_stop_wdvol[(cmp_stop_wdvol['hour']>=7) & (cmp_stop_wdvol['hour']<=8)]\n",
    "cmp_stop_wdvol_amavg = cmp_stop_wdvol_am.groupby(['stopid']).agg({'boardings': 'sum', \n",
    "                                                                  'alightings': 'sum', \n",
    "                                                                  'loads': 'sum'}).reset_index()\n",
    "cmp_stop_wdvol_amavg.columns = ['stop_id', 'board_am', 'alight_am', 'load_am']\n",
    "\n",
    "cmp_stop_wdvol_pm = cmp_stop_wdvol[(cmp_stop_wdvol['epoch']>=33) & (cmp_stop_wdvol['epoch']<=36)]\n",
    "cmp_stop_wdvol_pmavg = cmp_stop_wdvol_pm.groupby(['stopid']).agg({'boardings': 'sum', \n",
    "                                                                  'alightings': 'sum', \n",
    "                                                                  'loads': 'sum'}).reset_index()\n",
    "cmp_stop_wdvol_pmavg.columns = ['stop_id', 'board_pm', 'alight_pm', 'load_pm']\n",
    "\n",
    "cmp_stop_wdvol_amavg['stop_id'] = cmp_stop_wdvol_amavg['stop_id'].astype(int)\n",
    "cmp_stop_wdvol_pmavg['stop_id'] = cmp_stop_wdvol_pmavg['stop_id'].astype(int)\n",
    "stop_cmp_vol = stop_cmp_match.merge(cmp_stop_wdvol_amavg, on='stop_id', how='left')\n",
    "stop_cmp_vol = stop_cmp_vol.merge(cmp_stop_wdvol_pmavg, on='stop_id', how='left')\n",
    "stop_cmp_vol.to_file(os.path.join(APC_Dir, 'cmp_transit_stop_volume.shp'))"
   ]
  },
  {
   "cell_type": "code",
   "execution_count": 116,
   "metadata": {
    "ExecuteTime": {
     "end_time": "2021-09-09T14:57:43.115525Z",
     "start_time": "2021-09-09T14:57:43.094525Z"
    }
   },
   "outputs": [],
   "source": [
    "def transit_speeds_samples(df_speeds):\n",
    "    df_speeds['group_id'] = np.where(df_speeds['sample_size']<50, 0,\n",
    "                                              np.where(df_speeds['sample_size']<100, 1,\n",
    "                                                       np.where(df_speeds['sample_size']<250, 2,\n",
    "                                                                np.where(df_speeds['sample_size']<500, 3,\n",
    "                                                                         np.where(df_speeds['sample_size']<1000, 4,\n",
    "                                                                                  np.where(df_speeds['sample_size']<2000, 5,\n",
    "                                                                                           6\n",
    "                                             ))))))\n",
    "    df_speeds['group_range'] = np.where(df_speeds['sample_size']<50, '0-50',\n",
    "                                              np.where(df_speeds['sample_size']<100, '50-100',\n",
    "                                                       np.where(df_speeds['sample_size']<250, '100-250',\n",
    "                                                                np.where(df_speeds['sample_size']<500, '250-500',\n",
    "                                                                         np.where(df_speeds['sample_size']<1000, '500-1000',\n",
    "                                                                                  np.where(df_speeds['sample_size']<2000, '1000-2000',\n",
    "                                                                                           '>2000'\n",
    "                                             ))))))\n",
    "    apc_cmp_count = df_speeds.groupby(['group_id', 'group_range', 'period']).cmp_segid.count().reset_index()\n",
    "    apc_cmp_count.columns = ['group_id', 'group_range', 'period', 'count']\n",
    "    print('Total number of segment-periods: ', apc_cmp_count['count'].sum())\n",
    "    \n",
    "    n_groups = 7\n",
    "    fig, ax = plt.subplots(figsize=(10,5))\n",
    "    bar_width = 0.35\n",
    "    opacity = 0.8\n",
    "\n",
    "    #Create bars\n",
    "    am_bvalue = apc_cmp_count[apc_cmp_count['period']=='AM']['count'].tolist()\n",
    "    pm_bvalue = apc_cmp_count[apc_cmp_count['period']=='PM']['count'].tolist()\n",
    "\n",
    "    # Get x position of bars\n",
    "    am_bx = apc_cmp_count[apc_cmp_count['period']=='AM']['group_id'].tolist()\n",
    "    pm_bx = [pm_x + bar_width for pm_x in apc_cmp_count[apc_cmp_count['period']=='PM']['group_id'].tolist()]\n",
    "\n",
    "    am = plt.bar(am_bx, am_bvalue, bar_width, alpha=opacity, color='blue', label='AM')\n",
    "    pm = plt.bar(pm_bx, pm_bvalue, bar_width, alpha=opacity, color='orange', label='PM')\n",
    "\n",
    "    plt.xticks([grp + bar_width-0.18 for grp in range(n_groups)], ['0-50', '50-100', '100-250', '250-500', '500-1000', '1000-2000', '>2000'])\n",
    "    ax.tick_params(axis='both', which='major', labelsize=12)\n",
    "\n",
    "    plt.xlabel('Number of APC Records', fontsize = 14)\n",
    "    plt.ylabel('Number of CMP Segments', fontsize = 14)\n",
    "    plt.legend(fontsize=12)\n",
    "\n",
    "    # Create bar value labels\n",
    "    label = am_bvalue + pm_bvalue\n",
    "    bx = am_bx + pm_bx\n",
    "    # Text on the top of each bar\n",
    "    for i in range(len(bx)):\n",
    "        plt.text(x = bx[i] - 0.1 , y = label[i] + 1, s = label[i], size = 10)\n",
    "\n",
    "    ax.spines['right'].set_visible(False)\n",
    "    ax.spines['top'].set_visible(False)\n",
    "\n",
    "    plt.tight_layout()\n",
    "    #plt.savefig(os.path.join(APC_Dir, 'Sample_Size_Distribution_2021.png'), bbox_inches = 'tight')\n",
    "    plt.show()"
   ]
  },
  {
   "cell_type": "code",
   "execution_count": 125,
   "metadata": {
    "ExecuteTime": {
     "end_time": "2021-09-09T15:06:09.468039Z",
     "start_time": "2021-09-09T15:06:09.202916Z"
    }
   },
   "outputs": [
    {
     "name": "stdout",
     "output_type": "stream",
     "text": [
      "Total number of segment-periods:  235\n"
     ]
    },
    {
     "data": {
      "image/png": "[encoded data removed]",
      "text/plain": [
       "<Figure size 720x360 with 1 Axes>"
      ]
     },
     "metadata": {},
     "output_type": "display_data"
    }
   ],
   "source": [
    "transit_speeds_samples(apc_cmp_speeds)"
   ]
  },
  {
   "cell_type": "code",
   "execution_count": 118,
   "metadata": {
    "ExecuteTime": {
     "end_time": "2021-09-09T14:57:53.040033Z",
     "start_time": "2021-09-09T14:57:53.014182Z"
    }
   },
   "outputs": [
    {
     "data": {
      "text/html": [
       "<div>\n",
       "<style scoped>\n",
       "    .dataframe tbody tr th:only-of-type {\n",
       "        vertical-align: middle;\n",
       "    }\n",
       "\n",
       "    .dataframe tbody tr th {\n",
       "        vertical-align: top;\n",
       "    }\n",
       "\n",
       "    .dataframe thead th {\n",
       "        text-align: right;\n",
       "    }\n",
       "</style>\n",
       "<table border=\"1\" class=\"dataframe\">\n",
       "  <thead>\n",
       "    <tr style=\"text-align: right;\">\n",
       "      <th></th>\n",
       "      <th>cmp_segid</th>\n",
       "      <th>year</th>\n",
       "      <th>source</th>\n",
       "      <th>period</th>\n",
       "      <th>avg_speed</th>\n",
       "      <th>std_dev</th>\n",
       "      <th>cov_2019</th>\n",
       "      <th>sample_size</th>\n",
       "    </tr>\n",
       "  </thead>\n",
       "  <tbody>\n",
       "    <tr>\n",
       "      <th>0</th>\n",
       "      <td>2.0</td>\n",
       "      <td>2019</td>\n",
       "      <td>APC</td>\n",
       "      <td>AM</td>\n",
       "      <td>6.238537</td>\n",
       "      <td>2.124752</td>\n",
       "      <td>34.0585</td>\n",
       "      <td>41</td>\n",
       "    </tr>\n",
       "  </tbody>\n",
       "</table>\n",
       "</div>"
      ],
      "text/plain": [
       "   cmp_segid  year source period  avg_speed   std_dev  cov_2019  sample_size\n",
       "0        2.0  2019    APC     AM   6.238537  2.124752   34.0585           41"
      ]
     },
     "execution_count": 118,
     "metadata": {},
     "output_type": "execute_result"
    }
   ],
   "source": [
    "# 2019 speed\n",
    "speeds2019 = pd.read_csv('S:\\\\CMP\\\\Transit\\\\Speed\\\\SF_CMP_Transit_Speeds_2019_Final.csv')\n",
    "speeds2019.head(1)"
   ]
  },
  {
   "cell_type": "code",
   "execution_count": 119,
   "metadata": {
    "ExecuteTime": {
     "end_time": "2021-09-09T14:57:55.756858Z",
     "start_time": "2021-09-09T14:57:55.542574Z"
    }
   },
   "outputs": [
    {
     "name": "stdout",
     "output_type": "stream",
     "text": [
      "Total number of segment-periods:  239\n"
     ]
    },
    {
     "data": {
      "image/png": "[encoded data removed]",
      "text/plain": [
       "<Figure size 720x360 with 1 Axes>"
      ]
     },
     "metadata": {},
     "output_type": "display_data"
    }
   ],
   "source": [
    "transit_speeds_samples(speeds2019)"
   ]
  },
  {
   "cell_type": "code",
   "execution_count": 218,
   "metadata": {
    "ExecuteTime": {
     "end_time": "2021-09-09T22:24:06.844531Z",
     "start_time": "2021-09-09T22:24:06.828847Z"
    }
   },
   "outputs": [],
   "source": [
    "speeds2021 = apc_cmp_speeds.copy()"
   ]
  },
  {
   "cell_type": "code",
   "execution_count": 121,
   "metadata": {
    "ExecuteTime": {
     "end_time": "2021-09-09T14:59:07.133761Z",
     "start_time": "2021-09-09T14:59:07.101761Z"
    }
   },
   "outputs": [
    {
     "data": {
      "text/html": [
       "<div>\n",
       "<style scoped>\n",
       "    .dataframe tbody tr th:only-of-type {\n",
       "        vertical-align: middle;\n",
       "    }\n",
       "\n",
       "    .dataframe tbody tr th {\n",
       "        vertical-align: top;\n",
       "    }\n",
       "\n",
       "    .dataframe thead th {\n",
       "        text-align: right;\n",
       "    }\n",
       "</style>\n",
       "<table border=\"1\" class=\"dataframe\">\n",
       "  <thead>\n",
       "    <tr style=\"text-align: right;\">\n",
       "      <th></th>\n",
       "      <th>cmp_segid</th>\n",
       "      <th>avg_speed_x</th>\n",
       "      <th>std_dev_x</th>\n",
       "      <th>sample_size_x</th>\n",
       "      <th>cov</th>\n",
       "      <th>year_x</th>\n",
       "      <th>source_x</th>\n",
       "      <th>period</th>\n",
       "      <th>comments</th>\n",
       "      <th>length</th>\n",
       "      <th>group_id_x</th>\n",
       "      <th>group_range_x</th>\n",
       "      <th>year_y</th>\n",
       "      <th>source_y</th>\n",
       "      <th>avg_speed_y</th>\n",
       "      <th>std_dev_y</th>\n",
       "      <th>cov_2019</th>\n",
       "      <th>sample_size_y</th>\n",
       "      <th>group_id_y</th>\n",
       "      <th>group_range_y</th>\n",
       "    </tr>\n",
       "  </thead>\n",
       "  <tbody>\n",
       "    <tr>\n",
       "      <th>0</th>\n",
       "      <td>5</td>\n",
       "      <td>9.635775</td>\n",
       "      <td>2.69025</td>\n",
       "      <td>219</td>\n",
       "      <td>27.919394</td>\n",
       "      <td>2021</td>\n",
       "      <td>APC</td>\n",
       "      <td>AM</td>\n",
       "      <td>[15_INBOUND, T_OUTBOUND, KT_OUTBOUND]</td>\n",
       "      <td>2.359989</td>\n",
       "      <td>2</td>\n",
       "      <td>100-250</td>\n",
       "      <td>2019</td>\n",
       "      <td>APC</td>\n",
       "      <td>7.216951</td>\n",
       "      <td>1.053334</td>\n",
       "      <td>14.595273</td>\n",
       "      <td>12</td>\n",
       "      <td>0</td>\n",
       "      <td>0-50</td>\n",
       "    </tr>\n",
       "  </tbody>\n",
       "</table>\n",
       "</div>"
      ],
      "text/plain": [
       "   cmp_segid  avg_speed_x  std_dev_x  sample_size_x        cov  year_x  \\\n",
       "0          5     9.635775    2.69025            219  27.919394    2021   \n",
       "\n",
       "  source_x period                               comments    length  \\\n",
       "0      APC     AM  [15_INBOUND, T_OUTBOUND, KT_OUTBOUND]  2.359989   \n",
       "\n",
       "   group_id_x group_range_x  year_y source_y  avg_speed_y  std_dev_y  \\\n",
       "0           2       100-250    2019      APC     7.216951   1.053334   \n",
       "\n",
       "    cov_2019  sample_size_y  group_id_y group_range_y  \n",
       "0  14.595273             12           0          0-50  "
      ]
     },
     "execution_count": 121,
     "metadata": {},
     "output_type": "execute_result"
    }
   ],
   "source": [
    "speeds2019['cmp_segid'] = speeds2019['cmp_segid'].astype(int)\n",
    "speeds2021['cmp_segid'] = speeds2021['cmp_segid'].astype(int)\n",
    "speeds_compare = speeds2021.merge(speeds2019, on=['cmp_segid','period'])\n",
    "speeds_compare.head(1)"
   ]
  },
  {
   "cell_type": "code",
   "execution_count": 122,
   "metadata": {
    "ExecuteTime": {
     "end_time": "2021-09-09T14:59:09.964306Z",
     "start_time": "2021-09-09T14:59:08.894917Z"
    }
   },
   "outputs": [],
   "source": [
    "def plot_unity(xdata, ydata):\n",
    "    mn = min(xdata.min(), ydata.min())\n",
    "    mx = max(xdata.max(), ydata.max())\n",
    "    points = np.linspace(mn, mx, 100)\n",
    "    plt.gca().plot(points, points, color='k', marker=None, linestyle='--', linewidth=1.0)\n",
    "    \n",
    "sns.set_style(\"whitegrid\", {'axes.grid' : False})\n",
    "newPal   = dict(AM = \"#4878CF\", PM = \"#D65F5F\")\n",
    "\n",
    "def compare_two_cycles(df, x_col, y_col):\n",
    "    g = sns.pairplot(x_vars=[x_col], y_vars=[y_col], data=df, hue=\"period\", plot_kws={\"s\": 25}, height=5, palette=newPal)\n",
    "    mn = min(df[x_col].min(), df[y_col].min())\n",
    "    mx = max(df[x_col].max(), df[y_col].max())\n",
    "    points = np.linspace(mn, mx, 100)\n",
    "    plt.gca().plot(points, points, color='k', marker=None, linestyle='--', linewidth=1.0)"
   ]
  },
  {
   "cell_type": "code",
   "execution_count": 123,
   "metadata": {
    "ExecuteTime": {
     "end_time": "2021-09-09T14:59:11.320471Z",
     "start_time": "2021-09-09T14:59:10.798672Z"
    }
   },
   "outputs": [
    {
     "data": {
      "image/png": "[encoded data removed]",
      "text/plain": [
       "<Figure size 411x360 with 1 Axes>"
      ]
     },
     "metadata": {},
     "output_type": "display_data"
    }
   ],
   "source": [
    "x_col = 'avg_speed_x'\n",
    "y_col = 'avg_speed_y'\n",
    "\n",
    "compare_two_cycles(speeds_compare, x_col, y_col)\n",
    "plt.xlabel('Avg Speed 2021')\n",
    "plt.ylabel('Avg Speed 2019')\n",
    "plt.show()"
   ]
  },
  {
   "cell_type": "code",
   "execution_count": 124,
   "metadata": {
    "ExecuteTime": {
     "end_time": "2021-09-09T14:59:13.555295Z",
     "start_time": "2021-09-09T14:59:13.046676Z"
    }
   },
   "outputs": [
    {
     "data": {
      "image/png": "[encoded data removed]",
      "text/plain": [
       "<Figure size 411x360 with 1 Axes>"
      ]
     },
     "metadata": {},
     "output_type": "display_data"
    }
   ],
   "source": [
    "x_col = 'cov'\n",
    "y_col = 'cov_2019'\n",
    "\n",
    "compare_two_cycles(speeds_compare, x_col, y_col)\n",
    "plt.xlabel('COV 2021')\n",
    "plt.ylabel('COV 2019')\n",
    "plt.show()"
   ]
  },
  {
   "cell_type": "code",
   "execution_count": null,
   "metadata": {},
   "outputs": [],
   "source": []
  }
 ],
 "metadata": {
  "kernelspec": {
   "display_name": "Python 3",
   "language": "python",
   "name": "python3"
  },
  "language_info": {
   "codemirror_mode": {
    "name": "ipython",
    "version": 3
   },
   "file_extension": ".py",
   "mimetype": "text/x-python",
   "name": "python",
   "nbconvert_exporter": "python",
   "pygments_lexer": "ipython3",
   "version": "3.6.5"
  },
  "toc": {
   "base_numbering": 1,
   "nav_menu": {},
   "number_sections": true,
   "sideBar": true,
   "skip_h1_title": false,
   "title_cell": "Table of Contents",
   "title_sidebar": "Contents",
   "toc_cell": false,
   "toc_position": {
    "height": "calc(100% - 180px)",
    "left": "10px",
    "top": "150px",
    "width": "384px"
   },
   "toc_section_display": true,
   "toc_window_display": true
  },
  "varInspector": {
   "cols": {
    "lenName": 16,
    "lenType": 16,
    "lenVar": 40
   },
   "kernels_config": {
    "python": {
     "delete_cmd_postfix": "",
     "delete_cmd_prefix": "del ",
     "library": "var_list.py",
     "varRefreshCmd": "print(var_dic_list())"
    },
    "r": {
     "delete_cmd_postfix": ") ",
     "delete_cmd_prefix": "rm(",
     "library": "var_list.r",
     "varRefreshCmd": "cat(var_dic_list()) "
    }
   },
   "types_to_exclude": [
    "module",
    "function",
    "builtin_function_or_method",
    "instance",
    "_Feature"
   ],
   "window_display": false
  }
 },
 "nbformat": 4,
 "nbformat_minor": 2
}
