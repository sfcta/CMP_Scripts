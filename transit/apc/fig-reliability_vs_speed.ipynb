{
 "cells": [
  {
   "cell_type": "code",
   "execution_count": null,
   "metadata": {},
   "outputs": [],
   "source": [
    "from pathlib import Path\n",
    "\n",
    "import altair as alt\n",
    "import polars as pl"
   ]
  },
  {
   "cell_type": "code",
   "execution_count": null,
   "metadata": {},
   "outputs": [],
   "source": [
    "year = 2023\n",
    "filepath = r\"Q:\\CMP\\LOS Monitoring 2023\\transit\\volume_and_speed\\2304-2305\\Muni-APC-Transit_Speeds-2023.csv\"\n",
    "save_dir = Path(\n",
    "    r\"Q:\\CMP\\reports\\CMPSF 2023\\Draft\\figures\\multimodal_performance\\transit\"\n",
    ")\n",
    "\n",
    "color_ampm_domain = [\"AM\", \"PM\"]\n",
    "color_ampm_range = [\"#8cb7c9\", \"#d3d655\"]\n",
    "\n",
    "# segment IDs 1-245 are the officially defined CMP segments\n",
    "cmp_segid_filter = pl.col(\"cmp_segid\") < 246\n",
    "\n",
    "def output_filepath_stem(save_dir, year):\n",
    "    return (\n",
    "        save_dir / f\"transit-reliability_vs_speed-{year}\"\n",
    "    )"
   ]
  },
  {
   "cell_type": "code",
   "execution_count": null,
   "metadata": {},
   "outputs": [],
   "source": [
    "df_long = pl.read_csv(filepath).filter(cmp_segid_filter)"
   ]
  },
  {
   "cell_type": "code",
   "execution_count": null,
   "metadata": {},
   "outputs": [],
   "source": [
    "# TODO merge with df with CMP segment names, and show on tooltip instead of ID"
   ]
  },
  {
   "cell_type": "code",
   "execution_count": null,
   "metadata": {},
   "outputs": [],
   "source": [
    "def plot_reliability_vs_speed(df_long, year, save_dir):\n",
    "    chart = (\n",
    "        alt.Chart(df_long)\n",
    "        .mark_circle(size=20)\n",
    "        .encode(\n",
    "            alt.X(f\"avg_speed:Q\").title(f\"average transit speed (mph)\"),\n",
    "            alt.Y(f\"cov:Q\").title(f\"coefficient of variation (%)\"),\n",
    "            color=alt.Color(\"period:N\").scale(\n",
    "                domain=color_ampm_domain, range=color_ampm_range\n",
    "            ),\n",
    "            tooltip=[\n",
    "                \"cmp_segid:O\",\n",
    "                \"period:N\",\n",
    "                \"avg_speed:Q\",\n",
    "                \"std_dev:Q\",\n",
    "                \"cov:Q\",\n",
    "                \"sample_size:Q\",\n",
    "            ],\n",
    "        )\n",
    "    )\n",
    "    chart.save(f\"{output_filepath_stem(save_dir, year)}.png\", scale_factor=2)\n",
    "    return chart.interactive()"
   ]
  },
  {
   "cell_type": "code",
   "execution_count": null,
   "metadata": {},
   "outputs": [],
   "source": [
    "df_long.write_csv(f\"{output_filepath_stem(save_dir, year)}.csv\")\n",
    "plot_reliability_vs_speed(df_long, year, save_dir)"
   ]
  }
 ],
 "metadata": {
  "kernelspec": {
   "display_name": "py3.11",
   "language": "python",
   "name": "python3"
  },
  "language_info": {
   "codemirror_mode": {
    "name": "ipython",
    "version": 3
   },
   "file_extension": ".py",
   "mimetype": "text/x-python",
   "name": "python",
   "nbconvert_exporter": "python",
   "pygments_lexer": "ipython3",
   "version": "3.11.3"
  },
  "orig_nbformat": 4
 },
 "nbformat": 4,
 "nbformat_minor": 2
}
