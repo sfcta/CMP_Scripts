{
 "cells": [
  {
   "cell_type": "code",
   "execution_count": null,
   "metadata": {},
   "outputs": [],
   "source": [
    "from pathlib import Path\n",
    "\n",
    "import folium\n",
    "import pandas as pd\n",
    "import geopandas as gpd\n",
    "import contextily as ctx"
   ]
  },
  {
   "cell_type": "code",
   "execution_count": null,
   "metadata": {},
   "outputs": [],
   "source": [
    "coverage_dir = Path(r\"Q:\\CMP\\LOS Monitoring 2023\\transit\\coverage\\2023\")\n",
    "# headways = [\"10min\", \"5min\", \"all\"]\n",
    "# headways: {filename: label name on map}\n",
    "# the order of headways matter, because I'm using a groupby().first() later\n",
    "# to only keep the first entry for each MAZ, since I'm plotting a chloropleth.\n",
    "# (`5min` is a subset of `10min` is a subset of `all`, so I'm just keeping the\n",
    "#  most specific label)\n",
    "headways = {\n",
    "    \"5min\": \"5-min headway\",\n",
    "    \"10min\": \"10-min headway\",\n",
    "    \"all\": \"any service\",\n",
    "}\n",
    "time_periods = [\"AM\", \"PM\"]\n",
    "year = 2023"
   ]
  },
  {
   "cell_type": "code",
   "execution_count": null,
   "metadata": {},
   "outputs": [],
   "source": [
    "def construct_period_gdf(gdfs, sort_by_headway=True):\n",
    "    # keep only the first entry for each MAZ, because `5min` is a subset of\n",
    "    # `10min` is a subset of `all`, so I'm just keeping the most specific label,\n",
    "    # for plotting a chloropleth later\n",
    "    df = pd.concat(gdfs).groupby(\"MAZID\").first()\n",
    "    df[\"headway\"].astype(\"category\").cat.set_categories(\n",
    "        headways.values(), ordered=True\n",
    "    )\n",
    "    if sort_by_headway:\n",
    "        df = df.sort_values(\"headway\")\n",
    "        # TODO I'm trying to pre-sort to get the plot legend to show up as\n",
    "        # 5, 10, any rather than any other order\n",
    "    return gpd.GeoDataFrame(df).set_crs(get_crs(gdfs))\n",
    "\n",
    "\n",
    "def get_crs(gdfs):\n",
    "    # pull out the crs from each of the gdf's that are read in, making sure\n",
    "    # they're the same\n",
    "    crs = set(gdf.crs for gdf in gdfs)\n",
    "    assert (\n",
    "        len(crs) == 1\n",
    "    ), \"The crs isn't all the same for the different input gpkg's\"\n",
    "    return crs.pop()"
   ]
  },
  {
   "cell_type": "code",
   "execution_count": null,
   "metadata": {},
   "outputs": [],
   "source": [
    "for time_period in time_periods:\n",
    "    gdfs = []\n",
    "    for headway in headways.keys():\n",
    "        filepath = (\n",
    "            coverage_dir\n",
    "            / headway\n",
    "            / f\"coverage_{headway}_{year}_{time_period}buffer.gpkg\"\n",
    "        )\n",
    "        gdf = gpd.read_file(filepath)\n",
    "        gdf[\"headway\"] = headways[headway]\n",
    "        gdfs.append(gdf)\n",
    "    period_gdf = construct_period_gdf(gdfs, sort_by_headway=True)"
   ]
  },
  {
   "cell_type": "code",
   "execution_count": null,
   "metadata": {},
   "outputs": [],
   "source": [
    "# 'Web map tiles are typically provided in Web Mercator (EPSG 3857)' (GeoPandas docs)\n",
    "ax = (\n",
    "    period_gdf.sort_values(\"headway\")\n",
    "    .to_crs(epsg=3857)\n",
    "    .plot(\n",
    "        column=\"headway\",\n",
    "        legend=True,\n",
    "        legend_kwds={\"loc\": \"upper left\"},\n",
    "        figsize=(10, 10),\n",
    "    )\n",
    ")\n",
    "ctx.add_basemap(ax, source=ctx.providers.CartoDB.Positron)\n",
    "ax.set_axis_off()"
   ]
  },
  {
   "cell_type": "code",
   "execution_count": null,
   "metadata": {},
   "outputs": [],
   "source": [
    "for time_period in time_periods:\n",
    "    # START FUNC HERE\n",
    "    map = folium.Map(\n",
    "        location=[37.76, -122.44],\n",
    "        tiles=\"CartoDB Positron\",\n",
    "        zoom_start=12,\n",
    "        control_scale=True,\n",
    "    )\n",
    "    for headway in headways.keys():\n",
    "        filepath = (\n",
    "            coverage_dir\n",
    "            / headway\n",
    "            / f\"coverage_{headway}_{year}_{time_period}buffer.gpkg\"\n",
    "        )\n",
    "        gdf = gpd.read_file(filepath)\n",
    "        folium.GeoJson(\n",
    "            data=gdf  # , style_function=lambda x: {\"fillColor\": \"orange\"}\n",
    "        ).add_to(map)\n",
    "map"
   ]
  }
 ],
 "metadata": {
  "kernelspec": {
   "display_name": "py3.11",
   "language": "python",
   "name": "python3"
  },
  "language_info": {
   "codemirror_mode": {
    "name": "ipython",
    "version": 3
   },
   "file_extension": ".py",
   "mimetype": "text/x-python",
   "name": "python",
   "nbconvert_exporter": "python",
   "pygments_lexer": "ipython3",
   "version": "3.11.3"
  },
  "orig_nbformat": 4
 },
 "nbformat": 4,
 "nbformat_minor": 2
}
