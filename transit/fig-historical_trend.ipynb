{
 "cells": [
  {
   "cell_type": "code",
   "execution_count": null,
   "metadata": {},
   "outputs": [],
   "source": [
    "from pathlib import Path\n",
    "\n",
    "import altair as alt\n",
    "import polars as pl"
   ]
  },
  {
   "cell_type": "code",
   "execution_count": null,
   "metadata": {},
   "outputs": [],
   "source": [
    "data_dir = Path(r\"Q:\\CMP\\LOS Monitoring 2023\\transit\")\n",
    "figs_dir = Path(\n",
    "    r\"Q:\\CMP\\reports\\CMPSF 2023\\Draft\\figures\\multimodal_performance\\transit\"\n",
    ")\n",
    "color_ampm_domain = [\"a.m.\", \"p.m.\"]\n",
    "color_ampm_range = [\"#8cb7c9\", \"#d3d655\"]\n",
    "speed_filename_stem = \"transit-speed-avg-citywide-historical\"\n",
    "variability_filename_stem = (\n",
    "    \"transit-speed-avg_coefficient_of_variation-historical\"\n",
    ")\n",
    "auto_transit_speed_ratio_filename_stem = (\n",
    "    \"auto_transit_speed_ratio-avg-historical\"\n",
    ")"
   ]
  },
  {
   "cell_type": "code",
   "execution_count": null,
   "metadata": {},
   "outputs": [],
   "source": [
    "def load_csv(filepath, metric):\n",
    "    df_wide = pl.read_csv(filepath).rename({\"AM\": \"a.m.\", \"PM\": \"p.m.\"})\n",
    "    df_long = (\n",
    "        df_wide.melt(\n",
    "            id_vars=\"year\",\n",
    "            value_vars=[\"a.m.\", \"p.m.\"],\n",
    "            variable_name=\"peak period\",\n",
    "            value_name=metric,\n",
    "        )\n",
    "        # need to convert year to date(time) for plotting the year axis\n",
    "        .with_columns(pl.date(pl.col(\"year\"), 1, 1).alias(\"date\")).to_pandas()\n",
    "    )\n",
    "    return df_long\n",
    "\n",
    "\n",
    "def plot(df_long, save_filepath, column_name, y_title):\n",
    "    y = alt.Y(f\"{column_name}:Q\").title(y_title)\n",
    "    if y_title == \"transit speed coefficient of variation\":\n",
    "        y = y.axis(format=\"%\")\n",
    "    chart = (\n",
    "        alt.Chart(df_long)\n",
    "        .mark_line()\n",
    "        .encode(\n",
    "            alt.X(\"date:T\"),\n",
    "            y,\n",
    "            color=alt.Color(\"peak period:N\").scale(\n",
    "                domain=color_ampm_domain, range=color_ampm_range\n",
    "            ),\n",
    "            tooltip=[\n",
    "                \"year:Q\",\n",
    "                \"peak period:N\",\n",
    "                f\"{column_name}:Q\",\n",
    "            ],\n",
    "        )\n",
    "    )\n",
    "    chart.save(save_filepath, scale_factor=2)\n",
    "    return chart#.interactive()\n",
    "\n",
    "\n",
    "def historic_trend_fig(data_dir, figs_dir, filename_stem, y_title):\n",
    "    data_filepath = Path(data_dir) / f\"{filename_stem}.csv\"\n",
    "    fig_filepath = Path(figs_dir) / f\"{filename_stem}.png\"\n",
    "    column_name = \"metric\"  # placeholder for the functions below\n",
    "    df_long = load_csv(data_filepath, column_name)\n",
    "    return plot(df_long, fig_filepath, column_name, y_title)"
   ]
  },
  {
   "cell_type": "code",
   "execution_count": null,
   "metadata": {},
   "outputs": [],
   "source": [
    "historic_trend_fig(data_dir, figs_dir, speed_filename_stem, \"transit speed (mph)\")"
   ]
  },
  {
   "cell_type": "code",
   "execution_count": null,
   "metadata": {},
   "outputs": [],
   "source": [
    "historic_trend_fig(\n",
    "    data_dir, figs_dir, variability_filename_stem, \"transit speed coefficient of variation\"\n",
    ")"
   ]
  },
  {
   "cell_type": "code",
   "execution_count": null,
   "metadata": {},
   "outputs": [],
   "source": [
    "historic_trend_fig(\n",
    "    data_dir, figs_dir, auto_transit_speed_ratio_filename_stem, \"auto / transit speed ratio\"\n",
    ")"
   ]
  }
 ],
 "metadata": {
  "kernelspec": {
   "display_name": "py3.11",
   "language": "python",
   "name": "python3"
  },
  "language_info": {
   "codemirror_mode": {
    "name": "ipython",
    "version": 3
   },
   "file_extension": ".py",
   "mimetype": "text/x-python",
   "name": "python",
   "nbconvert_exporter": "python",
   "pygments_lexer": "ipython3",
   "version": "3.11.3"
  },
  "orig_nbformat": 4
 },
 "nbformat": 4,
 "nbformat_minor": 2
}
