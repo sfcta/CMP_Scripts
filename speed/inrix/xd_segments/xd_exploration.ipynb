{
 "cells": [
  {
   "cell_type": "code",
   "execution_count": null,
   "metadata": {},
   "outputs": [],
   "source": [
    "%load_ext autoreload"
   ]
  },
  {
   "cell_type": "code",
   "execution_count": null,
   "metadata": {},
   "outputs": [],
   "source": [
    "import matplotlib.pyplot as plt\n",
    "\n",
    "%autoreload\n",
    "from base import read_bayarea_xd_segments"
   ]
  },
  {
   "cell_type": "code",
   "execution_count": null,
   "metadata": {},
   "outputs": [],
   "source": [
    "map_release_version = \"2301\""
   ]
  },
  {
   "cell_type": "code",
   "execution_count": null,
   "metadata": {},
   "outputs": [],
   "source": [
    "gdf = read_bayarea_xd_segments(map_release_version, sf_only=False)"
   ]
  },
  {
   "cell_type": "code",
   "execution_count": null,
   "metadata": {},
   "outputs": [],
   "source": [
    "# check San Francisco--San Mateo border\n",
    "# to ensure all road segments in SF indeed have County == \"SAN FRANCISCO\"\n",
    "fig, ax = plt.subplots()\n",
    "gdf[gdf.County == \"SAN FRANCISCO\"].plot(ax=ax)\n",
    "gdf[gdf.County == \"SAN MATEO\"].plot(ax=ax, color='r', linewidth=.5)\n",
    "ax.set_xlim(-122.5, -122.37)\n",
    "ax.set_ylim(37.70,37.72)\n",
    "plt.show()"
   ]
  }
 ],
 "metadata": {
  "kernelspec": {
   "display_name": "geo",
   "language": "python",
   "name": "python3"
  },
  "language_info": {
   "codemirror_mode": {
    "name": "ipython",
    "version": 3
   },
   "file_extension": ".py",
   "mimetype": "text/x-python",
   "name": "python",
   "nbconvert_exporter": "python",
   "pygments_lexer": "ipython3",
   "version": "3.9.16"
  },
  "orig_nbformat": 4
 },
 "nbformat": 4,
 "nbformat_minor": 2
}
