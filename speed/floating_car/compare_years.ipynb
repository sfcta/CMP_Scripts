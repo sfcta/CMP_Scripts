{
 "cells": [
  {
   "cell_type": "code",
   "execution_count": null,
   "metadata": {},
   "outputs": [],
   "source": [
    "import polars as pl\n",
    "import seaborn as sns"
   ]
  },
  {
   "cell_type": "code",
   "execution_count": null,
   "metadata": {},
   "outputs": [],
   "source": [
    "years = range(2021, 2024, 2)\n",
    "filepaths = {\n",
    "    y: rf\"\\\\Store\\gis\\Data\\Observed\\Streets\\Speed\\CMP-floating_car_run\\{y}\\floating_car-speed-summary_stats.csv\"\n",
    "    for y in years\n",
    "}\n",
    "dfs = {\n",
    "    y: pl.read_csv(filepaths[y])\n",
    "    for y in years\n",
    "}"
   ]
  },
  {
   "cell_type": "code",
   "execution_count": null,
   "metadata": {},
   "outputs": [],
   "source": [
    "wide_index_cols = [\"cmp_segid\", \"period\", \"direction\"]\n",
    "\n",
    "\n",
    "def make_wide_df(dfs, years, index_cols):\n",
    "    speed_cols = [\"avg_speed\", \"std_speed\", \"min_speed\", \"max_speed\"]\n",
    "    df = dfs[years[0]].select(index_cols)\n",
    "    for y in years:\n",
    "        df = df.join(\n",
    "            dfs[y].select(\n",
    "                index_cols,\n",
    "                pl.col(speed_cols).suffix(f\"-{y}\"),\n",
    "                (pl.col(\"std_speed\") / pl.col(\"avg_speed\")).alias(\n",
    "                    f\"std/avg_speed-{y}\"\n",
    "                ),\n",
    "            ),\n",
    "            on=index_cols,\n",
    "        )\n",
    "    return df\n",
    "\n",
    "\n",
    "def make_long_df(dfs, years):\n",
    "    return pl.concat(\n",
    "        (dfs[y].with_columns(pl.lit(y).alias(\"year\")) for y in years)\n",
    "    ).with_columns(\n",
    "        (pl.col(\"std_speed\") / pl.col(\"avg_speed\")).alias(\"std/avg_speed\")\n",
    "    )\n",
    "\n",
    "\n",
    "def calc_diff(wide_df, comparison_year, base_year):\n",
    "    return wide_df.with_columns(\n",
    "        (\n",
    "            pl.col(f\"avg_speed-{comparison_year}\")\n",
    "            - pl.col(f\"avg_speed-{base_year}\")\n",
    "        ).alias(\"avg_speed-diff\")\n",
    "    ).select(\n",
    "        wide_index_cols,\n",
    "        \"avg_speed-diff\",\n",
    "        (pl.col(\"avg_speed-diff\") / pl.col(\"avg_speed-2021\") * 100).alias(\n",
    "            \"avg_speed-diff-pct\"\n",
    "        ),\n",
    "    )"
   ]
  },
  {
   "cell_type": "code",
   "execution_count": null,
   "metadata": {},
   "outputs": [],
   "source": [
    "wide_df = make_wide_df(dfs, years, wide_index_cols)\n",
    "long_df = make_long_df(dfs, years)"
   ]
  },
  {
   "cell_type": "code",
   "execution_count": null,
   "metadata": {},
   "outputs": [],
   "source": [
    "diff_df = calc_diff(wide_df, 2023, 2021)"
   ]
  },
  {
   "cell_type": "code",
   "execution_count": null,
   "metadata": {},
   "outputs": [],
   "source": [
    "df = wide_df.with_columns(\n",
    "    (pl.col(\"avg_speed-2023\") - pl.col(\"avg_speed-2021\")).alias(\n",
    "        \"avg_speed-diff\"\n",
    "    )\n",
    ").with_columns(\n",
    "    (pl.col(\"avg_speed-diff\") / pl.col(\"avg_speed-2021\") * 100).alias(\n",
    "        \"avg_speed-diff-pct\"\n",
    "    )\n",
    ")"
   ]
  },
  {
   "cell_type": "code",
   "execution_count": null,
   "metadata": {},
   "outputs": [],
   "source": [
    "sns.histplot(long_df, x=\"avg_speed\", hue=\"year\")"
   ]
  },
  {
   "cell_type": "code",
   "execution_count": null,
   "metadata": {},
   "outputs": [],
   "source": [
    "sns.histplot(long_df, x=\"std_speed\", hue=\"year\")"
   ]
  },
  {
   "cell_type": "code",
   "execution_count": null,
   "metadata": {},
   "outputs": [],
   "source": [
    "sns.histplot(long_df, x=\"std/avg_speed\", hue=\"year\")"
   ]
  },
  {
   "cell_type": "code",
   "execution_count": null,
   "metadata": {},
   "outputs": [],
   "source": [
    "sns.histplot(diff_df, x=\"avg_speed-diff\")"
   ]
  },
  {
   "cell_type": "code",
   "execution_count": null,
   "metadata": {},
   "outputs": [],
   "source": [
    "sns.histplot(diff_df, x=\"avg_speed-diff-pct\")"
   ]
  },
  {
   "cell_type": "code",
   "execution_count": null,
   "metadata": {},
   "outputs": [],
   "source": [
    "wide_df.join(diff_df, on=wide_index_cols).sort('avg_speed-diff-pct')"
   ]
  },
  {
   "cell_type": "code",
   "execution_count": null,
   "metadata": {},
   "outputs": [],
   "source": [
    "wide_df.join(diff_df, on=wide_index_cols).sort('std/avg_speed-2023', descending=True).head(10)"
   ]
  }
 ],
 "metadata": {
  "kernelspec": {
   "display_name": "Python 3 (ipykernel)",
   "language": "python",
   "name": "python3"
  },
  "language_info": {
   "codemirror_mode": {
    "name": "ipython",
    "version": 3
   },
   "file_extension": ".py",
   "mimetype": "text/x-python",
   "name": "python",
   "nbconvert_exporter": "python",
   "pygments_lexer": "ipython3",
   "version": "3.11.3"
  }
 },
 "nbformat": 4,
 "nbformat_minor": 4
}
