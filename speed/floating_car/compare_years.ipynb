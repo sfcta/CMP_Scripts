{
 "cells": [
  {
   "cell_type": "code",
   "execution_count": null,
   "metadata": {},
   "outputs": [],
   "source": [
    "import altair as alt\n",
    "import polars as pl"
   ]
  },
  {
   "cell_type": "code",
   "execution_count": null,
   "metadata": {},
   "outputs": [],
   "source": [
    "years = range(2021, 2026, 2)\n",
    "filepaths = {\n",
    "    y: rf\"\\\\Store\\gis\\Data\\Observed\\Streets\\Speed\\CMP-floating_car_run\\{y}\\floating_car-speed-summary_stats.csv\"\n",
    "    for y in years\n",
    "}\n",
    "dfs = {y: pl.read_csv(filepaths[y]) for y in years}"
   ]
  },
  {
   "cell_type": "code",
   "execution_count": null,
   "metadata": {},
   "outputs": [],
   "source": [
    "comparison_year = 2025\n",
    "base_year = 2023"
   ]
  },
  {
   "cell_type": "code",
   "execution_count": null,
   "metadata": {},
   "outputs": [],
   "source": [
    "wide_index_cols = [\"cmp_segid\", \"period\", \"direction\"]\n",
    "\n",
    "\n",
    "def make_wide_df(dfs, years, index_cols):\n",
    "    speed_cols = [\"avg_speed\", \"std_speed\", \"min_speed\", \"max_speed\"]\n",
    "    df = dfs[years[0]].select(index_cols)\n",
    "    for y in years:\n",
    "        df = df.join(\n",
    "            dfs[y].select(\n",
    "                *index_cols,\n",
    "                pl.col(speed_cols).name.suffix(f\"-{y}\"),\n",
    "                (pl.col(\"std_speed\") / pl.col(\"avg_speed\")).alias(f\"std/avg_speed-{y}\"),\n",
    "            ),\n",
    "            on=index_cols,\n",
    "        )\n",
    "    return df\n",
    "\n",
    "\n",
    "def make_long_df(dfs, years):\n",
    "    return pl.concat(\n",
    "        (dfs[y].with_columns(pl.lit(y).alias(\"year\")) for y in years)\n",
    "    ).with_columns((pl.col(\"std_speed\") / pl.col(\"avg_speed\")).alias(\"std/avg_speed\"))\n",
    "\n",
    "\n",
    "def calc_diff(wide_df, comparison_year, base_year):\n",
    "    diff_col = f\"avg_speed-diff-{comparison_year}-{base_year}\"\n",
    "    diff_pct_col = f\"avg_speed-diff-pct-{comparison_year}-{base_year}\"\n",
    "    return wide_df.with_columns(\n",
    "        (\n",
    "            pl.col(f\"avg_speed-{comparison_year}\") - pl.col(f\"avg_speed-{base_year}\")\n",
    "        ).alias(diff_col)\n",
    "    ).select(\n",
    "        *wide_index_cols,\n",
    "        diff_col,\n",
    "        (pl.col(diff_col) / pl.col(\"avg_speed-2021\") * 100).alias(diff_pct_col),\n",
    "    )"
   ]
  },
  {
   "cell_type": "code",
   "execution_count": null,
   "metadata": {},
   "outputs": [],
   "source": [
    "wide_df = make_wide_df(dfs, years, wide_index_cols)\n",
    "long_df = make_long_df(dfs, years)"
   ]
  },
  {
   "cell_type": "code",
   "execution_count": null,
   "metadata": {},
   "outputs": [],
   "source": [
    "alt.Chart(long_df).mark_bar().encode(\n",
    "    x=alt.X(\"avg_speed-binned:O\"), y=\"count()\", color=\"year:N\", xOffset=\"year:N\"\n",
    ").transform_bin(\"avg_speed-binned\", field=\"avg_speed\")"
   ]
  },
  {
   "cell_type": "code",
   "execution_count": null,
   "metadata": {},
   "outputs": [],
   "source": [
    "# there's an outlier in the 60s in 2021\n",
    "alt.Chart(long_df).mark_bar(opacity=0.3).encode(\n",
    "    x=alt.X(\"std_speed-binned:Q\"),\n",
    "    y=alt.Y(\"count()\").stack(None),\n",
    "    color=\"year:N\",\n",
    ").transform_bin(\"std_speed-binned\", field=\"std_speed\", bin=alt.BinParams(step=2))"
   ]
  },
  {
   "cell_type": "code",
   "execution_count": null,
   "metadata": {},
   "outputs": [],
   "source": [
    "# there's an outlier in the 60s in 2021\n",
    "alt.Chart(long_df.filter(pl.col(\"std_speed\") < 60)).mark_bar().encode(\n",
    "    x=alt.X(\"std_speed-binned:O\"), y=alt.Y(\"count()\"), color=\"year:N\", xOffset=\"year:N\"\n",
    ").transform_bin(\"std_speed-binned\", field=\"std_speed\", bin=alt.BinParams(step=2))"
   ]
  },
  {
   "cell_type": "code",
   "execution_count": null,
   "metadata": {},
   "outputs": [],
   "source": [
    "alt.Chart(long_df).mark_bar().encode(\n",
    "    x=alt.X(\"std/avg_speed-binned:O\"), y=\"count()\", color=\"year:N\", xOffset=\"year:N\"\n",
    ").transform_bin(\"std/avg_speed-binned\", field=\"std/avg_speed\")"
   ]
  },
  {
   "cell_type": "code",
   "execution_count": null,
   "metadata": {},
   "outputs": [],
   "source": [
    "diff_df = calc_diff(wide_df, 2025, 2023)\n",
    "\n",
    "alt.Chart(diff_df).mark_bar().encode(\n",
    "    x=alt.X(f\"avg_speed-diff-{comparison_year}-{base_year}\").bin(step=2.5),\n",
    "    y=\"count()\",\n",
    ") | alt.Chart(diff_df).mark_bar().encode(\n",
    "    x=alt.X(f\"avg_speed-diff-pct-{comparison_year}-{base_year}\").bin(step=20),\n",
    "    y=\"count()\",\n",
    ")"
   ]
  },
  {
   "cell_type": "code",
   "execution_count": null,
   "metadata": {},
   "outputs": [],
   "source": [
    "alt.Chart(wide_df).mark_circle().encode(\n",
    "    x=f\"avg_speed-{base_year}\",\n",
    "    y=f\"avg_speed-{comparison_year}\",\n",
    "    color=\"period\",\n",
    "    tooltip=[\n",
    "        \"cmp_segid\",\n",
    "        \"direction\",\n",
    "        \"period\",\n",
    "        f\"avg_speed-{base_year}\",\n",
    "        f\"avg_speed-{comparison_year}\",\n",
    "    ],\n",
    ").interactive()"
   ]
  },
  {
   "cell_type": "code",
   "execution_count": null,
   "metadata": {},
   "outputs": [],
   "source": [
    "wide_df.join(diff_df, on=wide_index_cols).sort(\n",
    "    f\"avg_speed-diff-pct-{comparison_year}-{base_year}\"\n",
    ")"
   ]
  },
  {
   "cell_type": "code",
   "execution_count": null,
   "metadata": {},
   "outputs": [],
   "source": [
    "wide_df.join(diff_df, on=wide_index_cols).sort(\n",
    "    f\"std/avg_speed-{comparison_year}\", descending=True\n",
    ").head(10)"
   ]
  }
 ],
 "metadata": {
  "kernelspec": {
   "display_name": ".venv",
   "language": "python",
   "name": "python3"
  },
  "language_info": {
   "codemirror_mode": {
    "name": "ipython",
    "version": 3
   },
   "file_extension": ".py",
   "mimetype": "text/x-python",
   "name": "python",
   "nbconvert_exporter": "python",
   "pygments_lexer": "ipython3",
   "version": "3.13.2"
  }
 },
 "nbformat": 4,
 "nbformat_minor": 4
}
