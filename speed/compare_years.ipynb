{
 "cells": [
  {
   "cell_type": "code",
   "execution_count": null,
   "metadata": {},
   "outputs": [],
   "source": [
    "from pathlib import Path\n",
    "\n",
    "import altair as alt\n",
    "import numpy as np\n",
    "import pandas as pd\n",
    "import polars as pl"
   ]
  },
  {
   "cell_type": "code",
   "execution_count": null,
   "metadata": {},
   "outputs": [],
   "source": [
    "years = range(2019, 2024, 2)\n",
    "color_ampm_domain = [\"AM\", \"PM\"]\n",
    "color_ampm_range = [\"#8cb7c9\", \"#d3d655\"]\n",
    "filepaths = {\n",
    "    # y: rf\"Q:\\CMP\\LOS Monitoring 2023\\Auto_LOS_and_Reliability\\CMP{y}_Auto_LOS_and_Reliability.csv\"\n",
    "    # for y in years\n",
    "    2019: r\"Q:\\CMP\\LOS Monitoring 2021\\Auto_LOS\\CMP2019_Auto_Speeds_Reliability.csv\",\n",
    "    2021: r\"Q:\\CMP\\LOS Monitoring 2023\\Auto_LOS_and_Reliability\\CMP2021_Auto_LOS_and_Reliability.csv\",\n",
    "    2023: r\"Q:\\CMP\\LOS Monitoring 2023\\Auto_LOS_and_Reliability\\CMP2023_Auto_LOS_and_Reliability.csv\",\n",
    "}\n",
    "figs_dir = Path(r\"Q:\\CMP\\reports\\CMPSF 2023\\Draft\\figures\\multimodal_performance\\speed\")\n",
    "# segment IDs 1-245 are the officially defined CMP segments\n",
    "cmp_segid_filter = pl.col(\"cmp_segid\") < 246"
   ]
  },
  {
   "cell_type": "code",
   "execution_count": null,
   "metadata": {},
   "outputs": [],
   "source": [
    "dfs = {\n",
    "    y: pl.read_csv(\n",
    "        filepaths[y],\n",
    "        columns=[\"cmp_segid\", \"year\", \"source\", \"period\", \"avg_speed\"],\n",
    "    )\n",
    "    for y in years\n",
    "}\n",
    "df_long = pl.concat(dfs.values()).filter(cmp_segid_filter)\n",
    "# wide: each year as a separate column to allow scatter chart plotting\n",
    "df_wide = df_long.pivot(\n",
    "    index=[\"cmp_segid\", \"period\"],  # ignore \"source\"\n",
    "    columns=\"year\",\n",
    "    values=\"avg_speed\",\n",
    "    aggregate_function=None,\n",
    "    separator=\"-\",\n",
    "    # the rename shouldn't be needed after a pivot but unclear why not working\n",
    ").rename(\n",
    "    {\n",
    "        \"period\": \"peak period\",\n",
    "        \"2019\": \"avg speed (2019)\",\n",
    "        \"2021\": \"avg speed (2021)\",\n",
    "        \"2023\": \"avg speed (2023)\",\n",
    "    }\n",
    ")"
   ]
  },
  {
   "cell_type": "code",
   "execution_count": null,
   "metadata": {},
   "outputs": [],
   "source": [
    "# TODO merge with df with CMP segment names, and show on tooltip instead of ID"
   ]
  },
  {
   "cell_type": "code",
   "execution_count": null,
   "metadata": {},
   "outputs": [],
   "source": [
    "# calculate max speed to set x/y limits of the chart\n",
    "max_speed_recorded = df_long.select(pl.max(\"avg_speed\")).item()\n",
    "max_speed_chart = np.ceil(max_speed_recorded / 10) * 10\n",
    "scale_domain = (0, max_speed_chart)  # x/y limits of the chart"
   ]
  },
  {
   "cell_type": "code",
   "execution_count": null,
   "metadata": {},
   "outputs": [],
   "source": [
    "def plot_scatter(df_wide, x_year, y_year):\n",
    "    x_col = f\"avg speed ({x_year})\"\n",
    "    y_col = f\"avg speed ({y_year})\"\n",
    "    chart_scatter = (\n",
    "        alt.Chart(df_wide)\n",
    "        .mark_circle(size=20)\n",
    "        .encode(\n",
    "            alt.X(f\"{x_col}:Q\")\n",
    "            .title(f\"average speed ({x_year})\")\n",
    "            .scale(domain=scale_domain),\n",
    "            alt.Y(f\"{y_col}:Q\")\n",
    "            .title(f\"average speed ({y_year})\")\n",
    "            .scale(domain=scale_domain),\n",
    "            color=alt.Color(\"peak period:N\").scale(\n",
    "                domain=color_ampm_domain, range=color_ampm_range\n",
    "            ),\n",
    "            tooltip=[\"cmp_segid:O\", \"peak period:N\", f\"{x_col}:Q\", f\"{y_col}:Q\"],\n",
    "        )\n",
    "    )\n",
    "    chart_diagonal = (\n",
    "        alt.Chart(pd.DataFrame({x_col: scale_domain, y_col: scale_domain}))\n",
    "        .mark_line(color=\"grey\", opacity=0.5)\n",
    "        .encode(\n",
    "            alt.X(x_col),\n",
    "            alt.Y(y_col),\n",
    "        )\n",
    "    )\n",
    "    chart = chart_scatter + chart_diagonal\n",
    "    chart.save(figs_dir / f\"speed_scatter-{x_year}-{y_year}.html\", scale_factor=2)\n",
    "    chart.save(figs_dir / f\"speed_scatter-{x_year}-{y_year}.png\", scale_factor=2)\n",
    "    return chart.interactive()"
   ]
  },
  {
   "cell_type": "code",
   "execution_count": null,
   "metadata": {},
   "outputs": [],
   "source": [
    "df_wide.write_csv(figs_dir / \"speed_scatter-multi_year.csv\")"
   ]
  },
  {
   "cell_type": "code",
   "execution_count": null,
   "metadata": {},
   "outputs": [],
   "source": [
    "plot_scatter(df_wide, 2019, 2023)"
   ]
  },
  {
   "cell_type": "code",
   "execution_count": null,
   "metadata": {},
   "outputs": [],
   "source": [
    "plot_scatter(df_wide, 2021, 2023)"
   ]
  }
 ],
 "metadata": {
  "kernelspec": {
   "display_name": "py3.11",
   "language": "python",
   "name": "python3"
  },
  "language_info": {
   "codemirror_mode": {
    "name": "ipython",
    "version": 3
   },
   "file_extension": ".py",
   "mimetype": "text/x-python",
   "name": "python",
   "nbconvert_exporter": "python",
   "pygments_lexer": "ipython3",
   "version": "3.11.3"
  },
  "orig_nbformat": 4
 },
 "nbformat": 4,
 "nbformat_minor": 2
}
