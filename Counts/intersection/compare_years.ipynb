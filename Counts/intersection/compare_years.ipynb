{
 "cells": [
  {
   "cell_type": "code",
   "execution_count": null,
   "metadata": {},
   "outputs": [],
   "source": [
    "from pathlib import Path\n",
    "\n",
    "import altair as alt\n",
    "import matplotlib.pyplot as plt\n",
    "import numpy as np\n",
    "import pandas as pd\n",
    "import polars as pl\n",
    "import seaborn as sns"
   ]
  },
  {
   "cell_type": "code",
   "execution_count": null,
   "metadata": {},
   "outputs": [],
   "source": [
    "years = range(2015, 2024, 2)\n",
    "color_ampm_domain = [\"a.m.\", \"p.m.\"]\n",
    "color_ampm_range = [\"#8cb7c9\", \"#d3d655\"]\n",
    "figs_dir = r\"Q:\\CMP\\reports\\CMPSF 2023\\Draft\\figures\\multimodal_performance\\cmp_counts\"\n",
    "csv_filepaths = {\n",
    "    year: rf\"Q:\\Data\\Observed\\Streets\\Counts\\CMP\\{year}\\intersection\\parsed-intersection-totals.csv\"\n",
    "    for year in years\n",
    "}\n",
    "dfs = {year: pd.read_csv(f, index_col=0) for year, f in csv_filepaths.items()}"
   ]
  },
  {
   "cell_type": "code",
   "execution_count": null,
   "metadata": {},
   "outputs": [],
   "source": [
    "def calc_diffs(dfs, comparison_year, base_year):\n",
    "    diff = dfs[comparison_year] - dfs[base_year]\n",
    "    pct_diff = diff / dfs[base_year] * 100\n",
    "    # the difference in terms of std devs\n",
    "    # (assume Poisson, so it's just sd = sqrt(value))\n",
    "    sd_diff = diff / np.sqrt(dfs[base_year])\n",
    "    return pct_diff, sd_diff\n",
    "\n",
    "\n",
    "def heatmap(df, title=None, ax=None, annot=True):\n",
    "    sns.heatmap(\n",
    "        df,\n",
    "        ax=ax,\n",
    "        annot=annot,\n",
    "        cmap=\"BrBG\",\n",
    "        fmt=\".0f\",\n",
    "        vmin=-100,\n",
    "        vmax=100,\n",
    "        center=0,\n",
    "    )\n",
    "    plt.title(title)\n",
    "    plt.show()\n",
    "\n",
    "\n",
    "def calc_diffs_and_plot(dfs, comparison_year, base_year):\n",
    "    pct_diff, sd_diff = calc_diffs(dfs, comparison_year, base_year)\n",
    "    heatmap(\n",
    "        pct_diff,\n",
    "        title=f\"% change from {base_year} to {comparison_year}\",\n",
    "    )\n",
    "    # Everything seems alright with this check, so commenting this out:\n",
    "    # heatmap(\n",
    "    #     pct_diff,\n",
    "    #     comparison_year,\n",
    "    #     base_year,\n",
    "    #     title=(\n",
    "    #         f\"% change (color) & how many stddev the change is (value)\"\n",
    "    #         \"\\nfrom {base_year} to {comparison_year}\"\n",
    "    #     ),\n",
    "    #     annot=sd_diff,\n",
    "    # )\n",
    "\n",
    "\n",
    "# def calc_diffs_and_plot(dfs, comparison_years, base_years):\n",
    "#     fig, axs = plt.subplots(1, len(comparison_years))\n",
    "#     for i, (comparison_year, base_year) in enumerate(\n",
    "#         zip(comparison_years, base_years)\n",
    "#     ):\n",
    "#         pct_diff, _ = calc_diffs(dfs, comparison_year, base_year)\n",
    "#         heatmap(\n",
    "#             pct_diff,\n",
    "#             title=f\"% change from {base_year} to {comparison_year}\",\n",
    "#             ax=axs[i],\n",
    "#         )\n",
    "#     plt.show()"
   ]
  },
  {
   "cell_type": "code",
   "execution_count": null,
   "metadata": {},
   "outputs": [],
   "source": [
    "# Check that the same locations were collected for all years\n",
    "df_shapes = [dfs[y].shape for y in years]\n",
    "df_locations = {y: dfs[y].index for y in years}\n",
    "assert(len(set(df_shapes)) == 1)\n",
    "assert(all(df_locations[years[0]].equals(df_locations[y]) for y in years))"
   ]
  },
  {
   "cell_type": "code",
   "execution_count": null,
   "metadata": {},
   "outputs": [],
   "source": [
    "calc_diffs_and_plot(dfs, 2019, 2017)"
   ]
  },
  {
   "cell_type": "code",
   "execution_count": null,
   "metadata": {},
   "outputs": [],
   "source": [
    "sums_wide = pd.DataFrame({y: dfs[y].sum() for y in years}).T\n",
    "sums_wide.index.name = \"year\"\n",
    "sums_wide"
   ]
  },
  {
   "cell_type": "code",
   "execution_count": null,
   "metadata": {},
   "outputs": [],
   "source": [
    "# Calculate percent change for body text in CMP report analysis\n",
    "\n",
    "\n",
    "def pct_change(sums_wide_df, comparison_year, base_year):\n",
    "    return (\n",
    "        (sums_wide_df.loc[comparison_year] / sums_wide_df.loc[base_year]) - 1\n",
    "    ) * 100\n",
    "\n",
    "\n",
    "pd.concat(\n",
    "    {\n",
    "        \"21to23\": pct_change(sums_wide, 2023, 2021),\n",
    "        \"19to23\": pct_change(sums_wide, 2023, 2019),\n",
    "        \"19to21\": pct_change(sums_wide, 2021, 2019),\n",
    "    },\n",
    "    axis=1,\n",
    ").T"
   ]
  },
  {
   "cell_type": "code",
   "execution_count": null,
   "metadata": {},
   "outputs": [],
   "source": [
    "sums_long = pl.from_pandas(sums_wide, include_index=True).melt(\n",
    "    id_vars=\"year\",\n",
    "    variable_name=\"mode_period\",\n",
    "    value_name=\"counts\",\n",
    ").with_columns(\n",
    "    pl.col(\"mode_period\").str.split(\"_\"),\n",
    "    # unnest not working right now\n",
    "    # .to_struct(fields=[\"mode\", \"period\"]).struct.unnest()\n",
    ").select(\n",
    "    pl.col(\"year\"),\n",
    "    pl.date(\"year\", 1, 1).alias(\"datetime\"),\n",
    "    pl.col(\"mode_period\").list.get(0).alias(\"mode\"),\n",
    "    pl.col(\"mode_period\")\n",
    "    .list.get(1)\n",
    "    .map_dict({\"am\": \"a.m.\", \"pm\": \"p.m.\"})\n",
    "    .alias(\"peak period\"),\n",
    "    pl.col(\"counts\"),\n",
    ")\n",
    "veh_long = sums_long.filter(pl.col(\"mode\") == \"veh\").to_pandas()"
   ]
  },
  {
   "cell_type": "code",
   "execution_count": null,
   "metadata": {},
   "outputs": [],
   "source": [
    "def save_mode_csv(mode_long_df, filepath):\n",
    "    mode_long_df.select(\"year\", \"peak period\", \"counts\").write_csv(filepath)\n",
    "\n",
    "\n",
    "def mode_chart(sums_long_df, figs_dir, mode_str):\n",
    "    mode_long_df = sums_long_df.filter(pl.col(\"mode\") == mode_str)\n",
    "    chart = (\n",
    "        alt.Chart(mode_long_df.to_pandas())  # to_pandas for DateTime\n",
    "        .mark_line(point=True)\n",
    "        .encode(\n",
    "            alt.X(\"datetime:T\").title(\"year\"),\n",
    "            y=\"counts:Q\",\n",
    "            color=alt.Color(\"peak period:N\").scale(\n",
    "                domain=color_ampm_domain, range=color_ampm_range\n",
    "            ),\n",
    "            tooltip=[\"year\", \"peak period\", \"counts\"],\n",
    "            text=\"counts\",\n",
    "        )\n",
    "    )\n",
    "    output_filepath_stem = Path(figs_dir) / f\"intersection-{mode_str}\"\n",
    "    save_mode_csv(mode_long_df, f\"{output_filepath_stem}.csv\")\n",
    "    chart.save(f\"{output_filepath_stem}.png\")\n",
    "    return chart"
   ]
  },
  {
   "cell_type": "code",
   "execution_count": null,
   "metadata": {},
   "outputs": [],
   "source": [
    "mode_chart(sums_long, figs_dir, \"veh\")"
   ]
  },
  {
   "cell_type": "code",
   "execution_count": null,
   "metadata": {},
   "outputs": [],
   "source": [
    "mode_chart(sums_long, figs_dir, \"bike\")"
   ]
  },
  {
   "cell_type": "code",
   "execution_count": null,
   "metadata": {},
   "outputs": [],
   "source": [
    "mode_chart(sums_long, figs_dir, \"ped\")"
   ]
  }
 ],
 "metadata": {
  "kernelspec": {
   "display_name": "Python 3 (ipykernel)",
   "language": "python",
   "name": "python3"
  },
  "language_info": {
   "codemirror_mode": {
    "name": "ipython",
    "version": 3
   },
   "file_extension": ".py",
   "mimetype": "text/x-python",
   "name": "python",
   "nbconvert_exporter": "python",
   "pygments_lexer": "ipython3",
   "version": "3.11.3"
  }
 },
 "nbformat": 4,
 "nbformat_minor": 4
}
