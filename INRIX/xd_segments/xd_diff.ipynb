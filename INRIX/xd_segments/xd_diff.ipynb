{
 "cells": [
  {
   "cell_type": "code",
   "execution_count": null,
   "metadata": {},
   "outputs": [],
   "source": [
    "%load_ext autoreload"
   ]
  },
  {
   "cell_type": "code",
   "execution_count": null,
   "metadata": {},
   "outputs": [],
   "source": [
    "import pandas as pd\n",
    "from os.path import join\n",
    "\n",
    "%autoreload\n",
    "from base import read_sf_xd_segments\n",
    "from xd_diff import read_replace_csv, xd_segments_added, xd_segments_removed\n"
   ]
  },
  {
   "cell_type": "code",
   "execution_count": null,
   "metadata": {},
   "outputs": [],
   "source": [
    "# variables you have to set (also set replace_diff_version 2 cells down)\n",
    "\n",
    "conflation_dir = r\"Q:\\CMP\\LOS Monitoring 2023\\Network_Conflation\\v2301\"\n",
    "current_version = \"2301\"\n",
    "previous_version = \"2202\"\n",
    "\n",
    "network_conflation_correspondences_filepath = join(\n",
    "    conflation_dir, \"CMP_Segment_INRIX_Links_Correspondence_2301_Manual.csv\"\n",
    ")"
   ]
  },
  {
   "cell_type": "code",
   "execution_count": null,
   "metadata": {},
   "outputs": [],
   "source": [
    "replace_df = read_replace_csv(current_version)\n",
    "replace_df.columns"
   ]
  },
  {
   "cell_type": "code",
   "execution_count": null,
   "metadata": {},
   "outputs": [],
   "source": [
    "# variables you have to set: replace_df does not necessary do a diff between\n",
    "# the current version vs the previous version; sometimes it compares the current\n",
    "# version to older versions, so you have to set `replace_diff_version`\n",
    "# manually here, based on the results of `replace_df.columns` above\n",
    "replace_diff_version = \"2201\""
   ]
  },
  {
   "cell_type": "code",
   "execution_count": null,
   "metadata": {},
   "outputs": [],
   "source": [
    "current_xd_segments_gdf = read_sf_xd_segments(current_version)\n",
    "previous_xd_segments_gdf = read_sf_xd_segments(previous_version)\n",
    "summary = {}"
   ]
  },
  {
   "cell_type": "code",
   "execution_count": null,
   "metadata": {},
   "outputs": [],
   "source": [
    "# INRIX XD segments added in this map release update:\n",
    "xd_segments_added_gdf = xd_segments_added(\n",
    "    current_xd_segments_gdf, current_version\n",
    ")\n",
    "summary[\"num_segments_added\"] = len(xd_segments_added_gdf)\n",
    "xd_segments_added_gdf"
   ]
  },
  {
   "cell_type": "code",
   "execution_count": null,
   "metadata": {},
   "outputs": [],
   "source": [
    "# INRIX XD segments removed in this map release update\n",
    "# (as compared to the previous map release)\n",
    "xd_segments_removed_gdf = xd_segments_removed(\n",
    "    previous_xd_segments_gdf, current_version\n",
    ")\n",
    "summary[\"num_segments_removed\"] = len(xd_segments_removed_gdf)\n",
    "xd_segments_removed_gdf"
   ]
  },
  {
   "cell_type": "code",
   "execution_count": null,
   "metadata": {},
   "outputs": [],
   "source": [
    "print(summary)"
   ]
  },
  {
   "cell_type": "code",
   "execution_count": null,
   "metadata": {},
   "outputs": [],
   "source": [
    "# all the below cells were copied from xd_diff_2201\n",
    "# and have not really been looked at yet"
   ]
  },
  {
   "cell_type": "code",
   "execution_count": null,
   "metadata": {},
   "outputs": [],
   "source": [
    "corr_df = pd.read_csv(network_conflation_correspondences_filepath)\n",
    "count_series = corr_df['INRIX_SegID'].value_counts()\n",
    "\n",
    "onetoone_series = count_series[count_series==1]\n",
    "onetoone_series = onetoone_series.reset_index()\n",
    "\n",
    "count_series = count_series[count_series>1]\n",
    "count_series = count_series.reset_index()\n",
    "corr_df2 = corr_df.drop_duplicates('INRIX_SegID')"
   ]
  },
  {
   "cell_type": "code",
   "execution_count": null,
   "metadata": {},
   "outputs": [],
   "source": [
    "replace_list = replace_df['XDId_23_1'].tolist()\n",
    "\n",
    "xd_rep_1 = onetoone_series.loc[onetoone_series['INRIX_SegID'].isin(replace_list), ]\n",
    "print(f'{current_version} XD Segments Replaced with one-to-one Corr - {len(xd_rep_1)}')\n",
    "\n",
    "xd_rep_2101 = corr_df2.loc[corr_df2['INRIX_SegID'].isin(replace_list), ]\n",
    "print(f'{current_version} XD Segments Replaced - {len(xd_rep_2101)}')\n",
    "replace_list = xd_rep_2101['INRIX_SegID'].tolist()\n",
    "xd_rep_2101 = corr_df.loc[corr_df['INRIX_SegID'].isin(replace_list), ]\n",
    "cmp_list = xd_rep_2101['CMP_SegID'].unique().tolist()\n",
    "xd_rep_2101 = corr_df.loc[corr_df['CMP_SegID'].isin(cmp_list), ]\n",
    "order_df = xd_rep_2101[['CMP_SegID','INRIX_SegID']]\n",
    "xd_rep_2101 = xd_rep_2101.merge(replace_df[['XDId_22_1', 'XDId_23_1']], how='left', \n",
    "                                left_on='INRIX_SegID', right_on='XDId_22_1')\n",
    "\n",
    "current_xd_segments_gdf['XDId_23_1'] = current_xd_segments_gdf['XDSegID'].astype(float)\n",
    "xd_rep_2101 = xd_rep_2101.merge(current_xd_segments_gdf[['XDId_23_1','RoadName','Miles']], how='left', on='XDId_23_1')\n",
    "xd_rep_2101 = order_df.merge(xd_rep_2101)\n",
    "xd_rep_2101.to_csv(join(conflation_dir, 'XD_2201_replaced.csv'), index=False)\n",
    "\n",
    "xd_rem_norep = xd_segments_removed_gdf.loc[~xd_segments_removed_gdf['XDSegID'].isin(replace_list), ]\n",
    "print(f'XD Segments Removed but not Replaced - {len(xd_rem_norep)}')\n",
    "previous_xd_segments_gdf['INRIX_SegID'] = previous_xd_segments_gdf['XDSegID'].astype(int)\n",
    "xd_rem_norep = xd_rem_norep.merge(previous_xd_segments_gdf[['XDSegID','RoadName','Miles']], how='left', on='XDSegID')\n",
    "xd_rem_norep.to_csv(join(conflation_dir, 'XD_2102_removed.csv'), index=False)"
   ]
  }
 ],
 "metadata": {
  "kernelspec": {
   "display_name": "geo",
   "language": "python",
   "name": "python3"
  },
  "language_info": {
   "codemirror_mode": {
    "name": "ipython",
    "version": 3
   },
   "file_extension": ".py",
   "mimetype": "text/x-python",
   "name": "python",
   "nbconvert_exporter": "python",
   "pygments_lexer": "ipython3",
   "version": "3.9.16"
  },
  "orig_nbformat": 4
 },
 "nbformat": 4,
 "nbformat_minor": 2
}
