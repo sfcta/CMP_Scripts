{
 "cells": [
  {
   "cell_type": "code",
   "execution_count": 1,
   "id": "historic-lewis",
   "metadata": {},
   "outputs": [],
   "source": [
    "# peak hour and peak period volumes for typical weekday"
   ]
  },
  {
   "cell_type": "code",
   "execution_count": 2,
   "id": "vertical-adams",
   "metadata": {},
   "outputs": [],
   "source": [
    "import sys, os, gzip, shutil\n",
    "import datetime as dt\n",
    "import pandas as pd\n",
    "import geopandas as gpd\n",
    "import numpy as np\n",
    "import holidays\n",
    "from shapely.geometry import Point, LineString\n",
    "import matplotlib.pyplot as plt\n",
    "%matplotlib inline"
   ]
  },
  {
   "cell_type": "code",
   "execution_count": 3,
   "id": "fleet-hotel",
   "metadata": {},
   "outputs": [],
   "source": [
    "PEMSDIR = r'Q:\\Data\\Observed\\Streets\\PeMS'\n",
    "OUTDIR = r'Q:\\Model Projects\\101_280\\data'\n",
    "data_type = 'station_meta'\n",
    "district = 4\n",
    "ca_holidays = holidays.UnitedStates(state='CA')"
   ]
  },
  {
   "cell_type": "code",
   "execution_count": 4,
   "id": "ranking-speed",
   "metadata": {},
   "outputs": [],
   "source": [
    "def get_dir(base, year=2020, data_type='station_hour', district=4):\n",
    "    if data_type in ['station_hour','station_5min','station_meta']:\n",
    "        return os.path.join(base,'D{}_Data_{}\\{}'.format(district,year,data_type))\n",
    "    elif data_type == 'processed_station_hour':\n",
    "        return os.path.join(base,'pems','pems_station_hour_{}.h5'.format(year))\n",
    "    \n",
    "def get_columns(data_type, num_cols):\n",
    "    if data_type == 'station_meta':\n",
    "        columns = ['station','route','dir','district','county','city','state_postmile','abs_postmile','latitude','longitude',\n",
    "                   'length','type','lanes','name','user_id_1','user_id_2','user_id_3','user_id_4']\n",
    "    if data_type == 'station_hour':\n",
    "        columns = ['timestamp', 'station', 'district', 'route', 'dir', 'lane_type', 'station_length',\n",
    "                   'samples', 'obs_pct', 'total_flow', 'avg_occupancy', 'avg_speed',\n",
    "                   'delay_35','delay_40','delay_45','delay_50','delay_55','delay_60']\n",
    "        for i in range(0, int((num_cols - 18) / 3)):\n",
    "            columns += [f'lane_{i}_flow',\n",
    "                        f'lane_{i}_avg_occ',\n",
    "                        f'lane_{i}_avg_speed',\n",
    "                       ]\n",
    "    if data_type == 'station_5min':\n",
    "        columns = ['timestamp', 'station', 'district', 'route', 'dir', 'lane_type', 'station_length',\n",
    "                   'samples', 'obs_pct', 'total_flow', 'avg_occupancy', 'avg_speed']\n",
    "        for i in range(0, int((num_cols - 12) / 5)):\n",
    "            columns += [f'lane_{i}_samples',\n",
    "                        f'lane_{i}_flow',\n",
    "                        f'lane_{i}_avg_occ',\n",
    "                        f'lane_{i}_avg_speed',\n",
    "                        f'lane_{i}_avg_obs',\n",
    "                       ]\n",
    "    return columns"
   ]
  },
  {
   "cell_type": "code",
   "execution_count": 5,
   "id": "extended-demand",
   "metadata": {},
   "outputs": [],
   "source": [
    "locations = pd.read_csv(os.path.join(OUTDIR,'stable_locations.csv'), infer_datetime_format=True, parse_dates=['start_date','end_date'],)"
   ]
  },
  {
   "cell_type": "code",
   "execution_count": 6,
   "id": "administrative-keyboard",
   "metadata": {},
   "outputs": [],
   "source": [
    "locations['start_date'] = locations['start_date'].map(lambda x: x.date())\n",
    "locations['end_date'] = locations['end_date'].map(lambda x: x.date())"
   ]
  },
  {
   "cell_type": "code",
   "execution_count": 7,
   "id": "international-scholarship",
   "metadata": {
    "scrolled": true
   },
   "outputs": [
    {
     "name": "stdout",
     "output_type": "stream",
     "text": [
      "Projects\\101_280\\data\\pems\\pems_station_hour_2005.h5\n",
      "removing stations with unknown location before: 2359008, after: 96048\n",
      "mismatched route/dir 0\n",
      "Projects\\101_280\\data\\pems\\pems_station_hour_2006.h5\n",
      "removing stations with unknown location before: 2095872, after: 70344\n",
      "mismatched route/dir 0\n",
      "Projects\\101_280\\data\\pems\\pems_station_hour_2007.h5\n",
      "removing stations with unknown location before: 2273688, after: 76632\n",
      "mismatched route/dir 0\n",
      "Projects\\101_280\\data\\pems\\pems_station_hour_2008.h5\n",
      "removing stations with unknown location before: 2250168, after: 74688\n",
      "mismatched route/dir 0\n",
      "Projects\\101_280\\data\\pems\\pems_station_hour_2009.h5\n",
      "removing stations with unknown location before: 2249904, after: 72000\n",
      "mismatched route/dir 0\n",
      "Projects\\101_280\\data\\pems\\pems_station_hour_2010.h5\n",
      "removing stations with unknown location before: 3283080, after: 84720\n",
      "mismatched route/dir 0\n",
      "Projects\\101_280\\data\\pems\\pems_station_hour_2011.h5\n",
      "removing stations with unknown location before: 3769584, after: 96048\n",
      "mismatched route/dir 0\n",
      "Projects\\101_280\\data\\pems\\pems_station_hour_2012.h5\n",
      "removing stations with unknown location before: 3692424, after: 90288\n",
      "mismatched route/dir 0\n",
      "Projects\\101_280\\data\\pems\\pems_station_hour_2013.h5\n",
      "removing stations with unknown location before: 4723056, after: 119928\n",
      "mismatched route/dir 0\n",
      "Projects\\101_280\\data\\pems\\pems_station_hour_2014.h5\n",
      "removing stations with unknown location before: 5332735, after: 133649\n",
      "mismatched route/dir 0\n",
      "Projects\\101_280\\data\\pems\\pems_station_hour_2015.h5\n",
      "removing stations with unknown location before: 5851701, after: 129480\n",
      "mismatched route/dir 0\n",
      "Projects\\101_280\\data\\pems\\pems_station_hour_2016.h5\n",
      "removing stations with unknown location before: 6424499, after: 96600\n",
      "mismatched route/dir 0\n",
      "Projects\\101_280\\data\\pems\\pems_station_hour_2017.h5\n",
      "removing stations with unknown location before: 7026360, after: 101088\n",
      "mismatched route/dir 0\n",
      "Projects\\101_280\\data\\pems\\pems_station_hour_2018.h5\n",
      "removing stations with unknown location before: 7219152, after: 104832\n",
      "mismatched route/dir 0\n",
      "Projects\\101_280\\data\\pems\\pems_station_hour_2019.h5\n",
      "removing stations with unknown location before: 7187175, after: 106752\n",
      "mismatched route/dir 0\n",
      "Projects\\101_280\\data\\pems\\pems_station_hour_2020.h5\n",
      "removing stations with unknown location before: 7040976, after: 107664\n",
      "mismatched route/dir 0\n",
      "Projects\\101_280\\data\\pems\\pems_station_hour_2021.h5\n",
      "removing stations with unknown location before: 1230552, after: 13392\n",
      "mismatched route/dir 0\n"
     ]
    }
   ],
   "source": [
    "hour_00, hour_20, hour_50 = [], [], []\n",
    "data_type = 'processed_station_hour'\n",
    "\n",
    "typical_weekday = True\n",
    "sf_only = True\n",
    "continuous_only = False\n",
    "\n",
    "if sf_only:\n",
    "    locations = locations.loc[locations['county'].eq(75)]\n",
    "for year in np.arange(2005,2022):\n",
    "    f = r'Q:\\Model Projects\\101_280\\data\\pems\\pems_station_hour_{}.h5'.format(year)\n",
    "    print(f.split()[1])\n",
    "    df = pd.read_hdf(f)\n",
    "    \n",
    "    groupby_cols = ['route','dir','type','station','county','city','start_name','end_name','is_complete','year','hour']\n",
    "    agg_args = {'total_flow':['mean','count','std']}\n",
    "    \n",
    "    if typical_weekday:\n",
    "        df = df.loc[df['month'].isin([3,4,5,9,10,11]) & df['day_of_week'].isin([1,2,3]) & ~df['is_holiday']]\n",
    "    else:\n",
    "        groupby_cols = groupby_cols[:-1] + ['month','day_of_week','is_holiday'] + groupby_cols[-1:]\n",
    "        \n",
    "    before = len(df)\n",
    "    df = pd.merge(locations, df, on='station', suffixes=['','_obs'])\n",
    "    df = df.loc[df['date'].between(df['start_date'], df['end_date'])]\n",
    "    after = len(df)\n",
    "    print('removing stations with unknown location before: {}, after: {}'.format(before, after))\n",
    "    \n",
    "    print('mismatched route/dir {}'.format(len(df.loc[df['route'].ne(df['route_obs']) | df['dir'].ne(df['dir_obs'])])))\n",
    "    df00 = df.loc[df['obs_pct'].ge(0)].groupby(groupby_cols).agg(agg_args)\n",
    "    df20 = df.loc[df['obs_pct'].ge(20)].groupby(groupby_cols).agg(agg_args)\n",
    "    df50 = df.loc[df['obs_pct'].ge(50)].groupby(groupby_cols).agg(agg_args)\n",
    "    hour_00.append(df00)\n",
    "    hour_20.append(df20)\n",
    "    hour_50.append(df50)"
   ]
  },
  {
   "cell_type": "code",
   "execution_count": 8,
   "id": "alive-welding",
   "metadata": {},
   "outputs": [],
   "source": [
    "hour_00 = pd.concat(hour_00)\n",
    "hour_00.columns=['flow','obs','stdev']\n",
    "hour_00.reset_index(inplace=True)\n",
    "hour_20 = pd.concat(hour_20)\n",
    "hour_20.columns=['flow','obs','stdev']\n",
    "hour_20.reset_index(inplace=True)\n",
    "hour_50 = pd.concat(hour_50)\n",
    "hour_50.columns=['flow','obs','stdev']\n",
    "hour_50.reset_index(inplace=True)"
   ]
  },
  {
   "cell_type": "code",
   "execution_count": 9,
   "id": "palestinian-artist",
   "metadata": {},
   "outputs": [],
   "source": [
    "loc_part = 'sf' if sf_only else 'd4'\n",
    "days_part = 'typwkdy' if typical_weekday else 'month'\n",
    "fname = '{}_station_{}_hour_obs{:02d}.csv'\n",
    "\n",
    "hour_00.to_csv(os.path.join(OUTDIR,'pems',fname.format(loc_part, days_part, 0)))\n",
    "hour_20.to_csv(os.path.join(OUTDIR,'pems',fname.format(loc_part, days_part, 20)))\n",
    "hour_50.to_csv(os.path.join(OUTDIR,'pems',fname.format(loc_part, days_part, 50)))"
   ]
  }
 ],
 "metadata": {
  "kernelspec": {
   "display_name": "Python 3",
   "language": "python",
   "name": "python3"
  },
  "language_info": {
   "codemirror_mode": {
    "name": "ipython",
    "version": 3
   },
   "file_extension": ".py",
   "mimetype": "text/x-python",
   "name": "python",
   "nbconvert_exporter": "python",
   "pygments_lexer": "ipython3",
   "version": "3.7.6"
  }
 },
 "nbformat": 4,
 "nbformat_minor": 5
}
