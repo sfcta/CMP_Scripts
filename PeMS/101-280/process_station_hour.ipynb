{
 "cells": [
  {
   "cell_type": "code",
   "execution_count": 1,
   "id": "historic-lewis",
   "metadata": {},
   "outputs": [],
   "source": [
    "# peak hour and peak period volumes for typical weekday"
   ]
  },
  {
   "cell_type": "code",
   "execution_count": 2,
   "id": "vertical-adams",
   "metadata": {},
   "outputs": [],
   "source": [
    "import sys, os, gzip, shutil\n",
    "import datetime as dt\n",
    "import pandas as pd\n",
    "import geopandas as gpd\n",
    "import numpy as np\n",
    "import holidays\n",
    "from shapely.geometry import Point, LineString\n",
    "import matplotlib.pyplot as plt\n",
    "%matplotlib inline"
   ]
  },
  {
   "cell_type": "code",
   "execution_count": 3,
   "id": "fleet-hotel",
   "metadata": {},
   "outputs": [],
   "source": [
    "PEMSDIR = r'Q:\\Data\\Observed\\Streets\\PeMS'\n",
    "OUTDIR = r'Q:\\Model Projects\\101_280\\data'\n",
    "data_type = 'station_meta'\n",
    "district = 4\n",
    "ca_holidays = holidays.UnitedStates(state='CA')"
   ]
  },
  {
   "cell_type": "code",
   "execution_count": 4,
   "id": "ranking-speed",
   "metadata": {},
   "outputs": [],
   "source": [
    "def get_dir(base, year=2020, data_type='station_hour', district=4):\n",
    "    if data_type in ['station_hour','station_5min','station_meta']:\n",
    "        return os.path.join(PEMSDIR,'D{}_Data_{}\\{}'.format(district,year,data_type))\n",
    "def get_columns(data_type, num_cols):\n",
    "    if data_type == 'station_meta':\n",
    "        columns = ['station','route','dir','district','county','city','state_postmile','abs_postmile','latitude','longitude',\n",
    "                   'length','type','lanes','name','user_id_1','user_id_2','user_id_3','user_id_4']\n",
    "    if data_type == 'station_hour':\n",
    "        columns = ['timestamp', 'station', 'district', 'route', 'dir', 'lane_type', 'station_length',\n",
    "                   'samples', 'obs_pct', 'total_flow', 'avg_occupancy', 'avg_speed',\n",
    "                   'delay_35','delay_40','delay_45','delay_50','delay_55','delay_60']\n",
    "        for i in range(0, int((num_cols - 18) / 3)):\n",
    "            columns += [f'lane_{i}_flow',\n",
    "                        f'lane_{i}_avg_occ',\n",
    "                        f'lane_{i}_avg_speed',\n",
    "                       ]\n",
    "    if data_type == 'station_5min':\n",
    "        columns = ['timestamp', 'station', 'district', 'route', 'dir', 'lane_type', 'station_length',\n",
    "                   'samples', 'obs_pct', 'total_flow', 'avg_occupancy', 'avg_speed']\n",
    "        for i in range(0, int((num_cols - 12) / 5)):\n",
    "            columns += [f'lane_{i}_samples',\n",
    "                        f'lane_{i}_flow',\n",
    "                        f'lane_{i}_avg_occ',\n",
    "                        f'lane_{i}_avg_speed',\n",
    "                        f'lane_{i}_avg_obs',\n",
    "                       ]\n",
    "    return columns"
   ]
  },
  {
   "cell_type": "code",
   "execution_count": 5,
   "id": "international-scholarship",
   "metadata": {
    "scrolled": true
   },
   "outputs": [
    {
     "name": "stdout",
     "output_type": "stream",
     "text": [
      "d04_text_station_hour_2021_01.txt.gz\n",
      "d04_text_station_hour_2021_02.txt.gz\n",
      "d04_text_station_hour_2021_03.txt.gz\n"
     ]
    },
    {
     "name": "stderr",
     "output_type": "stream",
     "text": [
      "C:\\anaconda3\\lib\\site-packages\\pandas\\core\\generic.py:2449: PerformanceWarning: \n",
      "your performance may suffer as PyTables will pickle object types that it cannot\n",
      "map directly to c-types [inferred_type->mixed,key->block4_values] [items->Index(['dir', 'lane_type', 'date'], dtype='object')]\n",
      "\n",
      "  encoding=encoding,\n"
     ]
    }
   ],
   "source": [
    "unzip = False\n",
    "source = 'gz' # or 'zip','text','txt'\n",
    "save_h5 = True\n",
    "data_type = 'station_hour'\n",
    "sep = ','\n",
    "\n",
    "for year in np.arange(2021,2022):\n",
    "    year_dfs = []\n",
    "    path = get_dir(PEMSDIR, year, data_type, district)\n",
    "    outpath = os.path.join(OUTDIR,'pems')\n",
    "    contents = os.listdir(path)\n",
    "    gzs = filter(lambda x: os.path.splitext(x)[1] == '.gz', contents)\n",
    "    txts = filter(lambda x: os.path.splitext(x)[1] == '.txt', contents)\n",
    "\n",
    "    if source == 'gz':\n",
    "        files = gzs\n",
    "        compression = 'gzip'\n",
    "    else:\n",
    "        files = txts\n",
    "        compression = None\n",
    "\n",
    "    header = 0 if data_type == 'station_meta' else None\n",
    "\n",
    "    for f in files:\n",
    "        print(f)\n",
    "        try:\n",
    "            df = pd.read_csv(os.path.join(path, f), \n",
    "                             sep=sep,\n",
    "                             header=header, \n",
    "                             index_col=False, \n",
    "                             parse_dates=[0], \n",
    "                             infer_datetime_format=True,\n",
    "                             compression=compression)\n",
    "        except Exception as e:\n",
    "            print(e)\n",
    "            print('trying no quotechar...')\n",
    "            try:\n",
    "                df = pd.read_csv(os.path.join(path, f), \n",
    "                                 sep=sep,\n",
    "                                 header=header, \n",
    "                                 index_col=False, \n",
    "                                 parse_dates=[0], \n",
    "                                 infer_datetime_format=True,\n",
    "                                 quotechar=None,\n",
    "                                 compression=compression)\n",
    "\n",
    "            except Exception as e2:\n",
    "                print(e2)\n",
    "                continue\n",
    "\n",
    "        try:\n",
    "            df.columns = get_columns(data_type, len(df.columns))\n",
    "        except Exception as e3:\n",
    "            print(e3)\n",
    "            continue\n",
    "        if data_type == 'station_meta':\n",
    "            y, m, d = f.replace('d{:02d}_text_meta_'.format(district),'').replace('.txt','').split('_')\n",
    "            ts = dt.datetime(int(y), int(m), int(d))\n",
    "            date = ts.date()\n",
    "            df['timestamp'] = ts\n",
    "            df['date'] = date\n",
    "            df['year'] = y\n",
    "            df['month'] = m\n",
    "            df['day'] = d\n",
    "            meta.append(df)\n",
    "        elif data_type == 'station_hour':\n",
    "            df['date'] = df['timestamp'].map(lambda x: x.date())\n",
    "            df['year'] = df['timestamp'].map(lambda x: x.year)\n",
    "            df['month'] = df['timestamp'].map(lambda x: x.month)\n",
    "            df['day'] = df['timestamp'].map(lambda x: x.day)\n",
    "            df['hour'] = df['timestamp'].map(lambda x: x.hour)\n",
    "            df['day_of_week'] = df['timestamp'].map(lambda x: x.weekday())\n",
    "            df['is_holiday'] = df['timestamp'].map(lambda x: x.date() in ca_holidays)\n",
    "            year_dfs.append(df)\n",
    "            \n",
    "    y = pd.concat(year_dfs)\n",
    "    try:\n",
    "        y.to_hdf(os.path.join(OUTDIR,'pems','pems_station_hour_{}.h5'.format(year)), 'data')\n",
    "    except Exception as e:\n",
    "        print(e)"
   ]
  }
 ],
 "metadata": {
  "kernelspec": {
   "display_name": "Python 3",
   "language": "python",
   "name": "python3"
  },
  "language_info": {
   "codemirror_mode": {
    "name": "ipython",
    "version": 3
   },
   "file_extension": ".py",
   "mimetype": "text/x-python",
   "name": "python",
   "nbconvert_exporter": "python",
   "pygments_lexer": "ipython3",
   "version": "3.6.5"
  }
 },
 "nbformat": 4,
 "nbformat_minor": 5
}
