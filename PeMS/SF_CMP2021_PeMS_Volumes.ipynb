{
 "cells": [
  {
   "cell_type": "code",
   "execution_count": 1,
   "id": "specified-dependence",
   "metadata": {
    "ExecuteTime": {
     "end_time": "2021-10-18T20:52:12.914151Z",
     "start_time": "2021-10-18T20:52:12.098141Z"
    }
   },
   "outputs": [],
   "source": [
    "import sys, os, gzip, shutil\n",
    "import datetime as dt\n",
    "import pandas as pd\n",
    "import numpy as np\n",
    "import holidays"
   ]
  },
  {
   "cell_type": "code",
   "execution_count": 2,
   "id": "experimental-pakistan",
   "metadata": {
    "ExecuteTime": {
     "end_time": "2021-10-18T20:52:12.930151Z",
     "start_time": "2021-10-18T20:52:12.916151Z"
    }
   },
   "outputs": [],
   "source": [
    "PEMSDIR = r'C:\\Users\\xzh263\\Dropbox (KTC)\\SFCTA CMP\\2021 CMP\\PeMS'\n",
    "OUTDIR = PEMSDIR\n",
    "\n",
    "data_type = 'station_meta'\n",
    "district = 4\n",
    "ca_holidays = holidays.UnitedStates(state='CA')"
   ]
  },
  {
   "cell_type": "code",
   "execution_count": 3,
   "id": "sonic-tennis",
   "metadata": {
    "ExecuteTime": {
     "end_time": "2021-10-18T20:52:12.945152Z",
     "start_time": "2021-10-18T20:52:12.932152Z"
    }
   },
   "outputs": [],
   "source": [
    "obs_pct_min = 20  # Minimum observation percentage requirement\n",
    "sample_pct_min = 50 # Minimum sample percentage requirement"
   ]
  },
  {
   "cell_type": "code",
   "execution_count": 4,
   "id": "strange-department",
   "metadata": {
    "ExecuteTime": {
     "end_time": "2021-10-18T20:52:12.960152Z",
     "start_time": "2021-10-18T20:52:12.947152Z"
    }
   },
   "outputs": [],
   "source": [
    "monitor_loc = pd.read_csv(os.path.join(OUTDIR,'pems_monitoring_locations.csv'))"
   ]
  },
  {
   "cell_type": "code",
   "execution_count": 5,
   "id": "equal-travel",
   "metadata": {
    "ExecuteTime": {
     "end_time": "2021-10-18T20:52:12.976152Z",
     "start_time": "2021-10-18T20:52:12.962152Z"
    }
   },
   "outputs": [],
   "source": [
    "def get_dir(base, year=2021, data_type='station_hour', district=4):\n",
    "    if data_type in ['station_hour','station_5min','station_meta']:\n",
    "        return os.path.join(PEMSDIR,'D{}_Data_{}\\{}'.format(district,year,data_type))\n",
    "def get_columns(data_type, num_cols):\n",
    "    if data_type == 'station_meta':\n",
    "        columns = ['station','route','dir','district','county','city','state_postmile','abs_postmile','latitude','longitude',\n",
    "                   'length','type','lanes','name','user_id_1','user_id_2','user_id_3','user_id_4']\n",
    "    if data_type == 'station_hour':\n",
    "        columns = ['timestamp', 'station', 'district', 'route', 'dir', 'lane_type', 'station_length',\n",
    "                   'samples', 'obs_pct', 'total_flow', 'avg_occupancy', 'avg_speed',\n",
    "                   'delay_35','delay_40','delay_45','delay_50','delay_55','delay_60']\n",
    "        for i in range(0, int((num_cols - 18) / 3)):\n",
    "            columns += [f'lane_{i}_flow',\n",
    "                        f'lane_{i}_avg_occ',\n",
    "                        f'lane_{i}_avg_speed',\n",
    "                       ]\n",
    "    if data_type == 'station_5min':\n",
    "        columns = ['timestamp', 'station', 'district', 'route', 'dir', 'lane_type', 'station_length',\n",
    "                   'samples', 'obs_pct', 'total_flow', 'avg_occupancy', 'avg_speed']\n",
    "        for i in range(0, int((num_cols - 12) / 5)):\n",
    "            columns += [f'lane_{i}_samples',\n",
    "                        f'lane_{i}_flow',\n",
    "                        f'lane_{i}_avg_occ',\n",
    "                        f'lane_{i}_avg_speed',\n",
    "                        f'lane_{i}_avg_obs',\n",
    "                       ]\n",
    "    return columns"
   ]
  },
  {
   "cell_type": "code",
   "execution_count": 6,
   "id": "removable-venezuela",
   "metadata": {
    "ExecuteTime": {
     "end_time": "2021-10-18T20:56:25.031204Z",
     "start_time": "2021-10-18T20:52:12.978152Z"
    },
    "scrolled": true
   },
   "outputs": [
    {
     "name": "stdout",
     "output_type": "stream",
     "text": [
      "d04_text_station_hour_2021_01.txt.gz\n",
      "d04_text_station_hour_2021_02.txt.gz\n",
      "d04_text_station_hour_2021_03.txt.gz\n"
     ]
    },
    {
     "name": "stderr",
     "output_type": "stream",
     "text": [
      "C:\\Users\\xzh263\\AppData\\Local\\Continuum\\anaconda3\\lib\\site-packages\\pandas\\core\\generic.py:2505: PerformanceWarning: \n",
      "your performance may suffer as PyTables will pickle object types that it cannot\n",
      "map directly to c-types [inferred_type->mixed,key->block4_values] [items->Index(['dir', 'lane_type', 'date'], dtype='object')]\n",
      "\n",
      "  encoding=encoding,\n"
     ]
    }
   ],
   "source": [
    "unzip = False\n",
    "source = 'gz' # or 'zip','text','txt'\n",
    "save_h5 = True\n",
    "data_type = 'station_hour'\n",
    "sep = ','\n",
    "\n",
    "for year in np.arange(2021,2022):\n",
    "    year_dfs = []\n",
    "    path = get_dir(PEMSDIR, year, data_type, district)\n",
    "    outpath = os.path.join(OUTDIR,'pems')\n",
    "    contents = os.listdir(path)\n",
    "    gzs = filter(lambda x: os.path.splitext(x)[1] == '.gz', contents)\n",
    "    txts = filter(lambda x: os.path.splitext(x)[1] == '.txt', contents)\n",
    "\n",
    "    if source == 'gz':\n",
    "        files = gzs\n",
    "        compression = 'gzip'\n",
    "    else:\n",
    "        files = txts\n",
    "        compression = None\n",
    "\n",
    "    header = 0 if data_type == 'station_meta' else None\n",
    "\n",
    "    for f in files:\n",
    "        print(f)\n",
    "        try:\n",
    "            df = pd.read_csv(os.path.join(path, f), \n",
    "                             sep=sep,\n",
    "                             header=header, \n",
    "                             index_col=False, \n",
    "                             parse_dates=[0], \n",
    "                             infer_datetime_format=True,\n",
    "                             compression=compression)\n",
    "        except Exception as e:\n",
    "            print(e)\n",
    "            print('trying no quotechar...')\n",
    "            try:\n",
    "                df = pd.read_csv(os.path.join(path, f), \n",
    "                                 sep=sep,\n",
    "                                 header=header, \n",
    "                                 index_col=False, \n",
    "                                 parse_dates=[0], \n",
    "                                 infer_datetime_format=True,\n",
    "                                 quotechar=None,\n",
    "                                 compression=compression)\n",
    "\n",
    "            except Exception as e2:\n",
    "                print(e2)\n",
    "                continue\n",
    "\n",
    "        try:\n",
    "            df.columns = get_columns(data_type, len(df.columns))\n",
    "        except Exception as e3:\n",
    "            print(e3)\n",
    "            continue\n",
    "        if data_type == 'station_meta':\n",
    "            y, m, d = f.replace('d{:02d}_text_meta_'.format(district),'').replace('.txt','').split('_')\n",
    "            ts = dt.datetime(int(y), int(m), int(d))\n",
    "            date = ts.date()\n",
    "            df['timestamp'] = ts\n",
    "            df['date'] = date\n",
    "            df['year'] = y\n",
    "            df['month'] = m\n",
    "            df['day'] = d\n",
    "            meta.append(df)\n",
    "        elif data_type == 'station_hour':\n",
    "            df['date'] = df['timestamp'].map(lambda x: x.date())\n",
    "            df['year'] = df['timestamp'].map(lambda x: x.year)\n",
    "            df['month'] = df['timestamp'].map(lambda x: x.month)\n",
    "            df['day'] = df['timestamp'].map(lambda x: x.day)\n",
    "            df['hour'] = df['timestamp'].map(lambda x: x.hour)\n",
    "            df['day_of_week'] = df['timestamp'].map(lambda x: x.weekday())\n",
    "            df['is_holiday'] = df['timestamp'].map(lambda x: x.date() in ca_holidays)\n",
    "            year_dfs.append(df)\n",
    "            \n",
    "    y = pd.concat(year_dfs)\n",
    "    try:\n",
    "        y.to_hdf(os.path.join(OUTDIR,'pems_station_hour_{}.h5'.format(year)), 'data')\n",
    "    except Exception as e:\n",
    "        print(e)"
   ]
  },
  {
   "cell_type": "code",
   "execution_count": 7,
   "id": "greatest-english",
   "metadata": {
    "ExecuteTime": {
     "end_time": "2021-10-18T20:56:25.063206Z",
     "start_time": "2021-10-18T20:56:25.033205Z"
    }
   },
   "outputs": [],
   "source": [
    "stations = pd.read_csv(os.path.join(OUTDIR,'D4_Data_2021\\station_meta\\d04_text_meta_2021_03_19.txt'), delimiter = \"\\t\")"
   ]
  },
  {
   "cell_type": "code",
   "execution_count": 8,
   "id": "distant-complex",
   "metadata": {
    "ExecuteTime": {
     "end_time": "2021-10-18T20:56:25.079205Z",
     "start_time": "2021-10-18T20:56:25.065207Z"
    }
   },
   "outputs": [],
   "source": [
    "#PeMS stations in SF\n",
    "sf_stations = stations[stations['County']==75]"
   ]
  },
  {
   "cell_type": "code",
   "execution_count": 9,
   "id": "knowing-roulette",
   "metadata": {
    "ExecuteTime": {
     "end_time": "2021-10-18T20:56:28.560246Z",
     "start_time": "2021-10-18T20:56:25.081205Z"
    }
   },
   "outputs": [],
   "source": [
    "sf_counts = y[y['station'].isin(sf_stations['ID'])]"
   ]
  },
  {
   "cell_type": "code",
   "execution_count": 10,
   "id": "prescription-allergy",
   "metadata": {
    "ExecuteTime": {
     "end_time": "2021-10-18T20:56:28.607247Z",
     "start_time": "2021-10-18T20:56:28.562252Z"
    }
   },
   "outputs": [
    {
     "name": "stderr",
     "output_type": "stream",
     "text": [
      "C:\\Users\\xzh263\\AppData\\Local\\Continuum\\anaconda3\\lib\\site-packages\\ipykernel_launcher.py:1: SettingWithCopyWarning: \n",
      "A value is trying to be set on a copy of a slice from a DataFrame.\n",
      "Try using .loc[row_indexer,col_indexer] = value instead\n",
      "\n",
      "See the caveats in the documentation: https://pandas.pydata.org/pandas-docs/stable/user_guide/indexing.html#returning-a-view-versus-a-copy\n",
      "  \"\"\"Entry point for launching an IPython kernel.\n"
     ]
    }
   ],
   "source": [
    "sf_counts['daytype'] = np.where(sf_counts['day_of_week']<=4, 'Weekdays', np.where(sf_counts['day_of_week']==5, 'Saturday', 'Sunday'))"
   ]
  },
  {
   "cell_type": "code",
   "execution_count": 11,
   "id": "acknowledged-contact",
   "metadata": {
    "ExecuteTime": {
     "end_time": "2021-10-18T20:56:28.778249Z",
     "start_time": "2021-10-18T20:56:28.609249Z"
    }
   },
   "outputs": [],
   "source": [
    "sf_counts = sf_counts.merge(sf_stations[['ID', 'Lanes']], left_on='station', right_on='ID', how='left')\n",
    "sf_counts['sample_pct'] = 100 * sf_counts['samples'] / 60 / 2 / sf_counts['Lanes'] "
   ]
  },
  {
   "cell_type": "code",
   "execution_count": 12,
   "id": "miniature-organ",
   "metadata": {
    "ExecuteTime": {
     "end_time": "2021-10-18T20:56:28.947251Z",
     "start_time": "2021-10-18T20:56:28.780251Z"
    }
   },
   "outputs": [],
   "source": [
    "groupby_cols = ['route','dir','lane_type','station', 'daytype', 'hour']\n",
    "agg_args = {'total_flow':['mean','count','std']}\n",
    "\n",
    "df = sf_counts.loc[(sf_counts['day_of_week']!=0) & (sf_counts['day_of_week']!=4) & ~sf_counts['is_holiday']]\n",
    "\n",
    "df_agg = df.loc[(df['obs_pct']>=obs_pct_min) & (df['sample_pct']>=sample_pct_min)].groupby(groupby_cols).agg(agg_args).reset_index()\n",
    "df_agg.columns = groupby_cols + ['flow_avg', 'flow_count', 'flow_std']"
   ]
  },
  {
   "cell_type": "code",
   "execution_count": 13,
   "id": "varied-master",
   "metadata": {
    "ExecuteTime": {
     "end_time": "2021-10-18T20:56:28.963251Z",
     "start_time": "2021-10-18T20:56:28.949252Z"
    }
   },
   "outputs": [],
   "source": [
    "df_agg = df_agg.merge(monitor_loc, on='station')"
   ]
  },
  {
   "cell_type": "code",
   "execution_count": 14,
   "id": "optical-williams",
   "metadata": {
    "ExecuteTime": {
     "end_time": "2021-10-18T20:56:28.979251Z",
     "start_time": "2021-10-18T20:56:28.965254Z"
    }
   },
   "outputs": [],
   "source": [
    "groupby_cols = ['location','direction', 'daytype', 'hour']\n",
    "\n",
    "df_out = df_agg.groupby(groupby_cols).flow_avg.mean().reset_index()\n",
    "df_out.columns = groupby_cols + ['flow_avg']\n",
    "df_out['flow_avg'] = df_out['flow_avg'].round()"
   ]
  },
  {
   "cell_type": "code",
   "execution_count": 15,
   "id": "oriental-progress",
   "metadata": {
    "ExecuteTime": {
     "end_time": "2021-10-18T20:56:28.995252Z",
     "start_time": "2021-10-18T20:56:28.981253Z"
    }
   },
   "outputs": [],
   "source": [
    "df_out.to_csv(os.path.join(OUTDIR, 'cmp2021_pems_volumes.csv'), index=False)"
   ]
  }
 ],
 "metadata": {
  "kernelspec": {
   "display_name": "Python 3",
   "language": "python",
   "name": "python3"
  },
  "language_info": {
   "codemirror_mode": {
    "name": "ipython",
    "version": 3
   },
   "file_extension": ".py",
   "mimetype": "text/x-python",
   "name": "python",
   "nbconvert_exporter": "python",
   "pygments_lexer": "ipython3",
   "version": "3.6.5"
  },
  "toc": {
   "base_numbering": 1,
   "nav_menu": {},
   "number_sections": true,
   "sideBar": true,
   "skip_h1_title": false,
   "title_cell": "Table of Contents",
   "title_sidebar": "Contents",
   "toc_cell": false,
   "toc_position": {},
   "toc_section_display": true,
   "toc_window_display": true
  }
 },
 "nbformat": 4,
 "nbformat_minor": 5
}
